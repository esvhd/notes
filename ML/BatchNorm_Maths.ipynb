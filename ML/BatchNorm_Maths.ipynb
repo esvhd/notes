{
 "cells": [
  {
   "cell_type": "markdown",
   "metadata": {},
   "source": [
    "# Maths Details for Batch Norm Backprop\n",
    "\n",
    "This [post](http://cthorey.github.io./backpropagation/) showed some of the maths work behind **backproping through batch norm**.\n",
    "\n",
    "Here I produce my work following this article."
   ]
  },
  {
   "cell_type": "markdown",
   "metadata": {},
   "source": [
    "Notations:\n",
    "\n",
    "* Input minibatch: $X$, size $N \\times D$\n",
    "* Hidden Layer: $H$, with weights $\\mathit{w}$ of size $D \\times L$ and bias $\\mathit{b}$ of size $L$\n",
    "\n",
    "### Affine Transform:\n",
    "\n",
    "$$ h = XW + b, \\text{ size } = N\\times D \\cdot D \\times L + L = N \\times L + L = N \\times L$$\n",
    "\n",
    "### Batch Norm Transform:\n",
    "\n",
    "$$\n",
    "\\begin{aligned}\n",
    "\\hat{h} &= \\frac{h - \\mu}{\\sqrt{\\sigma^2 + \\delta}} &\\text{size } N \\times L \\\\\n",
    "y &= \\gamma \\hat{h} + \\beta &\\text{size } N \\times L\n",
    "\\end{aligned}\n",
    "$$\n",
    "\n",
    "where $\\gamma$ and $\\beta$ are learnt parameters. Both $\\mu$ and $\\sigma^2$ are vectors of $L$ size."
   ]
  },
  {
   "cell_type": "markdown",
   "metadata": {
    "collapsed": true
   },
   "source": [
    "For matrix $\\hat{h}$, each element is calculated as:\n",
    "\n",
    "$$\n",
    "\\begin{aligned}\n",
    "k &\\text{ - row index} \\\\\n",
    "l &\\text{ - column index} \\\\\n",
    "\\hat{h}_{kl} &= \\frac{h_{kl} - \\mu_l}{\\sqrt{\\sigma^2_l + \\delta}}\\\\\n",
    "y_{kl} &= \\gamma_l \\hat{h}_{kl} + \\beta_l \\\\\n",
    "\\mu_l &= \\frac{1}{N}\\sum_p h_{pl} \\\\\n",
    "\\sigma^2_l &= \\frac{1}{N} \\sum_p \\big( h_{pl} - \\mu_l \\big)^2\n",
    "\\end{aligned}\n",
    "$$"
   ]
  },
  {
   "cell_type": "markdown",
   "metadata": {},
   "source": [
    "This means that the normalization is done over columns of the minibatch matrix."
   ]
  },
  {
   "cell_type": "markdown",
   "metadata": {},
   "source": [
    "### Activation\n",
    "\n",
    "$$ a = ReLu(y) $$"
   ]
  },
  {
   "cell_type": "markdown",
   "metadata": {},
   "source": [
    "### Backprop\n",
    "\n",
    "Given loss function, $\\mathcal{L}$, we need to find: \n",
    "\n",
    "$$ \\frac{\\partial \\mathcal{L}}{d \\gamma}, \\frac{\\partial\\mathcal{L}}{d \\beta}, \\frac{\\partial \\mathcal{L}}{d h} $$"
   ]
  },
  {
   "cell_type": "markdown",
   "metadata": {},
   "source": [
    "With chain rule:\n",
    "\n",
    "$$  \\frac{\\partial\\mathcal{L}}{\\partial h_{ij}} = \\sum_{k,l} \\frac{\\partial\\mathcal{L}}{d y_{kl}} \\frac{d y_{kl}}{d \\hat{h}_{kl}} \\frac{d\\hat{h}_{kl}}{d h_{ij}} $$"
   ]
  },
  {
   "cell_type": "markdown",
   "metadata": {},
   "source": [
    "To derive this:\n",
    "\n",
    "$$\n",
    "\\begin{aligned}\n",
    "\\frac{d y_{kl}}{d \\hat{h}_{kl}} & = \\gamma_l \n",
    "\\end{aligned}\n",
    "$$"
   ]
  },
  {
   "cell_type": "markdown",
   "metadata": {},
   "source": [
    "**The last term is complicated, but let's look at it in two parts, using the [product rule](https://en.wikipedia.org/wiki/Product_rule).**\n",
    "\n",
    "Let's start by defining: \n",
    "\n",
    "$$\n",
    "\\begin{aligned}\n",
    "u &= h_{kl} - \\mu_l \\\\\n",
    "v &= (\\sigma^2_l + \\delta)^{-1/2} \\\\\n",
    "\\frac{\\partial u}{d h_{ij}} &= \\frac{\\partial(h_{kl} - \\frac{1}{N}\\sum_p h_{pl})}{d h_{ij}}\n",
    "\\end{aligned}\n",
    "$$\n",
    "\n",
    "where:\n",
    "\n",
    "$$\n",
    "u = h - \\mu = \n",
    " \\begin{pmatrix}\n",
    "  h_{1,1} - \\frac{1}{N}\\sum h_{p, 1} & h_{1,2} -\\frac{1}{N}\\sum h_{p,2} & \\cdots & h_{1,l} -\\frac{1}{N}\\sum h_{p,l} \\\\\n",
    "  \\vdots  & \\vdots  & \\ddots & \\vdots  \\\\\n",
    "  h_{N,1} - \\frac{1}{N}\\sum h_{p, 1} & h_{N,2} -\\frac{1}{N}\\sum h_{p,2} & \\cdots & h_{N,l} -\\frac{1}{N}\\sum h_{p,l} \n",
    " \\end{pmatrix}\n",
    "$$\n",
    "\n",
    "Therefore:\n",
    "\n",
    "$$ \n",
    "\\begin{aligned}\n",
    "u_{1,1} &= h_{1,1} - \\frac{1}{N}\\big(h_{1,1} + h_{2, 1} + \\cdots + h_{N, 1}\\big) \\\\\n",
    "\\frac{\\partial u_{1,1}}{\\partial h_{1,1}} &= 1 - \\frac{1}{N}(1 + 0 + 0 + \\cdots + 0)\n",
    "\\end{aligned}\n",
    "$$\n",
    "\n",
    "$$\n",
    "\\ \\frac{\\partial u}{\\partial h_{1,1}} = \n",
    " \\begin{pmatrix}\n",
    "  1 - \\frac{1}{N} & 0 & \\cdots & 0 \\\\\n",
    "  -\\frac{1}{N} & 0 & \\cdots & 0 \\\\\n",
    "  \\vdots  & \\vdots  & \\ddots & \\vdots  \\\\\n",
    "  -\\frac{1}{N} & 0 & \\cdots & 0 \n",
    " \\end{pmatrix}\n",
    "$$\n",
    "\n",
    "$$\n",
    "\\ \\frac{\\partial u}{\\partial h_{1,2}} = \n",
    " \\begin{pmatrix}\n",
    "  0 & 1 - \\frac{1}{N} & 0 & \\cdots & 0 \\\\\n",
    "  0 & -\\frac{1}{N} & 0 & \\cdots & 0 \\\\\n",
    "  \\vdots  & \\vdots  & \\ddots & \\vdots  \\\\\n",
    "  0 & -\\frac{1}{N} & 0 & \\cdots & 0 \n",
    " \\end{pmatrix}\n",
    "$$"
   ]
  },
  {
   "cell_type": "markdown",
   "metadata": {},
   "source": [
    "To generalize into a more convenient notation, we try to solve for: \n",
    "\n",
    "$$\\frac{\\partial u_{k,l}}{\\partial h_{i,j}}$$\n",
    "\n",
    "We know that: \n",
    "\n",
    "$$\n",
    "\\begin{aligned}\n",
    "\\frac{\\partial u_{1,1}}{\\partial h_{1,1}} &= 1 - \\frac{1}{N} & k=1, l=1, i=1, j=1\\\\\n",
    "\\frac{\\partial u_{1,2}}{\\partial h_{1,1}} &= 0 & k=1, l=2, i=1, j=2\\\\\n",
    "\\frac{\\partial u_{2,1}}{\\partial h_{1,1}} &= -\\frac{1}{N} & k=2, l=1, i=1, j=1\\\\\n",
    "\\frac{\\partial u_{2,1}}{\\partial h_{1,2}} &= 0 & k=2, l=1, i=1, j=2\\\\\n",
    "\\frac{\\partial u_{1,2}}{\\partial h_{1,2}} &= 1 - \\frac{1}{N} & k=1, l=2, i=1, j=2\\\\\n",
    "\\end{aligned}\n",
    "$$\n",
    "\n",
    "We have:\n",
    "\n",
    "$$\n",
    "\\begin{aligned}\n",
    "\\frac{\\partial u_{k,l}}{\\partial h_{i,j}} =\n",
    "    \\begin{cases}\n",
    "    k == i, l == j: 1 - \\frac{1}{N} \\\\\n",
    "    k != i, l == j: - \\frac{1}{N} \\\\\n",
    "    k == i, l != j: 0 \\\\\n",
    "    k != i, l != j: 0 \\\\\n",
    "    \\end{cases}\n",
    "\\end{aligned}\n",
    "$$\n",
    "\n",
    "A more convenient way to write this is to use:\n",
    "\n",
    "$$\n",
    "\\begin{aligned}\n",
    "\\Delta_{i,j} = \n",
    "\\begin{cases}\n",
    "1, i == j \\\\\n",
    "0, i <> j\n",
    "\\end{cases}\n",
    "\\end{aligned}\n",
    "$$\n",
    "\n",
    "$$ \\frac{\\partial u_{k,l}}{\\partial h_{i,j}} = \\Delta_{i,k}\\Delta_{j,l} - \\frac{1}{N}\\Delta_{j,l} $$"
   ]
  },
  {
   "cell_type": "markdown",
   "metadata": {},
   "source": [
    "Product Rule: $ (f \\cdot g)' = f' \\cdot g + f \\cdot g'$\n",
    "\n",
    "$$\n",
    "\\begin{aligned}\n",
    "\\frac{\\partial v}{\\partial h_{i,j}} &= -\\frac{1}{2}(\\sigma^2_l + \\delta)^{-3/2} \\cdot \\frac{\\partial \\sigma^2_l}{\\partial h_{i,j}} \\\\\n",
    "\\frac{\\partial \\sigma^2_l}{\\partial h_{i,j}} &= \\frac{2}{N} \\sum_p (h_{p,l} - \\mu_l)(\\Delta_{i,p}\\Delta_{j,l} - \\frac{1}{N}\\Delta_{j,l}) \\\\\n",
    "&= \\frac{2}{N}(h_{i,l} - \\mu_l)\\Delta_{j,l}\n",
    "\\end{aligned}\n",
    "$$"
   ]
  },
  {
   "cell_type": "markdown",
   "metadata": {},
   "source": [
    "**This is better understood when we write out some concrete examples.**\n",
    "\n",
    "$$\n",
    "\\begin{aligned}\n",
    "\\sigma^2_l &= \\frac{1}{N} \\sum_p \\big(h_{pl} - \\mu_l \\big)^2 \\\\\n",
    "\\sigma^2_l &= \\frac{1}{N} \\sum_p u_p^2 \\\\\n",
    "\\frac{\\partial \\sigma^2_l}{\\partial h_{i,j}} &= \\frac{2}{N} \\sum_p u_p \\cdot \\frac{\\partial u_p}{\\partial h_{i,j}} \\\\\n",
    "\\sigma^2_1 &= \\frac{1}{N} \\big[ (h_{1,1}-\\mu_1)^2 + (h_{2,1}-\\mu_1)^2 + \\cdots + (h_{N,1}-\\mu_1)^2 \\big] \\\\\n",
    "\\frac{\\partial \\sigma^2_1}{\\partial h_{1,1}} &= \\frac{2}{N} \\big[ (h_{1,1} - \\mu_1)(1 - 1/N) + (h_{2,1} - \\mu_1)(0 - 1/N) + \\cdots + (h_{N,1} - \\mu_1)(0 - 1/N) \\\\\n",
    "&= \\frac{2}{N^2} \\big[ (h_{1,1} - \\mu_1)(N - 1) + (h_{2,1} - \\mu_1)(-1) + \\cdots + (h_{N,1} - \\mu_1)(-1) \\big]\\\\\n",
    "&= \\frac{2}{N^2} \\big[ (h_{1,1} - \\mu_1)(N - 1) + (\\mu_1 - h_{2,1}) + \\cdots + (\\mu_1- h_{N,1}) \\big]\\\\\n",
    "&= \\frac{2}{N^2} \\big[ h_{1,1}N - h_{1,1} - N\\mu_1 + \\mu_1 + (N-1)\\mu_1 - h_{2,1} \\cdots - h_{N,1} \\big]\\\\\n",
    "&= \\frac{2}{N^2} \\big[ h_{1,1}N - N\\mu_1\\big]\\\\\n",
    "&= \\frac{2}{N}(h_{1,1}-\\mu_1)\n",
    "\\end{aligned}\n",
    "$$"
   ]
  },
  {
   "cell_type": "markdown",
   "metadata": {},
   "source": [
    "$$\n",
    "\\begin{aligned}\n",
    "\\sigma^2_2 &= \\frac{1}{N} \\big[ (h_{1,2}-\\mu_2)^2 + (h_{2,2}-\\mu_2)^2 + \\cdots + (h_{N,2}-\\mu_2)^2 \\big] \\\\\n",
    "\\frac{\\partial \\sigma^2_2}{\\partial h_{1,1}} &= \\frac{1}{N} \\big[ 0 + 0 + \\cdots + 0 \\big] \\\\\n",
    "&= 0\n",
    "\\end{aligned}\n",
    "$$"
   ]
  },
  {
   "cell_type": "markdown",
   "metadata": {},
   "source": [
    "$$\n",
    "\\begin{aligned}\n",
    "\\sigma^2_2 &= \\frac{1}{N} \\big[ (h_{1,2}-\\mu_2)^2 + (h_{2,2}-\\mu_2)^2 + \\cdots + (h_{N,2}-\\mu_2)^2 \\big] \\\\\n",
    "\\frac{\\partial \\sigma^2_2}{\\partial h_{2,2}} &= \\frac{2}{N} \\big[ (h_{1,2}-\\mu_2)(0-1/N) + (h_{2,2}-\\mu_2)(1-1/N) + \\cdots + (h_{N,2}-\\mu_2)(0-1/N) \\big] \\\\\n",
    "&= \\frac{2}{N^2}\\big[(\\mu_2 - h_{1,2}) + (h_{2,2}N - h_{2,2}-N\\mu_2 + \\mu_2) + (\\mu_2 - h_{3,2}) + \\cdots + (\\mu_2 - h_{N,2}) \\big]\\\\\n",
    "&= \\frac{2}{N^2}\\big[N\\mu_2 - N\\mu_2 + h_{2,2}N -N\\mu_2 \\big]\\\\\n",
    "&= \\frac{2}{N}(h_{2,2}-\\mu_2)\n",
    "\\end{aligned}\n",
    "$$"
   ]
  },
  {
   "cell_type": "markdown",
   "metadata": {},
   "source": [
    "Finally, we have:\n",
    "\n",
    "$$\n",
    "\\begin{aligned}\n",
    "\\frac{\\partial \\hat{h}_{k,l}}{\\partial h_{i,j}} &= u' \\cdot v + u \\cdot v' \\\\\n",
    "&= (\\Delta_{i,k}\\Delta_{j,l} - \\frac{1}{N}\\Delta_{j,l})(\\sigma^2_l + \\delta)^{-1/2} -\\frac{1}{N}(h_{kl} - \\mu_l)(\\sigma^2_l + \\delta)^{-3/2}(h_{i,l} - \\mu_l)\\Delta_{j,l}\n",
    "\\end{aligned}\n",
    "$$"
   ]
  },
  {
   "cell_type": "markdown",
   "metadata": {},
   "source": [
    "Now we have all the elements needed for $\\frac{\\partial\\mathcal{L}}{\\partial h_{ij}}$"
   ]
  },
  {
   "cell_type": "code",
   "execution_count": null,
   "metadata": {
    "collapsed": true
   },
   "outputs": [],
   "source": []
  }
 ],
 "metadata": {
  "kernelspec": {
   "display_name": "Python 3",
   "language": "python",
   "name": "python3"
  },
  "language_info": {
   "codemirror_mode": {
    "name": "ipython",
    "version": 3
   },
   "file_extension": ".py",
   "mimetype": "text/x-python",
   "name": "python",
   "nbconvert_exporter": "python",
   "pygments_lexer": "ipython3",
   "version": "3.6.1"
  }
 },
 "nbformat": 4,
 "nbformat_minor": 2
}
