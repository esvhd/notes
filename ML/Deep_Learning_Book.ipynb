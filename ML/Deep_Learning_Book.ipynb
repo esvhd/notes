{
 "cells": [
  {
   "cell_type": "markdown",
   "metadata": {
    "deletable": true,
    "editable": true
   },
   "source": [
    "# Deep Learning Notes\n",
    "\n",
    "by zwl\n",
    "\n",
    "Creative Commons License"
   ]
  },
  {
   "cell_type": "code",
   "execution_count": 1,
   "metadata": {
    "collapsed": true,
    "deletable": true,
    "editable": true
   },
   "outputs": [],
   "source": [
    "import numpy as np\n",
    "import matplotlib.pyplot as plt\n",
    "%matplotlib inline"
   ]
  },
  {
   "cell_type": "markdown",
   "metadata": {},
   "source": [
    "## Essential Formulae\n",
    "\n",
    "Definitions first:\n",
    "\n",
    "### Logistic Sigmoid\n",
    "\n",
    "$$ \\sigma(x) = \\frac{1}{1 + e^{-x}} $$"
   ]
  },
  {
   "cell_type": "code",
   "execution_count": 13,
   "metadata": {
    "collapsed": false
   },
   "outputs": [
    {
     "data": {
      "text/plain": [
       "[<matplotlib.lines.Line2D at 0x11aeb4400>]"
      ]
     },
     "execution_count": 13,
     "metadata": {},
     "output_type": "execute_result"
    },
    {
     "data": {
      "image/png": "[encoded data removed]",
      "text/plain": [
       "<matplotlib.figure.Figure at 0x11adc0748>"
      ]
     },
     "metadata": {},
     "output_type": "display_data"
    }
   ],
   "source": [
    "def sigmoid(x):\n",
    "    return 1. / (1 + np.exp(-x))\n",
    "\n",
    "n = np.linspace(-10, 10, 50)\n",
    "out = sigmoid(n)\n",
    "\n",
    "plt.plot(n, out)"
   ]
  },
  {
   "cell_type": "markdown",
   "metadata": {},
   "source": [
    "### Softplus\n",
    "\n",
    "$$ \\zeta(x) = \\log(1 + e^x) $$"
   ]
  },
  {
   "cell_type": "code",
   "execution_count": 14,
   "metadata": {
    "collapsed": false
   },
   "outputs": [
    {
     "data": {
      "text/plain": [
       "[<matplotlib.lines.Line2D at 0x11abea2b0>]"
      ]
     },
     "execution_count": 14,
     "metadata": {},
     "output_type": "execute_result"
    },
    {
     "data": {
      "image/png": "[encoded data removed]",
      "text/plain": [
       "<matplotlib.figure.Figure at 0x11aef2080>"
      ]
     },
     "metadata": {},
     "output_type": "display_data"
    }
   ],
   "source": [
    "def softplus(x):\n",
    "    return np.log(1 + np.exp(x))\n",
    "\n",
    "n = np.linspace(-10, 10, 50)\n",
    "out = softplus(n)\n",
    "\n",
    "plt.plot(n, out)"
   ]
  },
  {
   "cell_type": "markdown",
   "metadata": {
    "deletable": true,
    "editable": true
   },
   "source": [
    "## Properties of Sigmoid & Softplus functions\n",
    "Derivations for Page 67 formulae. "
   ]
  },
  {
   "cell_type": "markdown",
   "metadata": {
    "deletable": true,
    "editable": true
   },
   "source": [
    "### 3.33. \n",
    "\n",
    "$$\n",
    "\\begin{aligned}\n",
    "\\sigma(x) =& \\frac{e^x}{e^x} \\times \\frac{1}{1 + e^{-x}} \\\\\n",
    "=& \\frac{e^x}{e^x(1 + e^{-x})} \\\\\n",
    "=& \\frac{e^x}{e^x + 1}\n",
    "\\end{aligned}\n",
    "$$"
   ]
  },
  {
   "cell_type": "markdown",
   "metadata": {
    "deletable": true,
    "editable": true
   },
   "source": [
    "### 3.34. \n",
    "\n",
    "Let $y = e^{-x}$, $z = 1 + y$, then we have $\\sigma(x) = z^{-1} $.\n",
    "\n",
    "$$\n",
    "\\begin{aligned}\n",
    "\\frac{d}{dx}\\sigma(x) =& \\frac{d\\sigma}{dz} \\times \\frac{dz}{dy} \\times \\frac{dy}{dx} \\\\\n",
    "=& -z^{-2} \\times 1 \\times -e^{-x} \\\\\n",
    "=& -(1 + e^{-1})^{-2} \\times -e^{-x} \\\\\n",
    "=& \\frac{e^{-x}}{(1 + e^{-1})^{2}} \\\\\n",
    "=& \\frac{1}{1 + e^{-1}} \\times \\frac{e^{-x}}{1 + e^{-1}} \\\\\n",
    "=& \\sigma(x) (1-\\sigma(x))\n",
    "\\end{aligned}\n",
    "$$"
   ]
  },
  {
   "cell_type": "markdown",
   "metadata": {
    "deletable": true,
    "editable": true
   },
   "source": [
    "### 3.35.\n",
    "\n",
    "$$\n",
    "\\begin{aligned}\n",
    "1 - \\sigma(x) =& 1 - \\frac{1}{1 + e^{-x}}\\\\\n",
    "=& \\frac{1 + e^{-x} - 1}{1 + e^{-x}} \\\\\n",
    "=& \\frac{e^{-x}}{1 + e^{-x}} \\\\\n",
    "=& \\frac{1}{e^x + 1} \\\\\n",
    "=& \\sigma(-x)\n",
    "\\end{aligned}\n",
    "$$"
   ]
  },
  {
   "cell_type": "markdown",
   "metadata": {
    "deletable": true,
    "editable": true
   },
   "source": [
    "### 3.36.\n",
    "\n",
    "$$\n",
    "\\begin{aligned}\n",
    "\\log(\\sigma(x)) &= \\log\\big(\\frac{1}{1 + e^{-x}}\\big) \\\\\n",
    "&= \\log(1) - \\log(1 + e^{-x}) \\\\\n",
    "&= -\\log(1 + e^{-x}) \\\\\n",
    "&= -\\zeta(-x)\n",
    "\\end{aligned}\n",
    "$$"
   ]
  },
  {
   "cell_type": "markdown",
   "metadata": {
    "deletable": true,
    "editable": true
   },
   "source": [
    "### 3.37.\n",
    "\n",
    "Let $u = 1 + e^x$, hence $\\zeta(x) = \\log(u)$, then\n",
    "\n",
    "$$\n",
    "\\begin{aligned}\n",
    "\\frac{d}{dx}\\zeta(x) =& \\frac{d\\zeta}{du} \\times \\frac{du}{dx} \\\\\n",
    "&= \\frac{1}{u} \\times e^x \\\\\n",
    "&= \\frac{e^x}{1 + e^x} \\\\\n",
    "&= \\frac{1}{e^{-x} + 1} \\\\\n",
    "&= \\sigma(x)\n",
    "\\end{aligned}\n",
    "$$"
   ]
  },
  {
   "cell_type": "markdown",
   "metadata": {
    "deletable": true,
    "editable": true
   },
   "source": [
    "### 3.38.\n",
    "\n",
    "**Logit function**, for $ \\forall x \\in (0, 1)$:\n",
    "\n",
    "$$ \\sigma^{-1}(x) = \\log\\bigg(\\frac{x}{1-x}\\bigg) $$\n",
    "\n",
    "Here the power of -1 does not mean reciprical, but the **inverse**. Eg. given $\\sigma(x)$, find $x$. \n",
    "\n",
    "$$\n",
    "\\begin{aligned}\n",
    "\\sigma(x) &= \\frac{1}{1 + e^{-x}} \\\\\n",
    "1 + e^{-x} &= \\frac{1}{\\sigma(x)} \\\\\n",
    "e^{-x} &= \\frac{1}{\\sigma(x)} - 1 \\\\\n",
    "-x &= \\log\\bigg(\\frac{1-\\sigma(x)}{\\sigma(x)}\\bigg) \\\\\n",
    "x &= -\\log\\bigg(\\frac{1-\\sigma(x)}{\\sigma(x)}\\bigg) \\\\\n",
    "x &= \\log\\bigg(\\frac{\\sigma(x)}{1-\\sigma(x)}\\bigg)\n",
    "\\end{aligned}\n",
    "$$"
   ]
  },
  {
   "cell_type": "code",
   "execution_count": 8,
   "metadata": {
    "collapsed": false,
    "deletable": true,
    "editable": true
   },
   "outputs": [
    {
     "data": {
      "text/plain": [
       "0.40546510810816422"
      ]
     },
     "execution_count": 8,
     "metadata": {},
     "output_type": "execute_result"
    }
   ],
   "source": [
    "def sigmoid(x):\n",
    "    return 1. / (1 + np.exp(-x))\n",
    "\n",
    "def logit(x):\n",
    "    return np.log(x / (1.-x))\n",
    "\n",
    "logit(.6)"
   ]
  },
  {
   "cell_type": "code",
   "execution_count": 12,
   "metadata": {
    "collapsed": false,
    "deletable": true,
    "editable": true
   },
   "outputs": [
    {
     "data": {
      "text/plain": [
       "0.59999999999999998"
      ]
     },
     "execution_count": 12,
     "metadata": {},
     "output_type": "execute_result"
    }
   ],
   "source": [
    "sigmoid(logit(.6))"
   ]
  },
  {
   "cell_type": "markdown",
   "metadata": {
    "deletable": true,
    "editable": true
   },
   "source": [
    "### 3.39.\n",
    "\n",
    "Inverse of $\\zeta(x)$, let $u=\\zeta(x)$:\n",
    "\n",
    "$$\n",
    "\\begin{aligned}\n",
    "u &= \\log(1 + e^x) \\\\\n",
    "e^u &= 1 + e^x \\\\\n",
    "e^x &= e^u - 1 \\\\\n",
    "\\forall x &> 0 \\text{, take log on both sides} \\\\\n",
    "x &= \\log\\big( e^u -1 \\big)\n",
    "\\end{aligned}\n",
    "$$"
   ]
  },
  {
   "cell_type": "markdown",
   "metadata": {
    "deletable": true,
    "editable": true
   },
   "source": [
    "### 3.40.\n",
    "\n",
    "$$\n",
    "\\begin{aligned}\n",
    "\\int^{x}_{-\\infty} \\sigma(y)dy &= \\int^{x}_{-\\infty} \\frac{1}{1 + e^{-y}} \\\\\n",
    "&= \\log \\big \\lvert 1 + e^{-y} \\big \\rvert + y \\\\\n",
    "&= \\log \\big ( \\frac{e^y + 1}{e^y} \\big ) + y \\\\\n",
    "&= \\log(e^y + 1) - \\log(e^y) + y \\\\\n",
    "&= \\log(e^y + 1)\n",
    "\\end{aligned}\n",
    "$$\n",
    "\n",
    "Key here is the integration part. Results can be checked with `SymPy`. Or, to reverse that back:\n",
    "\n",
    "$$\n",
    "\\begin{aligned}\n",
    "\\frac{d}{dx}\\big(\\log(1 + e^{-x}) + x\\big) &= \\frac{1}{1+e^{-x}} \\times -e^{-x} + 1 \\\\\n",
    "&= \\frac{1 + e^{-x} - e^{-x}}{1 + e^{-x}} \\\\\n",
    "&= \\sigma(x)\n",
    "\\end{aligned}\n",
    "$$"
   ]
  },
  {
   "cell_type": "code",
   "execution_count": 14,
   "metadata": {
    "collapsed": true,
    "deletable": true,
    "editable": true
   },
   "outputs": [],
   "source": [
    "import sympy as spy"
   ]
  },
  {
   "cell_type": "code",
   "execution_count": 16,
   "metadata": {
    "collapsed": false,
    "deletable": true,
    "editable": true
   },
   "outputs": [
    {
     "data": {
      "text/plain": [
       "y + log(1 + exp(-y))"
      ]
     },
     "execution_count": 16,
     "metadata": {},
     "output_type": "execute_result"
    }
   ],
   "source": [
    "y = spy.Symbol('y')\n",
    "\n",
    "spy.integrate(1 / (1 + spy.exp(-y)))"
   ]
  },
  {
   "cell_type": "code",
   "execution_count": 17,
   "metadata": {
    "collapsed": false,
    "deletable": true,
    "editable": true,
    "scrolled": true
   },
   "outputs": [
    {
     "data": {
      "text/plain": [
       "exp(-y)/(1 + exp(-y))**2"
      ]
     },
     "execution_count": 17,
     "metadata": {},
     "output_type": "execute_result"
    }
   ],
   "source": [
    "spy.diff(1 / (1 + spy.exp(-y)))"
   ]
  },
  {
   "cell_type": "code",
   "execution_count": 18,
   "metadata": {
    "collapsed": false,
    "deletable": true,
    "editable": true
   },
   "outputs": [
    {
     "data": {
      "text/plain": [
       "1 - exp(-y)/(1 + exp(-y))"
      ]
     },
     "execution_count": 18,
     "metadata": {},
     "output_type": "execute_result"
    }
   ],
   "source": [
    "spy.diff(y + spy.log(1 + spy.exp(-y)))"
   ]
  },
  {
   "cell_type": "markdown",
   "metadata": {
    "deletable": true,
    "editable": true
   },
   "source": [
    "### 3.41\n",
    "\n",
    "$$\n",
    "\\begin{aligned}\n",
    "\\zeta(x)-\\zeta(-x) &= \\log(1 + e^x) - \\log(1 + e^{-x}) \\\\\n",
    "&= \\log\\bigg(\\frac{1 + e^x}{1 + e^{-x}}\\bigg) \\\\\n",
    "&= \\log\\bigg(\\frac{e^{-x}(1 + e^x)}{e^{-x}(1 + e^{-x})}\\bigg) \\\\\n",
    "&= \\log\\bigg(\\frac{e^{-x} + 1}{e^{-x}(1 + e^{-x})}\\bigg) \\\\\n",
    "&= \\log\\bigg(\\frac{1}{e^{-x}}\\bigg) \\\\\n",
    "&= \\log(e^x) \\\\\n",
    "&= x\n",
    "\\end{aligned}\n",
    "$$"
   ]
  },
  {
   "cell_type": "markdown",
   "metadata": {
    "collapsed": true,
    "deletable": true,
    "editable": true
   },
   "source": [
    "## Derivatives"
   ]
  },
  {
   "cell_type": "markdown",
   "metadata": {
    "deletable": true,
    "editable": true
   },
   "source": [
    "### Softmax Function, p78\n",
    "\n",
    "$$ softmax(x)_i = \\frac{\\exp(x_i)}{\\sum_{j=1}^{n} \\exp(x_j)} $$\n",
    "\n",
    "Overflow when $x_i$ is very large, underflow when $x_i$ is very negative. Solution is to use $softmax(z)$, where:\n",
    "$z = x - max_i x_i$."
   ]
  },
  {
   "cell_type": "markdown",
   "metadata": {
    "deletable": true,
    "editable": true
   },
   "source": [
    "### Poor Conditioning\n",
    "\n",
    "Given function $f(x) = A^{-1}x. When $A \\in \\mathbb{R}^{n\\times n} has an **eigenvalue decomposition**, its **condition number** is:\n",
    "\n",
    "$$ \\max_{i,j} \\bigg \\lvert \\frac{\\lambda_i}{\\lambda_j} \\bigg \\rvert $$\n",
    "\n",
    "I.e. Ratio of largest and smallest eigenvalues.\n",
    "\n",
    "Poor conditioning makes choosing a good optimization step size difficult."
   ]
  },
  {
   "cell_type": "markdown",
   "metadata": {
    "deletable": true,
    "editable": true
   },
   "source": [
    "## Hessian Matrix & Min/Max/Saddle Points\n",
    "\n",
    "At a **critical point** where $\\triangledown_x f(x) = 0$:\n",
    "\n",
    "* **Local minimum** if the Hessian matrix is **positive definite** (i.e. all of its eigenvalues are positive).\n",
    "* **local maximum** if the Hessian matrix is **negative definite** (i.e. all of its eigenvalues are negative).\n",
    "* **Inconclusive** if all non-zero eigenvalues have the same sign but **at least one eigenvalue is zero**.\n",
    "\n"
   ]
  },
  {
   "cell_type": "markdown",
   "metadata": {
    "collapsed": true,
    "deletable": true,
    "editable": true
   },
   "source": [
    "# Chapter 5\n",
    "\n",
    "**Representational Capacity**, p110, The model specifis which family of functions the learning algorithm can choose from when varying the parameters in order to reduce a training objective. \n",
    "\n",
    "**Effective Capacity** can be limited by imperfections of the optimization algorithm, which means it may be less than the representational capacity.\n",
    "\n",
    "## Vapnik-Chervonenkis (VC) Dimension, p111\n",
    "\n",
    "VC dimension measres the capacity of a binary classifier. Defined as being the lagest possible value of $m$ for which there exists a training set of $m$ different $x$ points that the classifier can label arbitrarily.\n",
    "\n",
    "The most important results in statistical learning theory show that the discrepancy between the trainnig error and generalization error is bounded from above by a quantity that grows as the model capacity grows but shrinks as the number of traning examples increase. \n",
    "\n",
    "However, this is rarely used in practice when working with deep learning algos. Because:\n",
    "* it can be quite difficult to determine the capacity of deal learning algos.\n",
    "* The problem of determining the capacity of deep learning models is especially difficult because the effective capacity is limited by the capabilities of the optimization algorithm. \n",
    "* we have little theoretical understanding of the general non-convex optimization problems involved in deep learning.\n",
    "\n",
    "Typically training error decreases until it asymptotes to the minimum possible error value as model capacity increases (assuming the error measure has a minimum value); generalization error typically has a U-shaped curve as a function of model capacity.\n",
    "\n",
    "**No Free Lunch theorem**: averaged over all possible data-generating distributions, every classification algothrim has the same error rate when classifying previously unobserved points. \n",
    "\n",
    "**Goal** is to understand what kind of distributions are relevant to the real world that an AI agent experiences, and what kind of machine learning algorithem perform well on data drawn from the kinds of data-generating distributions we care about."
   ]
  },
  {
   "cell_type": "markdown",
   "metadata": {
    "deletable": true,
    "editable": true
   },
   "source": [
    "## Estimator, Bias and Variance\n",
    "\n",
    "Sample variance, unbiased sample variance, both underestimates the true standard deviation but are still used in practice. Unbiased sample variance is less of an underestimate. For large sample size $m$, the approximation is quite reasonable.\n",
    "\n",
    "## Maximum Likelihood Estimation\n",
    "\n",
    "$$\n",
    "\\begin{aligned}\n",
    "\\theta_{ML} &= \\underset{\\theta}{\\operatorname{arg max}} p_{model}(\\mathbb{X}; \\theta) \\\\\n",
    "&= \\underset{\\theta}{\\operatorname{arg max}}\\Pi_{i=1}^{m}p_{model}(x^{(i)}; \\theta) \\\\\n",
    "&= \\underset{\\theta}{\\operatorname{arg max}}\\sum_{i=1}^m \\log p_{model}(x^{(i)}; \\theta) \\\\\n",
    "D_{KL}(\\hat{p}_{data} \\lVert p_{model}) &= \\mathbb{E}_{x \\sim \\hat{p}_{data}} \\bigg[ \\log \\hat{p}_{data}(x) - \\log p_{model}(x)\\bigg] \\\\\n",
    "\\end{aligned}\n",
    "$$\n",
    "\n",
    "Therefore minimizing KL divergence corresponds exactly to minimzing the cross-entropy between the distributions.\n",
    "\n",
    "**Appropriate Conditions** for maximum likelihood estimator to have the property of **consistency**:\n",
    "\n",
    "* The true distribution $p_{data}$ must lie within the model family $p_{model}(.;\\theta)$, otherwise, no estimator can recover $p_{data}$.\n",
    "\n",
    "* The true distribution $p_{data}$ must corresond to example one value of $\\theta$. Otherwise maximum likelihood can recover the correct $p_{data}$ but will not be able to determine which value of $\\theta$ was used by the data-generating process.\n",
    "\n",
    "For large sample size $m$, the **Cramer-Rao lower bound** shows that no consistent estimator has a lower Mean Square Error than the maximum likelihood estimator.'"
   ]
  },
  {
   "cell_type": "markdown",
   "metadata": {
    "collapsed": true,
    "deletable": true,
    "editable": true
   },
   "source": [
    "## Linear Regression as Maximum Likelihood, p130\n",
    "\n",
    "Gaussian PDF:\n",
    "\n",
    "$$ PDF(x) = \\frac{1}{\\sqrt{2\\pi\\sigma^2}}\\exp\\bigg(-\\frac{(x-\\mu)^2}{2\\sigma^2}\\bigg) $$"
   ]
  },
  {
   "cell_type": "markdown",
   "metadata": {
    "deletable": true,
    "editable": true
   },
   "source": [
    "Conditional log-likilihood derivation:\n",
    "\n",
    "$$\n",
    "\\begin{aligned}\n",
    "&\\sum_{i=1}^{m}\\log p(y^{(i)} \\mid x^{(i)};\\theta) \\\\\n",
    "=&\\sum_{i=1}^{m}\\log\\bigg[\\big(2\\pi\\sigma^2\\big)^{-1/2}\\exp\\bigg(-\\frac{\\lVert\\hat{y}^{(i)}-y^{(i)}\\rVert^2}{2\\sigma^2}\\bigg)\\bigg] \\\\\n",
    "=& \\sum_{i=1}^{m}\\bigg\\{-\\frac{1}{2}\\log\\big(2\\pi\\sigma^2\\big) + \\log\\bigg[\\exp\\bigg(-\\frac{\\lVert\\hat{y}^{(i)}-y^{(i)}\\rVert^2}{2\\sigma^2}\\bigg)\\bigg]\\bigg\\} \\\\\n",
    "=&\\sum_{i=1}^{m}\\bigg(-\\frac{1}{2}\\log\\big(2\\pi\\sigma^2\\big)\\bigg) - \\sum_{i=1}^{m}\\frac{\\lVert\\hat{y}^{(i)}-y^{(i)}\\rVert^2}{2\\sigma^2} \\\\\n",
    "=& -\\frac{m}{2}\\log\\big( 2\\pi \\big) - m\\log\\sigma - \\sum_{i=1}^{m}\\frac{\\lVert\\hat{y}^{(i)}-y^{(i)}\\rVert^2}{2\\sigma^2} \\\\\n",
    "\\end{aligned}\n",
    "$$"
   ]
  },
  {
   "cell_type": "markdown",
   "metadata": {
    "deletable": true,
    "editable": true
   },
   "source": [
    "## Bayesian Regression, p134\n",
    "\n",
    "Likelihood:\n",
    "\n",
    "$$ p(y \\mid X, w) \\propto \\exp\\bigg[-\\frac{1}{2}\\big(y-Xw\\big)^T \\big(y-Xw\\big)\\bigg] $$\n",
    "\n",
    "Prior:\n",
    "\n",
    "$$ p(w) \\propto \\exp\\bigg[ -\\frac{1}{2}(w-\\mu_0)^T\\Lambda^{-1}_{0}(w-\\mu_0) \\bigg] $$"
   ]
  },
  {
   "cell_type": "markdown",
   "metadata": {
    "deletable": true,
    "editable": true
   },
   "source": [
    "Posterior:\n",
    "\n",
    "$$\n",
    "\\begin{aligned}\n",
    "p(w \\mid X, y) &\\propto p(y \\mid X, w)p(w) \\\\\n",
    "&\\propto \\exp\\bigg[-\\frac{1}{2}\\big(y-Xw\\big)^T \\big(y-Xw\\big)\\bigg] \\exp\\bigg[ -\\frac{1}{2}(w-\\mu_0)^T\\Lambda^{-1}_{0}(w-\\mu_0)\\bigg] \\\\\n",
    "&\\propto \\exp\\bigg\\{ -\\frac{1}{2} \\bigg[ y^Ty - y^TXw - w^T X^T y + w^T X^T X w  + w^T \\Lambda^{-1}_{0}w - w^T\\Lambda^{-1}_{0}\\mu_0 -\\mu^T_0 \\Lambda^{-1}_{0}w + \\mu^T_0 \\Lambda^{-1}_{0}\\mu_0 \\bigg] \\bigg\\} \\\\\n",
    "\\because &\\text{ } y^TXw = w^T X^T y,\\text{ } \\mu^T_0 \\Lambda^{-1}_{0} w = w^T \\Lambda^{-1}_{0}\\mu_0 \\\\\n",
    "\\because &\\text{ terms without } w \\text{ can be ignored} \\\\\n",
    "&\\propto \\exp\\bigg\\{ -\\frac{1}{2} \\bigg[-2y^TXw + w^T X^T X w  + w^T \\Lambda^{-1}_{0}w - 2\\mu^T_0 \\Lambda^{-1}_{0}w \\bigg] \\bigg\\} \\\\\n",
    "\\end{aligned}\n",
    "$$"
   ]
  },
  {
   "cell_type": "markdown",
   "metadata": {
    "deletable": true,
    "editable": true
   },
   "source": [
    "By setting:\n",
    "$$\n",
    "\\begin{aligned}\n",
    "\\Lambda_m &= \\big(X^T X + \\Lambda^{-1}_0\\big)^{-1} \\\\\n",
    "\\mu_m &= \\Lambda_m \\big(X^T y + \\Lambda^{-1}_0 \\mu_0\\big) \\\\\n",
    "& \\therefore \\\\\n",
    "\\mu^T_m &= \\big(X^T y + \\Lambda^{-1}_0\\mu_0\\big)^T \\Lambda^T_m  \\\\\n",
    "\\end{aligned}\n",
    "$$\n",
    "\n",
    "Also note $\\Lambda^T_m = \\Lambda_m$ as $\\Lambda_m = diag(\\lambda_m)$."
   ]
  },
  {
   "cell_type": "markdown",
   "metadata": {
    "deletable": true,
    "editable": true
   },
   "source": [
    "Rewrite posterior:\n",
    "$$\n",
    "\\begin{aligned}\n",
    "p(w \\mid X, y) &\\propto \\exp\\bigg(-\\frac{1}{2}\\big(w - \\mu_m\\big)^T \\Lambda^{-1}_m \\big(w - \\mu_m\\big)\\bigg) \\\\\n",
    "&\\propto \\exp\\bigg\\{-\\frac{1}{2}\\bigg[ w^T\\big(X^T X + \\Lambda^{-1}_0\\big)w - w^T\\Lambda^{-1}_m\\Lambda_m \\big(X^T y + \\Lambda^{-1}_0\\mu_0 \\big) -\\big(X^T y + \\Lambda^{-1}_0\\mu_0 \\big)^T\\Lambda^T_m\\Lambda^{-1}_m w \\bigg]\\bigg\\} \\\\\n",
    "&\\propto \\exp\\bigg\\{-\\frac{1}{2}\\bigg[ w^T X^T X w + w^T \\Lambda^{-1}_0 w - w^T X^T y - w^T \\Lambda^{-1}_0\\mu_0 - y^T Xw - \\mu^T_0 \\Lambda^{-1}_0 w \\bigg]\\bigg\\} \\\\\n",
    "&\\propto \\exp\\bigg\\{-\\frac{1}{2}\\bigg[ w^T X^T X w + w^T \\Lambda^{-1}_0 w - 2 y^T Xw - 2 \\mu^T_0 \\Lambda^{-1}_0 w \\bigg]\\bigg\\}\n",
    "\\end{aligned}\n",
    "$$"
   ]
  },
  {
   "cell_type": "markdown",
   "metadata": {
    "deletable": true,
    "editable": true
   },
   "source": [
    "If we set $\\mu_0 = 0$, $\\Lambda_0 = \\frac{1}{\\alpha} I$, flat prior for covariance:\n",
    "\n",
    "$$ p(w \\mid X, y) \\propto \\exp\\bigg\\{-\\frac{1}{2}\\bigg[ w^T X^T X w + w^T \\alpha I w - 2 y^T X w \\bigg]\\bigg\\} $$\n",
    "\n",
    "This is the form of **ridge regression**, weight decay term $\\alpha w^T w$."
   ]
  },
  {
   "cell_type": "markdown",
   "metadata": {
    "deletable": true,
    "editable": true
   },
   "source": [
    "## Supervised Learning Algorithms\n",
    "\n",
    "### K-Nearest Neighbour\n",
    "* k-nearest neighbour can achieve high capacity. Enables it to obtain high accuracy given a large training set.\n",
    "* this comes with computational costs\n",
    "* may generalize very badly given a small training set. \n",
    "* It cannot learn that one feature is more discriminative than another.\n",
    "* Cannot solve a problem where $X\\in\\mathbb{R}^{100}$ but only $x_1$ is relavent to the output. \n",
    "\n",
    "### Decision Trees\n",
    "\n",
    "It struggles to solve some problems that are easy even for logistic regression, E.g. a 2-class problem and the positive class occurs whenever $x_2 > x_1$."
   ]
  },
  {
   "cell_type": "markdown",
   "metadata": {
    "deletable": true,
    "editable": true
   },
   "source": [
    "## Unsupervised Learning Algorithms\n",
    "\n",
    "Most comment representations:\n",
    "1. lower-dimensional representation,\n",
    "2. sparse representation (increase dimension),\n",
    "3. independent representation.\n",
    "\n",
    "### PCA\n",
    "\n",
    "Given design matrix $X$, centered with $\\mathbb{E}(x)=0$.\n",
    "\n",
    "Unbiased Sample Covariance associated with X is:\n",
    "\n",
    "$$ Var(x) = \\frac{1}{m-1}X^T X $$\n",
    "\n",
    "PCA finds a representation (through orghogonal, linear transformations) $z=W^T x$ where $Var(z)$ is diagonal (implies zero covariance of $z$).\n",
    "\n",
    "Two ways to find the Principal Components, $W$:\n",
    "\n",
    "* With Eigenvalue Decomposition: $X^T X = W \\Lambda W^T$\n",
    "\n",
    "* With SVD: $X=U \\Sigma W^T$, the **principal components** are the right singular vectors of $X$.\n",
    "\n",
    "$$\n",
    "\\begin{aligned}\n",
    "X^T X &= (U \\Sigma W^T)^T U \\Sigma W^T \\\\\n",
    "&= W\\Sigma^T U^T U \\Sigma W^T \\\\\n",
    "\\because U \\text{ is orthogonal, } U^T U &= I \\\\\n",
    "X^T X &= W \\Sigma^2 W^T\n",
    "\\end{aligned}\n",
    "$$\n",
    "\n",
    "We can show $Var(z)$ is diagonal:\n",
    "\n",
    "$$\n",
    "\\begin{aligned}\n",
    "Z &= XW \\\\\n",
    "Var(z) &= \\frac{1}{m-1} Z^T Z \\\\\n",
    "&= \\frac{1}{m-1} (XW)^T X W \\\\\n",
    "&= \\frac{1}{m-1} W^T X^T X W \\\\\n",
    "\\because X^T X &= W \\Sigma^2 W^T \\\\\n",
    "Var(z) &= W^T W \\Sigma^2 W^T W \\\\\n",
    "\\because W^T W = I \\\\\n",
    "Var(z) &= \\Sigma^2 \\\\\n",
    "\\end{aligned}\n",
    "$$"
   ]
  },
  {
   "cell_type": "markdown",
   "metadata": {
    "deletable": true,
    "editable": true
   },
   "source": [
    "## SGD\n",
    "\n",
    "Uses **minibatch** of $m'$, typically $m'$ ranges from 1 to a few 100s. Crucially, $m'$ is usually held fixed as the training set size $m$ grows.\n",
    "\n",
    "The number of updates required to reach convergence usually increases with training set size. However, as $m$ approaches infinity, the model will eventually converge to its best possible test error before SGD has sampled every sample in the training set. \n",
    "\n",
    "## ML Algo Building Blocks:\n",
    "\n",
    "Four pieces:\n",
    "1. dataset\n",
    "2. cost function\n",
    "3. optimization procedure\n",
    "4. model"
   ]
  },
  {
   "cell_type": "markdown",
   "metadata": {},
   "source": [
    "### Local Constancy & Smoothness Regularization\n",
    "\n",
    "**Smoothness prior** or **local constancy prior** states that the function we learn should not change very much within a small region.\n",
    "\n",
    "Relying on this assumption alone fails to solve many deep learning problems. k-means and decision treess all suffer from this problem.\n",
    "\n",
    "In general, to distinguish $O(k)$ regions in input space, all these methods require $O(k)$ examples. Typically, there are $O(k)$ parameters, with $O(1)$ parameters associated with each of the $O(k)$ regions."
   ]
  },
  {
   "cell_type": "markdown",
   "metadata": {},
   "source": [
    "### Manifold Learning\n",
    "\n",
    "In machine learning, manifold is loosely used to designate a connected set of points that can be approximated well by considering only a small number of degrees of freedom, or dimensions, embedded in a higher-dimensional space. Each direction corresponds to a direction of variation."
   ]
  },
  {
   "cell_type": "markdown",
   "metadata": {
    "collapsed": true,
    "deletable": true,
    "editable": true
   },
   "source": [
    "# Chapter 6\n",
    "\n",
    "## Gradient Based Learning\n",
    "\n",
    "For **feedforward neural nets**, it is important to initialize all weights to **small random numbers**. The biases may be initialized to **zero or to small positive values**. p172.\n",
    "\n",
    "Unfortunately mean square error and mean absolute error often lead to poor results when used with gradient-based optimization. "
   ]
  },
  {
   "cell_type": "markdown",
   "metadata": {},
   "source": [
    "## Sigmoid Output Unit for Bernoulli Output Distribution\n",
    "\n",
    "Sigmoid output unit is defined by:\n",
    "\n",
    "$$ \\hat{y} = \\sigma\\big(w^T h + b\\big) $$\n",
    "\n",
    "where $\\sigma$ is the logisitc sigmod function, $\\hat{y}$ is a scaler. In this case set $z = w^T h + b$."
   ]
  },
  {
   "cell_type": "markdown",
   "metadata": {},
   "source": [
    "## Softmax Units for Multinoulli Output Distribution\n",
    "\n",
    "In this case the model output $\\hat{y}$ is a vector, of the following properties:\n",
    "\n",
    "$$\n",
    "\\begin{aligned}\n",
    "\\forall i, y_i &\\in [0, 1] \\\\\n",
    "\\sum_i y &= 1\n",
    "\\end{aligned}\n",
    "$$\n",
    "\n",
    "### Softmax Function\n",
    "\n",
    "$$ \n",
    "\\begin{aligned}\n",
    "\\text{softmax}(z)_i &= \\frac{\\exp(z_i)}{\\sum_j \\exp(z_j)} \\\\\n",
    "\\log \\text{ softmax}(z)_i &= z_i - \\log\\sum_j \\exp(z_j) \\\\\n",
    "\\text{softmax}(z) &= \\text{softmax}(z - max_i z_i) \\text{, this is numerically stable}\\\\\n",
    "\\end{aligned}\n",
    "$$\n",
    "\n",
    "$z$ is defined as:\n",
    "\n",
    "$$ z = W^T h + b $$\n",
    "\n",
    "where $W$ is a **matrix**, as oppose to $w$ being a **vector** in the Bernooulli case.\n",
    "\n",
    "Note that log-softmax **cannot saturate**.\n",
    "\n",
    "The log-likelihood term $\\log\\sum_j \\exp(z_j)$ can be roughly approximated as $\\max_j z_j$. p180. Therefore the intuition is that the negative log-likelihood cost funciton always strongly penalizes the most active incorrect prediction. \n",
    "\n",
    "Softmax function can saturate when the difference between input values become extreme. p180. Numerically stable softmax uses the above $\\max_j z_j$ approximation. If the cost function is not designed to undo the effects of softmax, it would also saturate when softmax saturates, in which case the gradient vanishes.\n",
    "\n",
    "In simple form, have $n$ outputs is an **overparameterization**, since $\\hat{y}$ sums to 1, we only need to know $n-1$ values. In practice, overparameterization rarely causes much difference and is simpler to implement."
   ]
  },
  {
   "cell_type": "code",
   "execution_count": 26,
   "metadata": {
    "collapsed": true
   },
   "outputs": [],
   "source": [
    "def logsoftmax(z, i):\n",
    "    log_total = np.log(np.sum(np.exp(z)))\n",
    "    return z[i] - log_total\n",
    "\n",
    "def softmax(z, i):\n",
    "    '''\n",
    "    Numerically stable softmax.\n",
    "    '''\n",
    "    max_z = np.max(z)\n",
    "    z_mod = z - max_z\n",
    "    top = np.exp(z_mod[i])\n",
    "    bottom = np.sum(np.exp(z_mod))\n",
    "    return top / bottom\n",
    "\n",
    "def softmax_unstable(z, i):\n",
    "    top = np.exp(z[i])\n",
    "    bottom = np.sum(np.exp(z))\n",
    "    return top / bottom\n",
    "\n",
    "z = np.zeros(10)\n",
    "z[0] = 10000\n",
    "z[1] = 1\n",
    "\n",
    "i = 0"
   ]
  },
  {
   "cell_type": "code",
   "execution_count": 27,
   "metadata": {
    "collapsed": false
   },
   "outputs": [
    {
     "name": "stdout",
     "output_type": "stream",
     "text": [
      "nan\n"
     ]
    },
    {
     "name": "stderr",
     "output_type": "stream",
     "text": [
      "/Users/zwl/anaconda/envs/py36/lib/python3.6/site-packages/ipykernel/__main__.py:16: RuntimeWarning: overflow encountered in exp\n",
      "/Users/zwl/anaconda/envs/py36/lib/python3.6/site-packages/ipykernel/__main__.py:17: RuntimeWarning: overflow encountered in exp\n",
      "/Users/zwl/anaconda/envs/py36/lib/python3.6/site-packages/ipykernel/__main__.py:18: RuntimeWarning: invalid value encountered in double_scalars\n"
     ]
    }
   ],
   "source": [
    "# this version has overflow problem\n",
    "print(softmax_unstable(z, i))"
   ]
  },
  {
   "cell_type": "code",
   "execution_count": 28,
   "metadata": {
    "collapsed": false
   },
   "outputs": [
    {
     "name": "stdout",
     "output_type": "stream",
     "text": [
      "1.0\n"
     ]
    }
   ],
   "source": [
    "# this version performs well.\n",
    "print(softmax(z, i))"
   ]
  },
  {
   "cell_type": "code",
   "execution_count": null,
   "metadata": {
    "collapsed": true
   },
   "outputs": [],
   "source": []
  }
 ],
 "metadata": {
  "kernelspec": {
   "display_name": "Python 3",
   "language": "python",
   "name": "python3"
  },
  "language_info": {
   "codemirror_mode": {
    "name": "ipython",
    "version": 3
   },
   "file_extension": ".py",
   "mimetype": "text/x-python",
   "name": "python",
   "nbconvert_exporter": "python",
   "pygments_lexer": "ipython3",
   "version": "3.6.0"
  }
 },
 "nbformat": 4,
 "nbformat_minor": 2
}
