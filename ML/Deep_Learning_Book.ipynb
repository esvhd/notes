{
 "cells": [
  {
   "cell_type": "markdown",
   "metadata": {},
   "source": [
    "# Deep Learning Notes\n",
    "\n",
    "Zhang Weiliang\n",
    "\n",
    "Creative Commons License"
   ]
  },
  {
   "cell_type": "code",
   "execution_count": 1,
   "metadata": {
    "collapsed": true
   },
   "outputs": [],
   "source": [
    "import numpy as np\n",
    "import matplotlib.pyplot as plt\n",
    "%matplotlib inline"
   ]
  },
  {
   "cell_type": "markdown",
   "metadata": {},
   "source": [
    "* [Backpropagation](#backprop)\n",
    "* [Batch Normalization](#batchnorm)"
   ]
  },
  {
   "cell_type": "markdown",
   "metadata": {},
   "source": [
    "## Essential Formulae\n",
    "\n",
    "Definitions first:\n",
    "\n",
    "### Logistic Sigmoid\n",
    "\n",
    "$$ \\sigma(x) = \\frac{1}{1 + e^{-x}} $$\n",
    "\n",
    "The widespread of saturation of sigmoid function can make gradient-based learning very difficult. Thus their use as hidden units in feedforward networks is now **discouraged**.\n",
    "\n",
    "The use as output units is compatible with the use of gradient-based learning when an appropriate cost function can **undo** the saturation."
   ]
  },
  {
   "cell_type": "code",
   "execution_count": 13,
   "metadata": {},
   "outputs": [
    {
     "data": {
      "text/plain": [
       "[<matplotlib.lines.Line2D at 0x11aeb4400>]"
      ]
     },
     "execution_count": 13,
     "metadata": {},
     "output_type": "execute_result"
    },
    {
     "data": {
      "image/png": "[encoded data removed]",
      "text/plain": [
       "<matplotlib.figure.Figure at 0x11adc0748>"
      ]
     },
     "metadata": {},
     "output_type": "display_data"
    }
   ],
   "source": [
    "def sigmoid(x):\n",
    "    return 1. / (1 + np.exp(-x))\n",
    "\n",
    "n = np.linspace(-10, 10, 50)\n",
    "out = sigmoid(n)\n",
    "\n",
    "plt.plot(n, out)"
   ]
  },
  {
   "cell_type": "markdown",
   "metadata": {},
   "source": [
    "### Softplus\n",
    "\n",
    "$$ \\zeta(x) = \\log(1 + e^x) $$\n",
    "\n",
    "The use as hidden units is **discouraged**."
   ]
  },
  {
   "cell_type": "code",
   "execution_count": 14,
   "metadata": {},
   "outputs": [
    {
     "data": {
      "text/plain": [
       "[<matplotlib.lines.Line2D at 0x11abea2b0>]"
      ]
     },
     "execution_count": 14,
     "metadata": {},
     "output_type": "execute_result"
    },
    {
     "data": {
      "image/png": "[encoded data removed]",
      "text/plain": [
       "<matplotlib.figure.Figure at 0x11aef2080>"
      ]
     },
     "metadata": {},
     "output_type": "display_data"
    }
   ],
   "source": [
    "def softplus(x):\n",
    "    return np.log(1 + np.exp(x))\n",
    "\n",
    "n = np.linspace(-10, 10, 50)\n",
    "out = softplus(n)\n",
    "\n",
    "plt.plot(n, out)"
   ]
  },
  {
   "cell_type": "markdown",
   "metadata": {},
   "source": [
    "## Properties of Sigmoid & Softplus functions\n",
    "Derivations for Page 67 formulae. "
   ]
  },
  {
   "cell_type": "markdown",
   "metadata": {},
   "source": [
    "### 3.33. \n",
    "\n",
    "$$\n",
    "\\begin{aligned}\n",
    "\\sigma(x) =& \\frac{e^x}{e^x} \\times \\frac{1}{1 + e^{-x}} \\\\\n",
    "=& \\frac{e^x}{e^x(1 + e^{-x})} \\\\\n",
    "=& \\frac{e^x}{e^x + 1}\n",
    "\\end{aligned}\n",
    "$$"
   ]
  },
  {
   "cell_type": "markdown",
   "metadata": {},
   "source": [
    "### 3.34. \n",
    "\n",
    "Let $y = e^{-x}$, $z = 1 + y$, then we have $\\sigma(x) = z^{-1} $.\n",
    "\n",
    "$$\n",
    "\\begin{aligned}\n",
    "\\frac{d}{dx}\\sigma(x) =& \\frac{d\\sigma}{dz} \\times \\frac{dz}{dy} \\times \\frac{dy}{dx} \\\\\n",
    "=& -z^{-2} \\times 1 \\times -e^{-x} \\\\\n",
    "=& -(1 + e^{-1})^{-2} \\times -e^{-x} \\\\\n",
    "=& \\frac{e^{-x}}{(1 + e^{-1})^{2}} \\\\\n",
    "=& \\frac{1}{1 + e^{-1}} \\times \\frac{e^{-x}}{1 + e^{-1}} \\\\\n",
    "=& \\sigma(x) (1-\\sigma(x))\n",
    "\\end{aligned}\n",
    "$$"
   ]
  },
  {
   "cell_type": "markdown",
   "metadata": {},
   "source": [
    "### 3.35.\n",
    "\n",
    "$$\n",
    "\\begin{aligned}\n",
    "1 - \\sigma(x) =& 1 - \\frac{1}{1 + e^{-x}}\\\\\n",
    "=& \\frac{1 + e^{-x} - 1}{1 + e^{-x}} \\\\\n",
    "=& \\frac{e^{-x}}{1 + e^{-x}} \\\\\n",
    "=& \\frac{1}{e^x + 1} \\\\\n",
    "=& \\sigma(-x)\n",
    "\\end{aligned}\n",
    "$$"
   ]
  },
  {
   "cell_type": "markdown",
   "metadata": {},
   "source": [
    "### 3.36.\n",
    "\n",
    "$$\n",
    "\\begin{aligned}\n",
    "\\log(\\sigma(x)) &= \\log\\big(\\frac{1}{1 + e^{-x}}\\big) \\\\\n",
    "&= \\log(1) - \\log(1 + e^{-x}) \\\\\n",
    "&= -\\log(1 + e^{-x}) \\\\\n",
    "&= -\\zeta(-x)\n",
    "\\end{aligned}\n",
    "$$"
   ]
  },
  {
   "cell_type": "markdown",
   "metadata": {},
   "source": [
    "### 3.37.\n",
    "\n",
    "Let $u = 1 + e^x$, hence $\\zeta(x) = \\log(u)$, then\n",
    "\n",
    "$$\n",
    "\\begin{aligned}\n",
    "\\frac{d}{dx}\\zeta(x) =& \\frac{d\\zeta}{du} \\times \\frac{du}{dx} \\\\\n",
    "&= \\frac{1}{u} \\times e^x \\\\\n",
    "&= \\frac{e^x}{1 + e^x} \\\\\n",
    "&= \\frac{1}{e^{-x} + 1} \\\\\n",
    "&= \\sigma(x)\n",
    "\\end{aligned}\n",
    "$$"
   ]
  },
  {
   "cell_type": "markdown",
   "metadata": {},
   "source": [
    "### 3.38.\n",
    "\n",
    "**Logit function**, for $ \\forall x \\in (0, 1)$:\n",
    "\n",
    "$$ \\sigma^{-1}(x) = \\log\\bigg(\\frac{x}{1-x}\\bigg) $$\n",
    "\n",
    "Here the power of -1 does not mean reciprical, but the **inverse**. Eg. given $\\sigma(x)$, find $x$. \n",
    "\n",
    "$$\n",
    "\\begin{aligned}\n",
    "\\sigma(x) &= \\frac{1}{1 + e^{-x}} \\\\\n",
    "1 + e^{-x} &= \\frac{1}{\\sigma(x)} \\\\\n",
    "e^{-x} &= \\frac{1}{\\sigma(x)} - 1 \\\\\n",
    "-x &= \\log\\bigg(\\frac{1-\\sigma(x)}{\\sigma(x)}\\bigg) \\\\\n",
    "x &= -\\log\\bigg(\\frac{1-\\sigma(x)}{\\sigma(x)}\\bigg) \\\\\n",
    "x &= \\log\\bigg(\\frac{\\sigma(x)}{1-\\sigma(x)}\\bigg)\n",
    "\\end{aligned}\n",
    "$$"
   ]
  },
  {
   "cell_type": "code",
   "execution_count": 8,
   "metadata": {},
   "outputs": [
    {
     "data": {
      "text/plain": [
       "0.40546510810816422"
      ]
     },
     "execution_count": 8,
     "metadata": {},
     "output_type": "execute_result"
    }
   ],
   "source": [
    "def logit(x):\n",
    "    return np.log(x / (1.-x))\n",
    "\n",
    "logit(.6)"
   ]
  },
  {
   "cell_type": "code",
   "execution_count": 12,
   "metadata": {},
   "outputs": [
    {
     "data": {
      "text/plain": [
       "0.59999999999999998"
      ]
     },
     "execution_count": 12,
     "metadata": {},
     "output_type": "execute_result"
    }
   ],
   "source": [
    "sigmoid(logit(.6))"
   ]
  },
  {
   "cell_type": "markdown",
   "metadata": {},
   "source": [
    "### 3.39.\n",
    "\n",
    "Inverse of $\\zeta(x)$, let $u=\\zeta(x)$:\n",
    "\n",
    "$$\n",
    "\\begin{aligned}\n",
    "u &= \\log(1 + e^x) \\\\\n",
    "e^u &= 1 + e^x \\\\\n",
    "e^x &= e^u - 1 \\\\\n",
    "\\forall x &> 0 \\text{, take log on both sides} \\\\\n",
    "x &= \\log\\big( e^u -1 \\big)\n",
    "\\end{aligned}\n",
    "$$"
   ]
  },
  {
   "cell_type": "markdown",
   "metadata": {},
   "source": [
    "### 3.40.\n",
    "\n",
    "$$\n",
    "\\begin{aligned}\n",
    "\\int^{x}_{-\\infty} \\sigma(y)dy &= \\int^{x}_{-\\infty} \\frac{1}{1 + e^{-y}} \\\\\n",
    "&= \\log \\big \\lvert 1 + e^{-y} \\big \\rvert + y \\\\\n",
    "&= \\log \\big ( \\frac{e^y + 1}{e^y} \\big ) + y \\\\\n",
    "&= \\log(e^y + 1) - \\log(e^y) + y \\\\\n",
    "&= \\log(e^y + 1)\n",
    "\\end{aligned}\n",
    "$$\n",
    "\n",
    "Key here is the integration part. Results can be checked with `SymPy`. Or, to reverse that back:\n",
    "\n",
    "$$\n",
    "\\begin{aligned}\n",
    "\\frac{d}{dx}\\big(\\log(1 + e^{-x}) + x\\big) &= \\frac{1}{1+e^{-x}} \\times -e^{-x} + 1 \\\\\n",
    "&= \\frac{1 + e^{-x} - e^{-x}}{1 + e^{-x}} \\\\\n",
    "&= \\sigma(x)\n",
    "\\end{aligned}\n",
    "$$"
   ]
  },
  {
   "cell_type": "code",
   "execution_count": 14,
   "metadata": {
    "collapsed": true
   },
   "outputs": [],
   "source": [
    "import sympy as spy"
   ]
  },
  {
   "cell_type": "code",
   "execution_count": 16,
   "metadata": {},
   "outputs": [
    {
     "data": {
      "text/plain": [
       "y + log(1 + exp(-y))"
      ]
     },
     "execution_count": 16,
     "metadata": {},
     "output_type": "execute_result"
    }
   ],
   "source": [
    "y = spy.Symbol('y')\n",
    "\n",
    "spy.integrate(1 / (1 + spy.exp(-y)))"
   ]
  },
  {
   "cell_type": "code",
   "execution_count": 17,
   "metadata": {
    "scrolled": true
   },
   "outputs": [
    {
     "data": {
      "text/plain": [
       "exp(-y)/(1 + exp(-y))**2"
      ]
     },
     "execution_count": 17,
     "metadata": {},
     "output_type": "execute_result"
    }
   ],
   "source": [
    "spy.diff(1 / (1 + spy.exp(-y)))"
   ]
  },
  {
   "cell_type": "code",
   "execution_count": 18,
   "metadata": {},
   "outputs": [
    {
     "data": {
      "text/plain": [
       "1 - exp(-y)/(1 + exp(-y))"
      ]
     },
     "execution_count": 18,
     "metadata": {},
     "output_type": "execute_result"
    }
   ],
   "source": [
    "spy.diff(y + spy.log(1 + spy.exp(-y)))"
   ]
  },
  {
   "cell_type": "markdown",
   "metadata": {},
   "source": [
    "### 3.41\n",
    "\n",
    "$$\n",
    "\\begin{aligned}\n",
    "\\zeta(x)-\\zeta(-x) &= \\log(1 + e^x) - \\log(1 + e^{-x}) \\\\\n",
    "&= \\log\\bigg(\\frac{1 + e^x}{1 + e^{-x}}\\bigg) \\\\\n",
    "&= \\log\\bigg(\\frac{e^{-x}(1 + e^x)}{e^{-x}(1 + e^{-x})}\\bigg) \\\\\n",
    "&= \\log\\bigg(\\frac{e^{-x} + 1}{e^{-x}(1 + e^{-x})}\\bigg) \\\\\n",
    "&= \\log\\bigg(\\frac{1}{e^{-x}}\\bigg) \\\\\n",
    "&= \\log(e^x) \\\\\n",
    "&= x\n",
    "\\end{aligned}\n",
    "$$"
   ]
  },
  {
   "cell_type": "markdown",
   "metadata": {
    "collapsed": true
   },
   "source": [
    "## Derivatives\n",
    "\n",
    "**Product Rule**\n",
    "\n",
    "$$ (u \\cdot v)' = u' \\cdot v + u \\cdot v'$$\n",
    "\n",
    "** Quotient Rule**\n",
    "\n",
    "$$ \\bigg(\\frac{u}{v}\\bigg)' = \\frac{u'v - uv'}{v^2} $$"
   ]
  },
  {
   "cell_type": "markdown",
   "metadata": {},
   "source": [
    "### Softmax Function, p78\n",
    "\n",
    "$$ softmax(x)_i = \\frac{\\exp(x_i)}{\\sum_{j=1}^{n} \\exp(x_j)} $$\n",
    "\n",
    "Overflow when $x_i$ is very large, underflow when $x_i$ is very negative. Solution is to use $softmax(z)$, where:\n",
    "$z = x - max_i x_i$.\n",
    "\n",
    "**Derivative of Softmax**\n",
    "\n",
    "Using quotient rule, let $u=e^{x_i}$ and $v=\\sum_{j=1}^{n} e^{x_j}$:\n",
    "\n",
    "$$\n",
    "\\begin{aligned}\n",
    "u' &= e^{x_i} \\\\\n",
    "\\frac{\\partial v}{\\partial x_j} &= e^{x_j} \\\\\n",
    "S_i' = softmax'(x_i) &= \\frac{u'v - uv'}{v^2} \\\\\n",
    "&= \\frac{e^{x_i} \\cdot v - e^{x_i} e^{x_j}}{v^2}\n",
    "\\end{aligned}\n",
    "$$\n",
    "\n",
    "When $i = j$:\n",
    "\n",
    "$$\n",
    "\\begin{aligned}\n",
    "S_i' = softmax'(x_i) &= \\frac{e^{x_i} \\cdot v - e^{x_i}e^{x_i}}{v^2} \\\\\n",
    "&= \\frac{e^{x_i} (v - e^{x_i})}{v^2} \\\\\n",
    "&= \\frac{e^{x_i}}{v} \\times \\frac{v - e^{x_i}}{v} \\\\\n",
    "&= S_i (1-S_i)\n",
    "\\end{aligned}\n",
    "$$\n",
    "\n",
    "When $i \\neq j$:\n",
    "\n",
    "$$\n",
    "\\begin{aligned}\n",
    "\\frac{\\partial u}{\\partial x_j} &= 0 \\\\\n",
    "S_j' = softmax'(x_i) &=  \\frac{0 \\cdot v - e^{x_i}e^{x_j}}{v^2} \\\\\n",
    "&= -\\frac{e^{x_i}}{v}\\frac{e^{x_j}}{v} \\\\\n",
    "&= S_i S_j\n",
    "\\end{aligned}\n",
    "$$\n",
    "\n",
    "In terms of delta function:\n",
    "\n",
    "$$\n",
    "\\begin{aligned}\n",
    "\\delta_{ij} &= \\begin{cases}\n",
    "1 & i=j\\\\\n",
    "0 & i\\neq j\n",
    "\\end{cases} \\\\\n",
    "S' &= S_i (\\delta_{ij} - S_j)\n",
    "\\end{aligned}\n",
    "$$\n",
    "\n",
    "This is very similar to the derivative of sigmoid. Good [post](https://eli.thegreenplace.net/2016/the-softmax-function-and-its-derivative/) on this topic.\n",
    "\n",
    "Typical softmax is used in a **Negative-Log-Likelihood (NLL)** loss function [Andrej's blog](http://cs231n.github.io/neural-networks-case-study/#grad):\n",
    "\n",
    "$$ L_i = -\\log S_i $$\n",
    "\n",
    "Therefore in backprop:\n",
    "\n",
    "$$\n",
    "\\begin{aligned}\n",
    "\\frac{\\partial L_i}{\\partial S_i} &= - 1/S_i \\\\\n",
    "\\frac{\\partial S_i}{\\partial x_i} &= S_i(\\delta_{ij} - S_j) \\\\\n",
    "\\frac{\\partial L_i}{\\partial x_i} &= -\\frac{1}{S_i} \\times S_i(\\delta_{ij} - S_j) \\\\\n",
    "&= S_j - \\delta_{ij}\n",
    "\\end{aligned}\n",
    "$$"
   ]
  },
  {
   "cell_type": "markdown",
   "metadata": {},
   "source": [
    "### Poor Conditioning\n",
    "\n",
    "Given function $f(x) = A^{-1}x$. When $A \\in \\mathbb{R}^{n \\times n}$ has an **eigenvalue decomposition**, its **condition number** is:\n",
    "\n",
    "$$ \\max_{i,j} \\bigg \\lvert \\frac{\\lambda_i}{\\lambda_j} \\bigg \\rvert $$\n",
    "\n",
    "I.e. Ratio of largest and smallest eigenvalues.\n",
    "\n",
    "Poor conditioning makes choosing a good optimization step size difficult."
   ]
  },
  {
   "cell_type": "markdown",
   "metadata": {},
   "source": [
    "## Hessian Matrix & Min/Max/Saddle Points\n",
    "\n",
    "At a **critical point** where $\\triangledown_x f(x) = 0$:\n",
    "\n",
    "* **Local minimum** if the Hessian matrix is **positive definite** (i.e. all of its eigenvalues are positive).\n",
    "* **local maximum** if the Hessian matrix is **negative definite** (i.e. all of its eigenvalues are negative).\n",
    "* **Inconclusive** if all non-zero eigenvalues have the same sign but **at least one eigenvalue is zero**.\n",
    "\n"
   ]
  },
  {
   "cell_type": "markdown",
   "metadata": {
    "collapsed": true
   },
   "source": [
    "# Chapter 5\n",
    "\n",
    "**Representational Capacity**, p110, The model specifis which family of functions the learning algorithm can choose from when varying the parameters in order to reduce a training objective. \n",
    "\n",
    "**Effective Capacity** can be limited by imperfections of the optimization algorithm, which means it may be less than the representational capacity.\n",
    "\n",
    "## Vapnik-Chervonenkis (VC) Dimension, p111\n",
    "\n",
    "VC dimension measres the capacity of a binary classifier. Defined as being the lagest possible value of $m$ for which there exists a training set of $m$ different $x$ points that the classifier can label arbitrarily.\n",
    "\n",
    "The most important results in statistical learning theory show that the discrepancy between the trainnig error and generalization error is bounded from above by a quantity that grows as the model capacity grows but shrinks as the number of traning examples increase. \n",
    "\n",
    "However, this is rarely used in practice when working with deep learning algos. Because:\n",
    "* it can be quite difficult to determine the capacity of deal learning algos.\n",
    "* The problem of determining the capacity of deep learning models is especially difficult because the effective capacity is limited by the capabilities of the optimization algorithm. \n",
    "* we have little theoretical understanding of the general non-convex optimization problems involved in deep learning.\n",
    "\n",
    "Typically training error decreases until it asymptotes to the minimum possible error value as model capacity increases (assuming the error measure has a minimum value); generalization error typically has a U-shaped curve as a function of model capacity.\n",
    "\n",
    "**No Free Lunch theorem**: averaged over all possible data-generating distributions, every classification algothrim has the same error rate when classifying previously unobserved points. \n",
    "\n",
    "**Goal** is to understand what kind of distributions are relevant to the real world that an AI agent experiences, and what kind of machine learning algorithem perform well on data drawn from the kinds of data-generating distributions we care about."
   ]
  },
  {
   "cell_type": "markdown",
   "metadata": {},
   "source": [
    "## Estimator, Bias and Variance\n",
    "\n",
    "Sample variance, unbiased sample variance, both underestimates the true standard deviation but are still used in practice. Unbiased sample variance is less of an underestimate. For large sample size $m$, the approximation is quite reasonable.\n",
    "\n",
    "## Maximum Likelihood Estimation\n",
    "\n",
    "$$\n",
    "\\begin{aligned}\n",
    "\\theta_{ML} &= \\underset{\\theta}{\\operatorname{arg max}} p_{model}(\\mathbb{X}; \\theta) \\\\\n",
    "&= \\underset{\\theta}{\\operatorname{arg max}}\\Pi_{i=1}^{m}p_{model}(x^{(i)}; \\theta) \\\\\n",
    "&= \\underset{\\theta}{\\operatorname{arg max}}\\sum_{i=1}^m \\log p_{model}(x^{(i)}; \\theta) \\\\\n",
    "D_{KL}(\\hat{p}_{data} \\lVert p_{model}) &= \\mathbb{E}_{x \\sim \\hat{p}_{data}} \\bigg[ \\log \\hat{p}_{data}(x) - \\log p_{model}(x)\\bigg] \\\\\n",
    "\\end{aligned}\n",
    "$$\n",
    "\n",
    "Therefore minimizing KL divergence corresponds exactly to minimzing the cross-entropy between the distributions.\n",
    "\n",
    "**Appropriate Conditions** for maximum likelihood estimator to have the property of **consistency**:\n",
    "\n",
    "* The true distribution $p_{data}$ must lie within the model family $p_{model}(.;\\theta)$, otherwise, no estimator can recover $p_{data}$.\n",
    "\n",
    "* The true distribution $p_{data}$ must corresond to example one value of $\\theta$. Otherwise maximum likelihood can recover the correct $p_{data}$ but will not be able to determine which value of $\\theta$ was used by the data-generating process.\n",
    "\n",
    "For large sample size $m$, the **Cramer-Rao lower bound** shows that no consistent estimator has a lower Mean Square Error than the maximum likelihood estimator.'"
   ]
  },
  {
   "cell_type": "markdown",
   "metadata": {
    "collapsed": true
   },
   "source": [
    "## Linear Regression as Maximum Likelihood, p130\n",
    "\n",
    "Univariate Gaussian PDF:\n",
    "\n",
    "$$ PDF(x) = \\frac{1}{\\sqrt{2\\pi\\sigma^2}}\\exp\\bigg(-\\frac{(x-\\mu)^2}{2\\sigma^2}\\bigg) $$"
   ]
  },
  {
   "cell_type": "markdown",
   "metadata": {},
   "source": [
    "A more efficient way to compute this is to define $\\beta$, called **precision = inverse of variance**.\n",
    "\n",
    "$$ PDF(x) = \\sqrt{\\frac{\\beta}{2\\pi}} \\exp\\bigg(-\\frac{(x-\\mu)^2}{2\\sigma^2}\\bigg) $$"
   ]
  },
  {
   "cell_type": "markdown",
   "metadata": {},
   "source": [
    "Multivariate Gaussian PDF:\n",
    "\n",
    "$$ \\mathcal{N}(x; \\mu, \\Sigma) = \\sqrt{\\frac{1}{(2\\pi)^n \\det(\\Sigma)}} \\exp\\bigg( -\\frac{1}{2} (x-\\mu)^T \\Sigma^{-1} (x-\\mu) \\bigg) $$\n",
    "\n",
    "Where $\\Sigma$ is a **positive definite** symmetric matrix. "
   ]
  },
  {
   "cell_type": "markdown",
   "metadata": {},
   "source": [
    "In practice when this needs to be evaluated many times, we instead use a **precision matrix** $\\beta = \\Sigma^{-1}$:\n",
    "\n",
    "$$ \\mathcal{N}(x; \\mu, \\Sigma) = \\sqrt{\\frac{\\det(\\beta)}{(2\\pi)^n}} \\exp\\bigg( -\\frac{1}{2} (x-\\mu)^T \\Sigma^{-1} (x-\\mu) \\bigg) $$"
   ]
  },
  {
   "cell_type": "markdown",
   "metadata": {},
   "source": [
    "Conditional log-likelihood derivation:\n",
    "\n",
    "$$\n",
    "\\begin{aligned}\n",
    "&\\sum_{i=1}^{m}\\log p(y^{(i)} \\mid x^{(i)};\\theta) \\\\\n",
    "=&\\sum_{i=1}^{m}\\log\\bigg[\\big(2\\pi\\sigma^2\\big)^{-1/2}\\exp\\bigg(-\\frac{\\lVert\\hat{y}^{(i)}-y^{(i)}\\rVert^2}{2\\sigma^2}\\bigg)\\bigg] \\\\\n",
    "=& \\sum_{i=1}^{m}\\bigg\\{-\\frac{1}{2}\\log\\big(2\\pi\\sigma^2\\big) + \\log\\bigg[\\exp\\bigg(-\\frac{\\lVert\\hat{y}^{(i)}-y^{(i)}\\rVert^2}{2\\sigma^2}\\bigg)\\bigg]\\bigg\\} \\\\\n",
    "=&\\sum_{i=1}^{m}\\bigg(-\\frac{1}{2}\\log\\big(2\\pi\\sigma^2\\big)\\bigg) - \\sum_{i=1}^{m}\\frac{\\lVert\\hat{y}^{(i)}-y^{(i)}\\rVert^2}{2\\sigma^2} \\\\\n",
    "=& -\\frac{m}{2}\\log\\big( 2\\pi \\big) - m\\log\\sigma - \\sum_{i=1}^{m}\\frac{\\lVert\\hat{y}^{(i)}-y^{(i)}\\rVert^2}{2\\sigma^2} \\\\\n",
    "\\end{aligned}\n",
    "$$"
   ]
  },
  {
   "cell_type": "markdown",
   "metadata": {},
   "source": [
    "## Bayesian Regression, p134\n",
    "\n",
    "Likelihood:\n",
    "\n",
    "$$ p(y \\mid X, w) \\propto \\exp\\bigg[-\\frac{1}{2}\\big(y-Xw\\big)^T \\big(y-Xw\\big)\\bigg] $$\n",
    "\n",
    "Prior:\n",
    "\n",
    "$$ p(w) \\propto \\exp\\bigg[ -\\frac{1}{2}(w-\\mu_0)^T\\Lambda^{-1}_{0}(w-\\mu_0) \\bigg] $$"
   ]
  },
  {
   "cell_type": "markdown",
   "metadata": {},
   "source": [
    "Posterior:\n",
    "\n",
    "$$\n",
    "\\begin{aligned}\n",
    "p(w \\mid X, y) &\\propto p(y \\mid X, w)p(w) \\\\\n",
    "&\\propto \\exp\\bigg[-\\frac{1}{2}\\big(y-Xw\\big)^T \\big(y-Xw\\big)\\bigg] \\exp\\bigg[ -\\frac{1}{2}(w-\\mu_0)^T\\Lambda^{-1}_{0}(w-\\mu_0)\\bigg] \\\\\n",
    "&\\propto \\exp\\bigg\\{ -\\frac{1}{2} \\bigg[ y^Ty - y^TXw - w^T X^T y + w^T X^T X w  + w^T \\Lambda^{-1}_{0}w - w^T\\Lambda^{-1}_{0}\\mu_0 -\\mu^T_0 \\Lambda^{-1}_{0}w + \\mu^T_0 \\Lambda^{-1}_{0}\\mu_0 \\bigg] \\bigg\\} \\\\\n",
    "\\because &\\text{ } y^TXw = w^T X^T y,\\text{ } \\mu^T_0 \\Lambda^{-1}_{0} w = w^T \\Lambda^{-1}_{0}\\mu_0 \\\\\n",
    "\\because &\\text{ terms without } w \\text{ can be ignored} \\\\\n",
    "&\\propto \\exp\\bigg\\{ -\\frac{1}{2} \\bigg[-2y^TXw + w^T X^T X w  + w^T \\Lambda^{-1}_{0}w - 2\\mu^T_0 \\Lambda^{-1}_{0}w \\bigg] \\bigg\\} \\\\\n",
    "\\end{aligned}\n",
    "$$"
   ]
  },
  {
   "cell_type": "markdown",
   "metadata": {},
   "source": [
    "By setting:\n",
    "$$\n",
    "\\begin{aligned}\n",
    "\\Lambda_m &= \\big(X^T X + \\Lambda^{-1}_0\\big)^{-1} \\\\\n",
    "\\mu_m &= \\Lambda_m \\big(X^T y + \\Lambda^{-1}_0 \\mu_0\\big) \\\\\n",
    "& \\therefore \\\\\n",
    "\\mu^T_m &= \\big(X^T y + \\Lambda^{-1}_0\\mu_0\\big)^T \\Lambda^T_m  \\\\\n",
    "\\end{aligned}\n",
    "$$\n",
    "\n",
    "Also note $\\Lambda^T_m = \\Lambda_m$ as $\\Lambda_m = diag(\\lambda_m)$."
   ]
  },
  {
   "cell_type": "markdown",
   "metadata": {},
   "source": [
    "Rewrite posterior:\n",
    "$$\n",
    "\\begin{aligned}\n",
    "p(w \\mid X, y) &\\propto \\exp\\bigg(-\\frac{1}{2}\\big(w - \\mu_m\\big)^T \\Lambda^{-1}_m \\big(w - \\mu_m\\big)\\bigg) \\\\\n",
    "&\\propto \\exp\\bigg\\{-\\frac{1}{2}\\bigg[ w^T\\big(X^T X + \\Lambda^{-1}_0\\big)w - w^T\\Lambda^{-1}_m\\Lambda_m \\big(X^T y + \\Lambda^{-1}_0\\mu_0 \\big) -\\big(X^T y + \\Lambda^{-1}_0\\mu_0 \\big)^T\\Lambda^T_m\\Lambda^{-1}_m w \\bigg]\\bigg\\} \\\\\n",
    "&\\propto \\exp\\bigg\\{-\\frac{1}{2}\\bigg[ w^T X^T X w + w^T \\Lambda^{-1}_0 w - w^T X^T y - w^T \\Lambda^{-1}_0\\mu_0 - y^T Xw - \\mu^T_0 \\Lambda^{-1}_0 w \\bigg]\\bigg\\} \\\\\n",
    "&\\propto \\exp\\bigg\\{-\\frac{1}{2}\\bigg[ w^T X^T X w + w^T \\Lambda^{-1}_0 w - 2 y^T Xw - 2 \\mu^T_0 \\Lambda^{-1}_0 w \\bigg]\\bigg\\}\n",
    "\\end{aligned}\n",
    "$$"
   ]
  },
  {
   "cell_type": "markdown",
   "metadata": {},
   "source": [
    "If we set $\\mu_0 = 0$, $\\Lambda_0 = \\frac{1}{\\alpha} I$, flat prior for covariance:\n",
    "\n",
    "$$ p(w \\mid X, y) \\propto \\exp\\bigg\\{-\\frac{1}{2}\\bigg[ w^T X^T X w + w^T \\alpha I w - 2 y^T X w \\bigg]\\bigg\\} $$\n",
    "\n",
    "This is the form of **ridge regression**, weight decay term $\\alpha w^T w$."
   ]
  },
  {
   "cell_type": "markdown",
   "metadata": {},
   "source": [
    "## Supervised Learning Algorithms\n",
    "\n",
    "### K-Nearest Neighbour\n",
    "* k-nearest neighbour can achieve high capacity. Enables it to obtain high accuracy given a large training set.\n",
    "* this comes with computational costs\n",
    "* may generalize very badly given a small training set. \n",
    "* It cannot learn that one feature is more discriminative than another.\n",
    "* Cannot solve a problem where $X\\in\\mathbb{R}^{100}$ but only $x_1$ is relavent to the output. \n",
    "\n",
    "### Decision Trees\n",
    "\n",
    "It struggles to solve some problems that are easy even for logistic regression, E.g. a 2-class problem and the positive class occurs whenever $x_2 > x_1$."
   ]
  },
  {
   "cell_type": "markdown",
   "metadata": {},
   "source": [
    "## Unsupervised Learning Algorithms\n",
    "\n",
    "Most comment representations:\n",
    "1. lower-dimensional representation,\n",
    "2. sparse representation (increase dimension),\n",
    "3. independent representation.\n",
    "\n",
    "### PCA\n",
    "\n",
    "Given design matrix $X$, centered with $\\mathbb{E}(x)=0$.\n",
    "\n",
    "Unbiased Sample Covariance associated with X is:\n",
    "\n",
    "$$ Var(x) = \\frac{1}{m-1}X^T X $$\n",
    "\n",
    "PCA finds a representation (through orghogonal, linear transformations) $z=W^T x$ where $Var(z)$ is diagonal (implies zero covariance of $z$).\n",
    "\n",
    "Two ways to find the Principal Components, $W$:\n",
    "\n",
    "* With Eigenvalue Decomposition: $X^T X = W \\Lambda W^T$\n",
    "\n",
    "* With SVD: $X=U \\Sigma W^T$, the **principal components** are the right singular vectors of $X$.\n",
    "\n",
    "$$\n",
    "\\begin{aligned}\n",
    "X^T X &= (U \\Sigma W^T)^T U \\Sigma W^T \\\\\n",
    "&= W\\Sigma^T U^T U \\Sigma W^T \\\\\n",
    "\\because U \\text{ is orthogonal, } U^T U &= I \\\\\n",
    "X^T X &= W \\Sigma^2 W^T\n",
    "\\end{aligned}\n",
    "$$\n",
    "\n",
    "We can show $Var(z)$ is diagonal:\n",
    "\n",
    "$$\n",
    "\\begin{aligned}\n",
    "Z &= XW \\\\\n",
    "Var(z) &= \\frac{1}{m-1} Z^T Z \\\\\n",
    "&= \\frac{1}{m-1} (XW)^T X W \\\\\n",
    "&= \\frac{1}{m-1} W^T X^T X W \\\\\n",
    "\\because X^T X &= W \\Sigma^2 W^T \\\\\n",
    "Var(z) &= W^T W \\Sigma^2 W^T W \\\\\n",
    "\\because W^T W = I \\\\\n",
    "Var(z) &= \\Sigma^2 \\\\\n",
    "\\end{aligned}\n",
    "$$"
   ]
  },
  {
   "cell_type": "code",
   "execution_count": null,
   "metadata": {
    "collapsed": true
   },
   "outputs": [],
   "source": []
  },
  {
   "cell_type": "markdown",
   "metadata": {},
   "source": [
    "## Gradient Descent - Andrew Ng\n",
    "\n",
    "[videos](https://www.coursera.org/learn/machine-learning/home/week/10)\n",
    "\n",
    "### Batch Gradient Descent\n",
    "\n",
    "Goes through full dataset to perform one gradient update.\n",
    "\n",
    "Given cost function:\n",
    "\n",
    "$$ J_{train}(\\theta) = \\frac{1}{2m} \\sum_{i=1}^m \\big(h_{\\theta}\\big(x^{(i)}\\big) - y^{(i)}\\big)^2 $$\n",
    "\n",
    "Algorithm:\n",
    "\n",
    "```\n",
    "Repeat {\n",
    "```\n",
    "(for every $j = 0, \\dots, n$)\n",
    "\n",
    "$$\\theta_j = \\theta_j - \\alpha \\frac{1}{m}\\big(h_{\\theta}\\big(x^{(i)}\\big) - y^{(i)}\\big) x^{(i)}$$\n",
    "\n",
    "```\n",
    "}\n",
    "```"
   ]
  },
  {
   "cell_type": "markdown",
   "metadata": {},
   "source": [
    "### SGD\n",
    "\n",
    "Updates gradient with each piece of training data (randomly shuffled). No summation in the update line.\n",
    "\n",
    "Will circle around the global minimum, but may not reach / stablize there.\n",
    "\n",
    "$$ J_{train}(\\theta) = \\frac{1}{2m} \\sum_{i=1}^m \\big(h_{\\theta}\\big(x^{(i)}\\big) - y^{(i)}\\big)^2 $$\n",
    "\n",
    "Algorithm:\n",
    "\n",
    "```\n",
    "Randomly shuffle dataset.\n",
    "\n",
    "Repeat { \\\\ for 1 - 10x \n",
    "```\n",
    "for $i = 1, \\dots, m$: \n",
    "\n",
    "(for every $j = 0, \\dots, n$)\n",
    "\n",
    "$$\\theta_j = \\theta_j - \\alpha \\big(h_{\\theta}\\big(x^{(i)}\\big) - y^{(i)}\\big) x^{(i)}$$\n",
    "\n",
    "```\n",
    "}\n",
    "```"
   ]
  },
  {
   "cell_type": "markdown",
   "metadata": {},
   "source": [
    "### Minibatch SGD\n",
    "\n",
    "Use a small subset $b$ of the training data for each gradient update. E.g. $b=10$ in each iteration. Update for gradient is the learning rate times average loss over the minibatch. \n",
    "\n",
    "$$\\theta_j = \\theta_j - \\alpha \\frac{1}{b} \\sum_{k=i}^{i+b}\\big(h_{\\theta}\\big(x^{(i)}\\big) - y^{(i)}\\big) x^{(i)}$$\n",
    "\n",
    "Runs faster when vectorized."
   ]
  },
  {
   "cell_type": "markdown",
   "metadata": {},
   "source": [
    "### Convergence\n",
    "\n",
    "SGD:\n",
    "\n",
    "During learning, compute cost function, $cost(\\theta, (x^{(i)}, y^{(i)}))$ before updating $\\theta$.\n",
    "\n",
    "For every 1000 iterations, plot $cost(\\theta, (x^{(i)}, y^{(i)}))$ averaged over the last 1000 training data points processed by algorithm. \n",
    "\n",
    "Could decrease $\\alpha$ over time if we want $\\theta$ to converge. E.g. \n",
    "\n",
    "$$ \\alpha = \\frac{const1}{iterationNumber + const2} $$"
   ]
  },
  {
   "cell_type": "code",
   "execution_count": null,
   "metadata": {
    "collapsed": true
   },
   "outputs": [],
   "source": []
  },
  {
   "cell_type": "markdown",
   "metadata": {},
   "source": [
    "## Minibatch SGD - DL Book\n",
    "\n",
    "Uses **minibatch** of $m'$, typically $m'$ ranges from 1 to a few 100s. Crucially, $m'$ is usually held fixed as the training set size $m$ grows.\n",
    "\n",
    "The number of updates required to reach convergence usually increases with training set size. However, as $m$ approaches infinity, the model will eventually converge to its best possible test error before SGD has sampled every sample in the training set. "
   ]
  },
  {
   "cell_type": "markdown",
   "metadata": {},
   "source": [
    "## ML Algo Building Blocks:\n",
    "\n",
    "Four pieces:\n",
    "1. dataset\n",
    "2. cost function\n",
    "3. optimization procedure\n",
    "4. model"
   ]
  },
  {
   "cell_type": "markdown",
   "metadata": {},
   "source": [
    "### Local Constancy & Smoothness Regularization\n",
    "\n",
    "**Smoothness prior** or **local constancy prior** states that the function we learn should not change very much within a small region.\n",
    "\n",
    "Relying on this assumption alone fails to solve many deep learning problems. k-means and decision treess all suffer from this problem.\n",
    "\n",
    "In general, to distinguish $O(k)$ regions in input space, all these methods require $O(k)$ examples. Typically, there are $O(k)$ parameters, with $O(1)$ parameters associated with each of the $O(k)$ regions."
   ]
  },
  {
   "cell_type": "markdown",
   "metadata": {},
   "source": [
    "### Manifold Learning\n",
    "\n",
    "In machine learning, manifold is loosely used to designate a connected set of points that can be approximated well by considering only a small number of degrees of freedom, or dimensions, embedded in a higher-dimensional space. Each direction corresponds to a direction of variation."
   ]
  },
  {
   "cell_type": "markdown",
   "metadata": {},
   "source": [
    "# Chapter 6"
   ]
  },
  {
   "cell_type": "markdown",
   "metadata": {
    "collapsed": true
   },
   "source": [
    "## Gradient Based Learning\n",
    "\n",
    "For **feedforward neural nets**, it is important to initialize all weights to **small random numbers**. The biases may be initialized to **zero or to small positive values**. p172.\n",
    "\n",
    "Unfortunately mean square error and mean absolute error often lead to poor results when used with gradient-based optimization. "
   ]
  },
  {
   "cell_type": "markdown",
   "metadata": {},
   "source": [
    "## Sigmoid Output Unit for Bernoulli Output Distribution\n",
    "\n",
    "Sigmoid output unit is defined by:\n",
    "\n",
    "$$ \\hat{y} = \\sigma\\big(w^T h + b\\big) $$\n",
    "\n",
    "where $\\sigma$ is the logisitc sigmod function, $\\hat{y}$ is a scaler. In this case set $z = w^T h + b$."
   ]
  },
  {
   "cell_type": "markdown",
   "metadata": {},
   "source": [
    "## Softmax Units for Multinoulli Output Distribution\n",
    "\n",
    "In this case the model output $\\hat{y}$ is a vector, of the following properties:\n",
    "\n",
    "$$\n",
    "\\begin{aligned}\n",
    "\\forall i, y_i &\\in [0, 1] \\\\\n",
    "\\sum_i y &= 1\n",
    "\\end{aligned}\n",
    "$$\n",
    "\n",
    "### Softmax Function\n",
    "\n",
    "$$ \n",
    "\\begin{aligned}\n",
    "\\text{softmax}(z)_i &= \\frac{\\exp(z_i)}{\\sum_j \\exp(z_j)} \\\\\n",
    "\\log \\text{ softmax}(z)_i &= z_i - \\log\\sum_j \\exp(z_j) \\\\\n",
    "\\text{softmax}(z) &= \\text{softmax}(z - max_i z_i) \\text{, this is numerically stable}\\\\\n",
    "\\end{aligned}\n",
    "$$\n",
    "\n",
    "$z$ is defined as:\n",
    "\n",
    "$$ z = W^T h + b $$\n",
    "\n",
    "where $W$ is a **matrix**, as oppose to $w$ being a **vector** in the Bernooulli case.\n",
    "\n",
    "Note that log-softmax **cannot saturate**.\n",
    "\n",
    "The log-likelihood term $\\log\\sum_j \\exp(z_j)$ can be roughly approximated as $\\max_j z_j$. p180. Therefore the intuition is that the negative log-likelihood cost funciton always strongly penalizes the most active incorrect prediction. \n",
    "\n",
    "Softmax function can saturate when the difference between input values become extreme. p180. Numerically stable softmax uses the above $\\max_j z_j$ approximation. If the cost function is not designed to undo the effects of softmax, it would also saturate when softmax saturates, in which case the gradient vanishes.\n",
    "\n",
    "In simple form, have $n$ outputs is an **overparameterization**, since $\\hat{y}$ sums to 1, we only need to know $n-1$ values. In practice, overparameterization rarely causes much difference and is simpler to implement."
   ]
  },
  {
   "cell_type": "code",
   "execution_count": 26,
   "metadata": {
    "collapsed": true
   },
   "outputs": [],
   "source": [
    "def logsoftmax(z, i):\n",
    "    log_total = np.log(np.sum(np.exp(z)))\n",
    "    return z[i] - log_total\n",
    "\n",
    "def softmax(z, i):\n",
    "    '''\n",
    "    Numerically stable softmax.\n",
    "    '''\n",
    "    max_z = np.max(z)\n",
    "    z_mod = z - max_z\n",
    "    top = np.exp(z_mod[i])\n",
    "    bottom = np.sum(np.exp(z_mod))\n",
    "    return top / bottom\n",
    "\n",
    "def softmax_unstable(z, i):\n",
    "    top = np.exp(z[i])\n",
    "    bottom = np.sum(np.exp(z))\n",
    "    return top / bottom\n",
    "\n",
    "z = np.zeros(10)\n",
    "z[0] = 10000\n",
    "z[1] = 1\n",
    "\n",
    "i = 0"
   ]
  },
  {
   "cell_type": "code",
   "execution_count": 27,
   "metadata": {},
   "outputs": [
    {
     "name": "stdout",
     "output_type": "stream",
     "text": [
      "nan\n"
     ]
    },
    {
     "name": "stderr",
     "output_type": "stream",
     "text": [
      "/Users/zwl/anaconda/envs/py36/lib/python3.6/site-packages/ipykernel/__main__.py:16: RuntimeWarning: overflow encountered in exp\n",
      "/Users/zwl/anaconda/envs/py36/lib/python3.6/site-packages/ipykernel/__main__.py:17: RuntimeWarning: overflow encountered in exp\n",
      "/Users/zwl/anaconda/envs/py36/lib/python3.6/site-packages/ipykernel/__main__.py:18: RuntimeWarning: invalid value encountered in double_scalars\n"
     ]
    }
   ],
   "source": [
    "# this version has overflow problem\n",
    "print(softmax_unstable(z, i))"
   ]
  },
  {
   "cell_type": "code",
   "execution_count": 28,
   "metadata": {},
   "outputs": [
    {
     "name": "stdout",
     "output_type": "stream",
     "text": [
      "1.0\n"
     ]
    }
   ],
   "source": [
    "# this version performs well.\n",
    "print(softmax(z, i))"
   ]
  },
  {
   "cell_type": "markdown",
   "metadata": {},
   "source": [
    "## ReLU, Rectified Linear Unit\n",
    "\n",
    "Activation function defined as:\n",
    "\n",
    "$$ g(z) = \\max\\{0, z\\} $$\n",
    "\n",
    "$$\n",
    "\\begin{aligned}\n",
    "\\frac{\\partial g}{\\partial z} &= \n",
    "\\begin{cases}\n",
    "0, z \\leq 0 \\\\\n",
    "1, z \\gt 0\n",
    "\\end{cases}\\\\\n",
    "\\end{aligned}\n",
    "$$\n",
    "\n",
    "### Benefits\n",
    "\n",
    "* when the unit is active, the gradient is not only large but also consistent.\n",
    "* second derivative is 0 almost everywhere. No second order effect.\n",
    "\n",
    "### Drawback\n",
    "\n",
    "Cannot learn via gradient-based methods on examples for which their activation is zero. Generalizations deals with this issue.\n",
    "\n",
    "### Generalizations, p187\n",
    "\n",
    "Based on using a nonzero slope $\\alpha$:\n",
    "\n",
    "$$ h_i = g(z, \\alpha)_i = \\max(0, z_i) + \\alpha_i \\min(0, z_i) $$\n",
    "\n",
    "Three types:\n",
    "\n",
    "* Absolute value rectification, fixes $\\alpha_i = -1$ to obtain $g(z) = |z|$,\n",
    "* Leaky ReLU, fixes $\\alpha$ to a small value like 0.01,\n",
    "* Parametric ReLU (PReLU) treats $\\alpha$ as a learnable parameter.\n",
    "* Maxout units: Learning the activation function itself, divides $z$ into groups of $k$ values, each maxout unit then outputs the maximum of one of these groups:\n",
    "\n",
    "$$ g(z)_i = \\max_{j \\in \\mathbb{G}^{(i)}} z_i $$\n",
    "\n",
    "\n",
    "### Maxout units:\n",
    "\n",
    "* provides a way of learning a piecewise linear function that responds to multiple-directions in the input $x$ space.\n",
    "* typically needs more regularization. can work well without regularization if traning set is large and no. of pieces per unit is kept low.\n",
    "* less parameters, next layer can get by with $k$ times fewer weights\n",
    " "
   ]
  },
  {
   "cell_type": "markdown",
   "metadata": {
    "collapsed": true
   },
   "source": [
    "#### Redial Basis Function (RBF) as hidden unit\n",
    "\n",
    "$$ h_i = \\exp\\bigg(-\\frac{1}{\\sigma^2_i} \\| W_{:,i} - x \\|^2\\bigg) $$\n",
    "\n",
    "It becomes more active when $x$ approaches a template $W_{:,i}$. Saturates at 0 for most $x$, can be difficult to optimize."
   ]
  },
  {
   "cell_type": "markdown",
   "metadata": {},
   "source": [
    "## Architecture\n",
    "\n",
    "For chain-based architectures, main consideration are choosing width of each layer and depth of the network.\n",
    "\n",
    "Deeper networks are often able to use far fewer units per layer and far fewer parameters."
   ]
  },
  {
   "cell_type": "code",
   "execution_count": null,
   "metadata": {
    "collapsed": true
   },
   "outputs": [],
   "source": []
  },
  {
   "cell_type": "markdown",
   "metadata": {},
   "source": [
    "<a id='backprop'></a>\n",
    "## Backpropation"
   ]
  },
  {
   "cell_type": "markdown",
   "metadata": {},
   "source": [
    "### Source: Chris Olah's [blog](http://colah.github.io/posts/2015-08-Backprop/)\n",
    "\n",
    "For example in a graph with input $X$ and output $Z$.\n",
    "\n",
    "**Forward-mode** differentiation tracks how **one input** affects **every node** in a computational graph, i.e. $\\frac{\\partial}{\\partial X}$\n",
    "\n",
    "**Reverse-mode** differentiation tracks how **every node** in a computational graph affects **one output**, i.e. $\\frac{\\partial Z}{\\partial}$"
   ]
  },
  {
   "cell_type": "markdown",
   "metadata": {},
   "source": [
    "### Reading: Michael Nielson's book [Chapter 2](http://neuralnetworksanddeeplearning.com/chap2.html)\n",
    "\n",
    "Notation: $w^l_{jk}$ - weight for the edge between the $k^{th}$ neuron in layter $(l-1)$ and the $j^{th}$ neuron in the layer $l$\n",
    "\n",
    "Assuming activation is done with the sigma function, we have:\n",
    "\n",
    "$$ a^l_j = \\sigma\\bigg(\\sum_k w^l_{jk} a^{(l-1)}_k + b^l_j \\bigg) $$\n",
    "\n",
    "In vector format, this simplifies to:\n",
    "\n",
    "$$ a^l = \\sigma\\bigg(w^l a^{(l-1)} + b^l \\bigg) $$\n",
    "\n",
    "Define **weighted input**, $z^l = w^l a^{(l-1)} + b^l$, we have $a^l = \\sigma(z^l)$"
   ]
  },
  {
   "cell_type": "markdown",
   "metadata": {},
   "source": [
    "#### 4 Equations for Backprop\n",
    "\n",
    "Let $C$ be the cost function. Define error $\\delta^l_j$ of neuron $j$ in layer $l$:\n",
    "\n",
    "$$ \\delta^l_j = \\frac{\\partial C}{\\partial z^l_j} $$\n",
    "\n",
    "** Equation for the error in the Output Layer**\n",
    "\n",
    "$$\n",
    "\\begin{aligned}\n",
    "\\delta^L_j &= \\frac{\\partial C}{\\partial z^L_j} \\\\\n",
    "&= \\frac{\\partial C}{\\partial a^L_j}\\frac{\\partial a^L_j}{\\partial z^L_j} \\\\\n",
    "&= \\frac{\\partial C}{\\partial a^L_j} \\sigma'\\big(z^L_j\\big) \\\\\n",
    "\\end{aligned}\n",
    "$$"
   ]
  },
  {
   "cell_type": "markdown",
   "metadata": {},
   "source": [
    "** Equation for the error $\\sigma^l$ in terms of error in the next layer $\\sigma^{(l+1)}$** \n",
    "\n",
    "$$\n",
    "\\begin{aligned}\n",
    "\\delta^l &= \\bigg(\\big(w^{(l+1)}\\big)^T \\delta^{(l+1)}\\bigg) \\odot \\sigma'\\big(z^l\\big) \\\\\n",
    "&= \\frac{\\partial C}{\\partial z^l_j} \\\\\n",
    "&= \\sum_k \\frac{\\partial C}{\\partial z^{(l+1)}_j} \\frac{\\partial z^{(l+1)}_j}{\\partial z^l_j} \\\\\n",
    "&= \\sum_k \\frac{\\partial z^{(l+1)}_j}{\\partial z^l_j} \\delta^{(l+1)}_k \\\\\n",
    "\\because z^{(l+1)} &= w^{(l+1)} a^l + b^{(l+1)} \\\\\n",
    "z^{(l+1)} &= w^{(l+1)} \\sigma(z^l) + b^{(l+1)} \\\\\n",
    "\\frac{\\partial z^{(l+1)}_j}{\\partial z^l_j} &= w^{(l+1)} \\sigma'(z^l) \\\\\n",
    "\\therefore \\delta^l &= \\sum_k w^{(l+1)} \\sigma'(z^l) \\delta^{(l+1)}\n",
    "\\end{aligned}\n",
    "$$"
   ]
  },
  {
   "cell_type": "markdown",
   "metadata": {},
   "source": [
    "**Equation for rate of change of cost with respect to biases **\n",
    "\n",
    "$$\n",
    "\\begin{aligned}\n",
    "\\frac{\\partial C}{\\partial b^l_j} &= \\frac{\\partial C}{\\partial a^l_j} \\frac{\\partial a^l_j}{\\partial z^l_j} \\frac{\\partial z^l_j}{\\partial b^l_j} \\\\\n",
    "\\because \\frac{\\partial z^l_j}{\\partial b^l_j} &= 1 \\\\\n",
    "\\therefore \\frac{\\partial C}{\\partial b^l_j} &= \\frac{\\partial C}{\\partial a^l_j} \\frac{\\partial a^l_j}{\\partial z^l_j} = \\delta^l_j \n",
    "\\end{aligned}\n",
    "$$"
   ]
  },
  {
   "cell_type": "markdown",
   "metadata": {},
   "source": [
    "**Equation for the rate of change of the cost with respect to Weights**\n",
    "\n",
    "$$\n",
    "\\begin{aligned}\n",
    "\\frac{\\partial C}{\\partial w^l_{jk}} &= a^{(l-1)}_k \\delta^l_j \\\\\n",
    "&= \\frac{\\partial C}{\\partial a^l_j}\\frac{\\partial a^l_j}{\\partial z^l_j}\\frac{\\partial z^l_j}{\\partial w^l_{jk}} \\\\\n",
    "\\because \\frac{\\partial a^l_j}{\\partial z^l_j} &= \\sigma'(z^l_{jk}) \\\\\n",
    "z^l &= w^l a^{(l-1)} + b^l \\\\\n",
    "\\frac{\\partial z^l_j}{\\partial w^l_{jk}} &= a^{(l-1)}_{jk} \\\\\n",
    "\\therefore \\frac{\\partial C}{\\partial w^l_{jk}} &= \\frac{\\partial C}{\\partial a^l_j}\\sigma'(z^l_{jk}) a^{(l-1)}_{jk}\n",
    "\\end{aligned} \\\\\n",
    "$$"
   ]
  },
  {
   "cell_type": "markdown",
   "metadata": {},
   "source": [
    "## Stanford CS231n Notes\n",
    "\n",
    "[Backprop notes](http://cs231n.github.io/optimization-2)\n",
    "\n",
    "[Matrix Calculus](http://cs231n.stanford.edu/handouts/derivatives.pdf)"
   ]
  },
  {
   "cell_type": "markdown",
   "metadata": {},
   "source": [
    "## Vector, Matrix, Tensor Calculus Notes"
   ]
  },
  {
   "cell_type": "markdown",
   "metadata": {},
   "source": [
    "For $y = Wx$ or $y = xW$:\n",
    "\n",
    "$$ \\frac{\\partial y}{\\partial x} = W $$"
   ]
  },
  {
   "cell_type": "markdown",
   "metadata": {},
   "source": [
    "For $Y = XW$ where $X$ is a $d \\times n$ matrix and $W$ is a $d \\times m$ matrix:\n",
    "\n",
    "$$\n",
    "Y = \n",
    " \\begin{pmatrix}\n",
    "  x_{1,1} & x_{1,2} & \\cdots & x_{1,n} \\\\\n",
    "  \\vdots  & \\vdots  & \\ddots & \\vdots  \\\\\n",
    "  x_{d,1} & x_{d,2} & \\cdots & x_{d,n}\n",
    " \\end{pmatrix}\n",
    " \\begin{pmatrix}\n",
    "  w_{1,1} & w_{1,2} & \\cdots & w_{1,m} \\\\\n",
    "  \\vdots  & \\vdots  & \\ddots & \\vdots  \\\\\n",
    "  w_{d,1} & w_{d,2} & \\cdots & w_{d,m}\n",
    " \\end{pmatrix}\n",
    "$$\n",
    "\n",
    "\n",
    "In scalar format:\n",
    "\n",
    "$$ y_{i,j} = x_{i,1} w_{1,j} + x_{i,2} w_{2,j} + \\cdots + x_{d,n} w_{d,m} $$\n",
    "\n",
    "In this form, you can see that $i$ specifies **which row** of $X$, $j$ specifies **which column** of $W$.\n",
    "\n",
    "$$\n",
    "\\begin{aligned}\n",
    "\\ \\frac{\\partial Y_{i,j}}{\\partial X_{l,k}} &= \n",
    "\\begin{cases}\n",
    "i = l, w_{k,j} \\\\\n",
    "i \\neq l, 0 \\\\\n",
    "\\end{cases} \\\\\n",
    "\\ \\therefore \\frac{\\partial Y_{i,:}}{\\partial X_{i,:}} &= W\n",
    "\\end{aligned}\n",
    "$$"
   ]
  },
  {
   "cell_type": "markdown",
   "metadata": {
    "collapsed": true
   },
   "source": [
    "### Deep Learning Book Notation\n",
    "\n"
   ]
  },
  {
   "cell_type": "code",
   "execution_count": null,
   "metadata": {
    "collapsed": true
   },
   "outputs": [],
   "source": []
  },
  {
   "cell_type": "markdown",
   "metadata": {},
   "source": [
    "# Chapter 7 Regularization"
   ]
  },
  {
   "cell_type": "markdown",
   "metadata": {},
   "source": [
    "Goal of regularization is to move from when a model family included the true data generating process, but also many other possible generating process - the overfitting regime where variance rather than bias dominates the estimation error, to a model that matches the true data generating process.\n",
    "\n",
    "However, most applications of deep learning algos are to domains where the true data generating process is almost certainly **outside the model family**\n",
    "\n",
    "What this means is that, in DL scenarios, we almost always find that the best fitting model is a large model that has been **regularized appropriately**."
   ]
  },
  {
   "cell_type": "markdown",
   "metadata": {},
   "source": [
    "## Norm Panelties\n",
    "\n",
    "Bias terms typically require less data than the weights to fit accurately.\n",
    "\n",
    "Typically we choose to use a parameter norm penalty $\\Omega$ that penalizes **only the weights** of the affine transformation at each layer and leaves the biases unregularized.\n",
    "\n",
    "Sometimes it's desirable to use a separate penalty with a different $\\alpha$ coefficient for **each layer** of the network.\n",
    "\n",
    "## $L^2$ Regularization\n",
    "\n",
    "Given objective function:\n",
    "\n",
    "$$ \\hat{J}(w; X, y) = \\frac{\\alpha}{2} w^T w + J(w; X, y) $$\n",
    "\n",
    "Weigtht update is:\n",
    "$$ w \\leftarrow (1- \\epsilon \\alpha) w - \\epsilon \\triangledown_w J(w; X, y) $$\n",
    "\n",
    "We can see that **it shrinks the weight vector by a constant factor on each step**, just before performing the usual gradient descent.\n",
    "\n",
    "$L^2$ is equivalent to MAP Bayesian inference with a Gaussian prior on weights."
   ]
  },
  {
   "cell_type": "markdown",
   "metadata": {},
   "source": [
    "## $L^1$ Regularization\n",
    "\n",
    "Given objective function:\n",
    "\n",
    "$$ \\hat{J}(w; X, y) = \\alpha\\| w \\|_1 + J(w; X, y) $$\n",
    "\n",
    "Making assumption that inputs are not correlated (i.e. preprocessed by PCA)\n",
    "\n",
    "$$ w_i = \\text{sign}(w^*_i) \\max \\big\\{ \\mid w^*_i \\mid - \\frac{\\alpha}{H_{i,i}}, 0 \\big\\} $$\n",
    "\n",
    "$L^1$ solution is more *sparse*. The penalty term is equivalent to the log-prior term that maximized by MAP Bayesian inference when the prior is an isotropic Laplace distribution over $w \\in \\mathbb{R}^n$."
   ]
  },
  {
   "cell_type": "markdown",
   "metadata": {},
   "source": [
    "## Norm Panelties as Constrainted Optimization\n",
    "\n",
    "For example, constraint can be $\\Omega(\\theta) < k$.\n",
    "\n",
    "Useful when we have prior knowledge of $k$.\n",
    "\n",
    "Penalties can cause nonconvex optmization procedures to get stuck in local minima corresponding to small $\\theta$. In neural networks, this manifests as neural networks that train with several **dead units**. p231. These are units that do not contribute much to the behaviour of the function learned by the network because weights going into or out of them are all very small.\n",
    "\n",
    "Explicit constraints with reprojection can be useful because they impose some stability on the optimization procedure.\n",
    "\n",
    "Hinton (2012c) recommends using constraints combined with a high learning rate to enable rapid exploration of parameter space while maintaining some stability."
   ]
  },
  {
   "cell_type": "markdown",
   "metadata": {},
   "source": [
    "## Noise Robustness\n",
    "\n",
    "Noise applied to the weights can also be interpreted as equivalent (under some assumptions) to a more traditional form of regularization. \n",
    "\n",
    "Error in labels $y$ - treatment is to explicitly model the noise on the labels. [Feels very similar to methods used in Bayesian inference discussed in Statistical Rethinking]"
   ]
  },
  {
   "cell_type": "markdown",
   "metadata": {},
   "source": [
    "## Early Stopping\n",
    "\n",
    "Stop and return parameters that has the lowest validation error, before validation error picks up in a U shape.\n",
    "\n",
    "To reuse validation dataset, two ways:\n",
    "\n",
    "1. initialize the model again and retrain on all the data, but train for the same number of steps as the early stopping procedure. \n",
    "\n",
    "2. Keep parameters from first run and continue training, with all the data. Monitor the average loss function on the validation set and stop until it falls below the value of the training set objective at which the early stopping procedure halted. Avoids the high cost of retraining the model from scratch but not well behaved. e.g. might not reach previous validation set error. \n",
    "\n",
    "Early stopping has the **advantage over weight decay** in that it automatically determines the correct amount of regularization while weight decay requires many training experiments with different values of its hyperparameters."
   ]
  },
  {
   "cell_type": "markdown",
   "metadata": {},
   "source": [
    "## Parameter Sharing\n",
    "\n",
    "Force sets of parameters to be equal. Known as parameter sharing. Used in CNN."
   ]
  },
  {
   "cell_type": "markdown",
   "metadata": {},
   "source": [
    "## Bagging & Ensemble Methods"
   ]
  },
  {
   "cell_type": "markdown",
   "metadata": {},
   "source": [
    "TODO: p249"
   ]
  },
  {
   "cell_type": "markdown",
   "metadata": {},
   "source": [
    "## Dropout"
   ]
  },
  {
   "cell_type": "markdown",
   "metadata": {},
   "source": [
    "TODO: p251 fill gap here."
   ]
  },
  {
   "cell_type": "markdown",
   "metadata": {
    "collapsed": true
   },
   "source": [
    "Effectively an ensemble method. It trains the ensemble consisting of all subnetworks that can be formed by **removing nonoutput** units from an underlying base network.  \n",
    "\n",
    "Some modifications needed for models such as **radial basis function networks**. \n",
    "\n",
    "Dropout aims to approximate **bagging**, but with an exponentially large number of neural networks. It is also not quote the same as bagging. \n",
    "\n",
    "### Training Process\n",
    "\n",
    "1. Starts with minibatch-based learning that makes small steps, such as SGD.\n",
    "2. Each time we load an example into a minibatch, we randomly sample a different binary mask to apply to all the input and hidden units in the network. \n",
    "3. The mask for each unit is sampled independently from all the others. The probability of sampling a mask value of 1 is a hyperparameter fixed before training starts.\n",
    "4. Typically input units is included with a probability of 0.8, and a hidden unit is included with probability of 0.5. \n",
    "5. Then run forward and back-propagation, and the learning update as usual. \n",
    "\n",
    "\n",
    "### Dropout vs Bagging\n",
    "\n",
    "In bagging, all the models are **independent**. In dropout, **models share parameters**. \n",
    "\n",
    "In bagging, each model is trained to convergence on its respective training set. \n",
    "\n",
    "In dropout, typically most models are not explicitly trained at all - usually the model is large enough that it would be infeasible to sample all possible subnetworks within the lifetime of the universe. Instead, **a tiny fraction of the possible subnetworks are each trained for a single step**, and the parameter sharing causes the remaining subnetworks to arrive at good settings of the parameters. "
   ]
  },
  {
   "cell_type": "markdown",
   "metadata": {},
   "source": [
    "### Prediction\n",
    "\n",
    "Bagging models take arithmetic mean of all predicted distributions. \n",
    "\n",
    "For dropout, each submodel defined by mask vector $\\mu$ defines a probability distribution $p(y \\mid x, \\mu)$. The arithmetic mean over all masks is given by:\n",
    "\n",
    "$$ \\sum_{\\mu} p(\\mu)p(y \\mid x, \\mu) $$\n"
   ]
  },
  {
   "cell_type": "markdown",
   "metadata": {},
   "source": [
    "The above is **intractable** usually due to exponential number of terms, except when the structure of the model permits some form of simplifications. \n",
    "\n",
    "Instead, we can approximate the inference with sampling, by averaging together the output from many masks. **Even 10-20 masks are often sufficient to obtain good performance.**\n",
    "\n",
    "**A better approach**: change to using the **geometric mean** of the ensemble memebers' predicted distributions. Requirement: **none** of the submodels assign probability 0 to any event, and we renormalize the resulting distribution. \n",
    "\n",
    "Unnormalized probability distribution, $d$ is the number of of units that may be dropped, assuming a uniform distribution over $\\mu$ to simplify:\n",
    "\n",
    "$$ \\hat{p}_{ensemble}(y \\mid x) = \\sqrt[2^d]{\\prod_{\\mu} p(y \\mid x, \\mu} $$\n",
    "\n",
    "To renormalize:\n",
    "\n",
    "$$ p_{ensemble}(y \\mid x) = \\frac{\\hat{p}_{ensemble}(y \\mid x)}{\\sum_{y'} \\hat{p}_{ensemble}(y' \\mid x)} $$"
   ]
  },
  {
   "cell_type": "markdown",
   "metadata": {},
   "source": [
    "**Weight scaling inference rule**: Hinton (2012c) showed that we can approximate $p_{ensemble}$ by evaluating $p(y \\mid x)$ in one model: the model with all units, but with the weights going out of unit $i$ multiplied by the probability of including unit $i$. Motivation of this modification is **to capture the right expected value of the output from that unit.**\n",
    "\n",
    "Weight scaling rule is **exact** for models that: \n",
    "1. do not have nonlinear hidden units\n",
    "2. regression netowrk with conditionally normal outputs\n",
    "3. deep networks that have hidden layers without nonlinearities. \n",
    "\n",
    "Weight scaling is only **an approximation** for deep models with nonlinearities. \n",
    "\n",
    "Dropout is found to be more effective than other standard computationally inexpensive regularizers, such as weight decay, filter norm constraints, and sparse activity regularization. "
   ]
  },
  {
   "cell_type": "markdown",
   "metadata": {},
   "source": [
    "### Dropout Advantages & Attributes\n",
    "\n",
    "* dropout is very computationally cheap. $\\mathcal{O}(n)$ for training, $\\mathcal{O}(n)$ for memory usage.\n",
    "* does not significantly limit the type of model or training procedure that can be used.\n",
    "\n",
    "However, overall cost of the system can be significant. **Dropout reduces effective capacity of a model, to offset this, we must increase the size of the model.**\n",
    "\n",
    "When extremely few labeled training examples are available, dropout is less effective. (book example <5k examples)\n",
    "\n",
    "For linear regression problems, dropout is **equivalent** to $L^2$ weight decay, with a different weight decay coefficient for each input feature. \n",
    "\n",
    "For deep models, dropout is **not equivalent** to weight decay.\n",
    "\n",
    "Mask matrix $\\mu$ can be real valued. Srivastava et al. (2014) showed that multiplying the weights by $\\mu \\sim \\mathcal{N}(1, \\mathit{I})$ can output dropout based on binary masks. Because $\\mathbb{E}[\\mu] = 1$, the standard network automatically implements approximate inference in the ensemble, without needing any weight scaling. \n",
    "\n",
    "Dropout thus regularizes each hidden unit to be not merely a good feature but a feature that is good in many contexts.\n",
    "\n",
    "Dropout can be seen as a form of highly intelligent, adaptive destruction of the information content of the input rather than destruction of the raw values of the input. \n",
    "\n",
    "Another important aspect of dropout is that the noise is **multiplicative**.\n",
    "\n",
    "Batch normalization can instroduces **both additive and multiplicative noise** on the hidden units at training time, sometimes makes dropout unnecessary."
   ]
  },
  {
   "cell_type": "markdown",
   "metadata": {},
   "source": [
    "# Optimization, Chapter 8\n",
    "\n",
    "Reference:\n",
    "\n",
    "[An Overview of Gradient Descent Optimization Algorithms](http://sebastianruder.com/optimizing-gradient-descent/index.html?utm_content=buffered5ab&utm_medium=social&utm_source=twitter.com&utm_campaign=buffer)"
   ]
  },
  {
   "cell_type": "markdown",
   "metadata": {},
   "source": [
    "## Long-Term Dependencies\n",
    "\n",
    "Suppose that a computational graph contains a path that consists of repeatedly multiplying by a matrix $\\mathit{W}$, such as in RNNs, suppose $\\mathit{W}$ has eigen-decomposition $W = V \\text{diag}(\\lambda) V^{-1}$:\n",
    "\n",
    "$$ W^t = \\big(V \\text{diag}(\\lambda) V^{-1}\\big)^t = V \\text{diag}(\\lambda)^t V^{-1} $$\n",
    "\n",
    "Any eigenvalues $\\lambda_i$ that are not near an absolute value of 1 will either explode if they are greater than 1 in magnitude or vanish if they are less than 1 in magnitude.\n",
    "\n",
    "**Vanishing and exploding gradient problem** refers to the fact that gradients through such a graph are also scaled according to $\\text{diag}(\\lambda)^t$."
   ]
  },
  {
   "cell_type": "markdown",
   "metadata": {},
   "source": [
    "## Gradient Clipping\n",
    "\n",
    "Two ways to do gradient clipping:\n",
    "\n",
    "**Just before the parameter update:**\n",
    "\n",
    "1. clip the parameter gradient from a minibatch element-wise, \n",
    "2. clip the norm $\\| g\\|$ of the gradient:\n",
    "\n",
    "$$\n",
    "\\begin{aligned}\n",
    "if \\| g \\| &\\gt v \\\\\n",
    "g &\\leftarrow \\frac{gv}{\\| g \\|}\n",
    "\\end{aligned}\n",
    "$$\n",
    "\n",
    "The latter has the advantage of guaranteeing that each step is still in the gradient direction, but experiements suggest that both form work similarly.\n",
    "\n",
    "If fact, even taking a **random step** when the gradient magnitude is above a threshold tends to work almost as well.\n",
    "\n",
    "\n",
    "Put another way, traditional stochastic gradient descent uses an unbiased estimate of the gradient, while gradient descent with norm clipping introduces a heuristic bias that we know empirically to be useful."
   ]
  },
  {
   "cell_type": "markdown",
   "metadata": {},
   "source": [
    "## Momentum SGD\n",
    "\n",
    "SGD parameter update rule, learning rate $\\epsilon$, momentum parameter $\\alpha$:\n",
    "\n",
    "$$\n",
    "\\begin{aligned}\n",
    "\\text{Momentum: } & v \\leftarrow \\alpha v - \\epsilon \\triangledown_{\\theta} \\bigg[ \\frac{1}{m} \\sum_{i=1}^m \\mathit{L}\\big(f(x^{(i)}; \\theta), y^{(i)}\\big)\\bigg] \\\\\n",
    "\\text{Nesterov Momentum: } & v \\leftarrow \\alpha v - \\epsilon \\triangledown_{\\theta} \\bigg[ \\frac{1}{m} \\sum_{i=1}^m \\mathit{L}\\big(f(x^{(i)}; \\theta + \\alpha v), y^{(i)}\\big)\\bigg ]\\\\\n",
    "& \\theta \\leftarrow \\theta + v\n",
    "\\end{aligned}\n",
    "$$\n",
    "\n",
    "**Terminal velocity**: \n",
    "\n",
    "$$\n",
    "\\begin{aligned}\n",
    "v &\\leftarrow \\alpha v - \\epsilon g \\\\\n",
    "(1 - \\alpha) v &\\leftarrow - \\epsilon g \\\\\n",
    "v &= \\frac{-\\epsilon g}{1 - \\alpha} \\\\\n",
    "\\text{magnitude of step: }& \\frac{\\epsilon \\| g \\|}{1 - \\alpha}\n",
    "\\end{aligned}\n",
    "$$\n",
    "\n",
    "Thus it's helpful to think of the momentum hypterparameter in terms of $\\frac{1}{1-\\alpha}$. Common values for $\\alpha$ includes 0.5, 0.9, and 0.99. $\\alpha$ can be adapted over time, but it is less important than shrinking $\\epsilon$ over time."
   ]
  },
  {
   "cell_type": "markdown",
   "metadata": {
    "collapsed": true
   },
   "source": [
    "## Parameter Initialization\n",
    "\n",
    "**Breaking Symmetry** between different units: If two hidden units with the same activation function are connected to the same inputs, these units must have different parameters. \n",
    "\n",
    "**Biases** for each unit is typically set to a heuristically chosen constant.\n",
    "\n",
    "**Normalized initialization** p295: sampling each weight in a fully connected layer with $m$ inputs and $n$ outputs from:\n",
    "\n",
    "$$ W_{i,j} \\sim U\\bigg( -\\sqrt{\\frac{6}{m+n}}, \\sqrt{\\frac{6}{m+n}} \\bigg) $$\n",
    "\n",
    "**Sparse initialization** p296: each unit is initialized to have exactly $k$ non-zero weights. However this imposes strong priors on weights that have large Gaussian values. Can cause problems for some units, such as maxout. \n",
    "\n",
    "Treat initial scale of weights as a hyperparameter. Algo in 11.4.2. **Rule of thumb** for choosing the initial scales is to look at the range or standard deviation of activations or gradients on a single minibatch. \n",
    "\n",
    "Setting **biases** to zero is compatible with most weight initialization schemes. A few situations where we may set biases to non-zero values:\n",
    "\n",
    "* If bias is for an output unit, then it's often beneficial to initialize the bias to obtain the right marginal statistics of the output. \n",
    "\n",
    "* Sometimes we may want to choose the bias to avoid causing too much saturation at initialization. \n",
    "\n",
    "* Sometimes a unit controls whether other units are able to participate in a function. "
   ]
  },
  {
   "cell_type": "markdown",
   "metadata": {},
   "source": [
    "## Algorithems with Adaptive Learning Rates \n",
    "\n",
    "### AdaGrad, p299\n",
    "\n",
    "Individually adapts the learning rates of all model parameters by scaling them inversely proportional to the square root of the sum of all the historical squared values of the gradient. \n",
    "\n",
    "Given gradient $g$ and parameters $\\theta$:\n",
    "\n",
    "Requires:\n",
    "\n",
    "* global learning rate $\\epsilon$\n",
    "* a small constant $\\delta$ usually $10^{-7}$ to stabilize division by small numbers. \n",
    "\n",
    "Compute gradient: $g \\leftarrow \\frac{1}{m}\\Delta_\\theta \\sum_i \\mathit{L}\\big(f(x^{(i)}; \\theta), y^{(i)} \\big)$\n",
    "\n",
    "Accumulate squared gradient $r \\leftarrow r + g \\odot g$\n",
    "\n",
    "Compute gradient update: $\\Delta\\theta \\leftarrow -\\frac{\\epsilon}{\\delta + \\sqrt{r}} \\odot g$\n",
    "\n",
    "Apply update: $\\theta \\leftarrow \\theta + \\Delta\\theta$"
   ]
  },
  {
   "cell_type": "markdown",
   "metadata": {},
   "source": [
    "### RMSProp\n",
    "\n",
    "One of the most effective and practical optimization algorithm for deep neural networks. \n",
    "\n",
    "Constrast to AdaGrad, it uses an exponentially decaying average to discard history from the extreme past.\n",
    "\n",
    "Requires:\n",
    "\n",
    "* decay rate, $\\rho$\n",
    "* a small constant $\\delta$ usually $10^{-6}$ to stabilize division by small numbers\n",
    "\n",
    "Algo:\n",
    "\n",
    "Accumulate squared gradient $r \\leftarrow \\rho r + (1-\\rho) g \\odot g$\n",
    "\n",
    "Compute gradient update: $\\Delta\\theta \\leftarrow -\\frac{\\epsilon}{\\delta + \\sqrt{r}} \\odot g$\n",
    "\n",
    "Apply update: $\\theta \\leftarrow \\theta + \\Delta\\theta$"
   ]
  },
  {
   "cell_type": "markdown",
   "metadata": {},
   "source": [
    "### RMSProp with Nesterov Momentum\n",
    "\n",
    "Additionally Requires:\n",
    "\n",
    "* momentum coefficient $\\alpha$\n",
    "* initial velocity $v$:\n",
    "\n",
    "Compute interim update: $\\widetilde{\\theta} \\leftarrow \\theta + \\alpha v$\n",
    "\n",
    "Compute gradient: $g \\leftarrow \\frac{1}{m}\\Delta_\\theta \\sum_i \\mathit{L}\\big(f(x^{(i)}; \\widetilde{\\theta}), y^{(i)} \\big)$\n",
    "\n",
    "Accumulate squared gradient $r \\leftarrow \\rho r + (1-\\rho) g \\odot g$\n",
    "\n",
    "Compute velocity update: $v \\leftarrow \\alpha v - \\frac{\\epsilon}{\\sqrt{r}} \\odot g$\n",
    "\n",
    "Rest is the same as RMSProp"
   ]
  },
  {
   "cell_type": "markdown",
   "metadata": {},
   "source": [
    "### Adam (Adaptive Momentum)\n",
    "\n",
    "Requires:\n",
    "\n",
    "A small constant $\\delta$ usually $10^{-8}$ to stabilize division by small numbers,\n",
    "\n",
    "Exponential decay rates for momentum estimates, $\\rho_1$ and $\\rho_2$ in $[0, 1)$\n",
    "\n",
    "Algo:\n",
    "\n",
    "Update biases first momentum estimate: $s \\leftarrow \\rho_1 s + (1-\\rho_1)g$\n",
    "\n",
    "Update biases second momentum estimate: $r \\leftarrow \\rho_2 r + (1-\\rho_2)g \\odot g$\n",
    "\n",
    "Correct bias in first momentum: $\\hat{s} = \\frac{s}{1 - \\rho_1^t}$\n",
    "\n",
    "Correct bias in second momentum: $\\hat{r} = \\frac{r}{1 - \\rho_2^t}$\n",
    "\n",
    "Compute uipdate: $\\Delta_{\\theta} = -\\epsilon \\frac{\\hat{s}}{\\sqrt{\\hat{r}} + \\delta} $"
   ]
  },
  {
   "cell_type": "markdown",
   "metadata": {},
   "source": [
    "<a id='batchnorm'></a>\n",
    "## Batch Normalization p309"
   ]
  },
  {
   "cell_type": "markdown",
   "metadata": {
    "collapsed": true
   },
   "source": [
    "Problem: gradient tells us how to update each parameter, **under the assumption that the other layers do not change**. In practice, we update all the layers simultaneously. "
   ]
  },
  {
   "cell_type": "markdown",
   "metadata": {},
   "source": [
    "TODO: \n",
    "\n",
    "* understand the example in book\n",
    "* understand detailed numerical example of how BN works and how back-prop works in this context\n",
    "    * read [this](https://kratzert.github.io/2016/02/12/understanding-the-gradient-flow-through-the-batch-normalization-layer.html) and [this](http://cthorey.github.io./backpropagation/)\n",
    "    * [BN in Tensorflow](http://ruishu.io/2016/12/27/batchnorm/)\n",
    "    * [Stack Overflow Answer with pointers to Keras](https://stats.stackexchange.com/questions/215458/what-is-an-explanation-of-the-example-of-why-batch-normalization-has-to-be-done)\n",
    "    * [R2RT Example in TensorFlow](https://r2rt.com/implementing-batch-normalization-in-tensorflow.html)\n",
    "    * [cs231n 2016 Lectures by Andrej Karpathy](https://www.youtube.com/watch?v=gYpoJMlgyXA&index=5&list=PLkt2uSq6rBVctENoVBg1TpCC7OQi31AlC)"
   ]
  },
  {
   "cell_type": "markdown",
   "metadata": {},
   "source": [
    "Batch normalization (refered to as **BN** below) can be applied to any input or hidden layer in a network.\n",
    "\n",
    "Define:\n",
    "\n",
    "* $\\mathbf{H}$: a minibatch of activations of the layer to normalize, arranged as a design matrix, with the activations for each example appearing in a **row** of the matrix.\n",
    "\n",
    "To normalize:\n",
    "\n",
    "$$ H' = \\frac{H - \\mu}{\\sigma} $$\n",
    "\n",
    "where:\n",
    "\n",
    "* $\\mu$ is a vector containing the mean of each unit,\n",
    "* $\\sigma$ is a vector containing the standard deviation of each unit."
   ]
  },
  {
   "cell_type": "markdown",
   "metadata": {},
   "source": [
    "### Maths Details for Batch Norm Backprop\n",
    "\n",
    "This [post](http://cthorey.github.io./backpropagation/) showed some of the maths work behinding batch norm. \n",
    "\n",
    "[Here](./BatchNorm_Maths.ipynb) I produce my work following this article."
   ]
  },
  {
   "cell_type": "markdown",
   "metadata": {
    "collapsed": true
   },
   "source": [
    "### At Training time:\n",
    "\n",
    "$$\n",
    "\\begin{aligned}\n",
    "\\mu &= \\frac{1}{m}\\sum_{i} \\mathbf{H}_{i,:} \\\\\n",
    "\\sigma &= \\sqrt{\\delta + \\frac{1}{m}\\sum_{i}(\\mathbf{H} - \\mu)^2_i}\n",
    "\\end{aligned}\n",
    "$$\n",
    "\n",
    "where:\n",
    "\n",
    "* $\\delta$ is a small positive value such as $10^{-8}$, imposed to avoid encountering the undefined gradient of $\\sqrt{z}$ at $z = 0$.\n",
    "\n",
    "**Crucially, we back-prop through these operations for computing the mean and the standard deviation**, and for applying them to normalize $\\mathbf{H}$. \n",
    "\n",
    "This means that the gradient will never propose an operation that acts simply to increase the standard deviation or mean of $h_i$.\n",
    "\n",
    "Previous methods:\n",
    "\n",
    "* adding penalities to the cost function to encourage units to have normalized activation statistics,\n",
    "    * **drawback**: results in imperfect normalization \n",
    "* intervening to renormalize unit statistics after each gradient descent step. \n",
    "    * **drawback**: results in significant waste of time, as the learning algo repeatedly proposed changing the mean and variance, which the normalization step repeatedly undid this change."
   ]
  },
  {
   "cell_type": "markdown",
   "metadata": {},
   "source": [
    "### At Test time:\n",
    "\n",
    "$\\mu$ and $\\sigma$ may be replaced by running averages that were collected during training time. \n",
    "\n",
    "    * enables the model to be evaluated on a single example (vs minibatch)\n",
    "    "
   ]
  },
  {
   "cell_type": "markdown",
   "metadata": {},
   "source": [
    "**BN** acts to standardize only the mean and variance of each unit in order to stablize learning, but it allows the relationship betwen units and the nonlinear statistics of a single unit to change."
   ]
  },
  {
   "cell_type": "markdown",
   "metadata": {},
   "source": [
    "It is commont to replace the batch of hidden unit activiations $\\mathbf{H}$ with $\\gamma\\mathbf{H}' + \\beta$, rather than simply the normalized $\\mathbf{H}'$. It looks confusing as BN centers the activations mean to 0, but this step introduces nonzero mean. However, this method is significantly easier to learn with gradient descent - the mean is solely depended on $\\beta$, not a complicated interaction between the parameters in the layers below $\\mathbf{H}$."
   ]
  },
  {
   "cell_type": "markdown",
   "metadata": {},
   "source": [
    "Most network layers takes the form of $\\phi\\big(\\mathbf{XW} + b\\big)$, question is whether to normalize $\\mathbf{X}$ or $\\mathbf{XW} + b$.\n",
    "\n",
    "Ioffe and Szegedy (2015) recommends using normalized $\\mathbf{XW}$ (as $b$ is replaced by $\\beta$ of the BN reparametrization).\n",
    "\n",
    "Other attributes:\n",
    "\n",
    "* BN enables **higher** learning rates, trains faster\n",
    "* BN **regularizes** the model.\n",
    "* Imporoves gradient flow through the network\n",
    "* Reduces the strong dependence on initilization"
   ]
  },
  {
   "cell_type": "markdown",
   "metadata": {},
   "source": [
    "<a id='batchnorm_paper'></a>\n",
    "## Batch Norm Paper\n",
    "\n",
    "[paper](https://arxiv.org/abs/1502.03167)\n",
    "\n",
    "[cs231 video](https://www.youtube.com/watch?v=gYpoJMlgyXA&index=5&list=PLkt2uSq6rBVctENoVBg1TpCC7OQi31AlC)\n",
    "\n",
    "Define **Internal Covariate Shift** as the change in the distribution of network activations due to the change in network parameters during training. \n",
    "\n",
    "**Notation** \n",
    "\n",
    "A layer with $d$-dimensional input $x=(x^{(1)}, \\cdots, x^{(d)})$, normalize each dimension. \n",
    "\n",
    "### Training\n",
    "\n",
    "For each minibatch $\\mathcal{B}$ of size $m$:\n",
    "\n",
    "$$\n",
    "\\begin{aligned}\n",
    "\\mu_{\\mathcal{B}} &= \\frac{1}{m} \\sum_{i=1}^{m} x_i &\\text{minibatch mean} \\\\\n",
    "\\sigma_{\\mathcal{B}}^2 &= \\frac{1}{m} \\sum_{i=1}^{m} (x_i - \\mu_{\\mathcal{B}})^2 &\\text{minibatch variance} \\\\\n",
    "\\hat{x} &= \\frac{x_i - \\mu_{\\mathcal{B}}}{\\sigma_{\\mathcal{B}}^2 + \\epsilon} &\\text{normalize} \\\\\n",
    "y_i &= \\gamma \\hat{x}_i + \\beta = BN_{\\gamma,\\beta}(x_i) &\\text{scale & shift}\n",
    "\\end{aligned}\n",
    "$$\n",
    "\n",
    "### Test / Inference\n",
    "\n",
    "At test time, normalization is done using stats from the **training population**, rather than minibatch:\n",
    "\n",
    "$$ \\hat{x} = \\frac{x - \\mathbb{E}[x]}{\\sqrt{Var[x] + \\epsilon}} $$\n",
    "\n",
    "where the expectation is over **training minibatches** of size $m$ and $\\sigma_{\\mathcal{B}}^2$ are their sample variances.\n",
    "\n",
    "For clarity:\n",
    "\n",
    "$$\n",
    "\\begin{aligned}\n",
    "\\mathbb{E}[x] &= \\mathbb{E}_{\\mathcal{B}} [\\mu_{\\mathcal{B}}] \\\\\n",
    "Var[x] &= \\frac{m}{m-1} \\times \\mathbb{E}_{\\mathcal{B}} [\\sigma_{\\mathcal{B}}^2] \\\\\n",
    "y &= \\frac{\\gamma}{\\sqrt{Var[x] + \\epsilon}} \\times x + \\bigg(\\beta -  \\frac{\\gamma \\mathbb{E}[x]}{\\sqrt{Var[x] + \\epsilon}}\\bigg)\n",
    "\\end{aligned}\n",
    "$$\n",
    "\n",
    "Using **moving averages** instead, we can track the accuracy of a model as it trains.\n",
    "\n",
    "Andrej Karpathy also mentioned in his lecture that you can compute this over the entire data set also. "
   ]
  },
  {
   "cell_type": "markdown",
   "metadata": {},
   "source": [
    "## Coordinate Descent, p312\n",
    "\n",
    "Minimize $f(x)$ with respect to a single variable $x_i$, then minimize it with respect to another variable $x_j$, and so on. Repeatly cycling through all the variables, we are guaranteed to arrive at a **local** minimum. \n",
    "\n",
    "**Block coordinate descent** refers to minimizing with respect to a subset of the variables simultaneously.\n",
    "\n",
    "Coordinate descent is **not** a good strategy when the value of one variable strongly influences the optimal value of another variable. E.g. $f(x) = (x_1 - x_2)^2 + \\alpha (x^2_1 + x^2_2), \\alpha \\gt 0$. "
   ]
  },
  {
   "cell_type": "markdown",
   "metadata": {},
   "source": []
  },
  {
   "cell_type": "markdown",
   "metadata": {},
   "source": [
    "## Polyak Averaging, p313\n",
    "\n",
    "Polyak averaging consists of averaging several points in the trajectory through parameter space visited by an optimization algorithm. \n",
    "\n",
    "If $t$ iterations of gradient descent vist points $\\theta^{(1)}, \\cdots, \\theta^{(t)}$, then the output of the Polyak averaging altorithm is $\\hat{\\theta}^{(t)} = \\frac{1}{t}\\sum_i \\theta^{(i)}$\n",
    "\n",
    "Polyak averaging for convex optimization has strong guarantee for convergence. For neural networks, it's more heuristic, but works well in practice. \n",
    "\n",
    "In nonconvex problems, it is typical to use an exponentially decaying running average:\n",
    "\n",
    "$$\\hat{\\theta}^{(t)} = \\alpha \\hat{\\theta}^{(t-1)} + (1-\\alpha)\\theta^{(t)} $$"
   ]
  },
  {
   "cell_type": "code",
   "execution_count": null,
   "metadata": {
    "collapsed": true
   },
   "outputs": [],
   "source": []
  },
  {
   "cell_type": "markdown",
   "metadata": {},
   "source": [
    "# Practical Methodology\n",
    "\n",
    "Based on DL, material based on [Andrew Ng](http://cs229.stanford.edu/materials/ML-advice.pdf)"
   ]
  },
  {
   "cell_type": "markdown",
   "metadata": {},
   "source": [
    "## Performance Metrics\n",
    "\n",
    "**Precision** as $p$: fraction of detections reported by the model that were correct, (correct predictions / all predictions).\n",
    "\n",
    "**Recal** as $r$: fraction of the true events that were detected (% of true positives detected).\n",
    "\n",
    "**F1-Score**\n",
    "\n",
    "$$ F = \\frac{2pr}{p + r} $$\n",
    "\n",
    "**AUC**: Area under the Precision-Recall curve.\n",
    "\n",
    "**Coverage**: is the fraction of examples for which the machine learning system is able to produce a response. It is possible to trade coverage for accuracy (the error rate of a system). \n",
    "\n",
    "**Define which performance metrics to improve ahead of time, then concentrate on improve it.** Need to define goal post first."
   ]
  },
  {
   "cell_type": "markdown",
   "metadata": {
    "collapsed": true
   },
   "source": [
    "## Establish an end-to-end system ASAP\n",
    "\n",
    "Choose model based on general category: feedforward network, convolutional network if input has known topological structure. Use ReLU/Leaky ReLU.\n",
    "\n",
    "If input or output is a sequence, use gated RNN, such as LSTM or GRU.\n",
    "\n",
    "Use **SGD with momentum with a decaying learning rate**. Or **Adam**. If optimization is problematic, use **batch normalization** quickly.\n",
    "\n",
    "Use **early stopping**. **Dropout** to regularize."
   ]
  },
  {
   "cell_type": "markdown",
   "metadata": {},
   "source": [
    "## Gather More Data or Not\n",
    "\n",
    "If **training error** is poor, no need to collect data, **increase the size of the model** by adding more layers or more hidden units to each layer. Or **tune the model such as hyperparameters**.\n",
    "\n",
    "If using large model and carefully tuned hyperparameters, training error is still high, then there may be **data quality** issues. Collect more data, clean the data, start again.\n",
    "\n",
    "If training error is acceptable but **test error** is not, **collect more data**.\n",
    "\n",
    "Plot curve showing relationship between **training data size** and **generalization error rate**. By extrapolating, one can predict how much additional training data would need to be gathered to reach a performance goals.\n",
    "\n",
    "Data size should be viewed in **log scale**, i.e. double the size of data between experiments."
   ]
  },
  {
   "cell_type": "markdown",
   "metadata": {},
   "source": [
    "## Manual Hyperparameter Tuning\n",
    "\n",
    "Primary goal: **adjust the effective capacity of the model to match the complexity of the task**.\n",
    "\n",
    "Effective capacity constrained by 3 factors:\n",
    "\n",
    "1. the representational capacity of the model.\n",
    "2. ability of the learning algothrim to successfully minimize the cost function used to train the model.\n",
    "3. the degree to which the cost function and the training procedure regularize the model.\n",
    "\n",
    "Generalization error is typically **U-shaped** when plotted against one of the hyperparameters.\n",
    "\n",
    "Not every hyperparameter will be able to explore the entire U-shaped curve.\n",
    "\n",
    "The effective capacity is highest when the **learning rate** is **correct** for the optimization problem. Learning rate has a U-shaped curve for training error.\n",
    "\n",
    "Tuning parameters other than the learning rate reuiqres monitoring both training and test error to diagnose whether your model is overfitting or underfitting.\n",
    "\n",
    "Test Error = Training Error + Gap between Training and Test Error\n",
    "\n",
    "Neural networks typically perform best when the **training error is very low (thus when capacity is high)**, so test error is primiarly driven by the gap between the two errors. **Goal** is to reduce this gapp without increasing training error faster than the gap decreases."
   ]
  },
  {
   "cell_type": "markdown",
   "metadata": {},
   "source": [
    "## Automatic Hyperparameter Tuning\n",
    "\n",
    "**Grid search** typically involves picking values approximately on a log scale. \n",
    "\n",
    "**Random search** typically reduces validation error much faster than grid search, in terms of the number of trials run by each method. Often this is **repeated many times** to refine the search based on the results of the first run.\n",
    "\n",
    "See Ian Goodfellow's tip on this [here](https://www.quora.com/Whats-Ian-Goodfellows-favourite-approach-to-hyperparameter-optimization):\n",
    "\n",
    "\"Random search—-run 25 jobs in parallel with random hyperparameters, choose the best 2–3 jobs, tighten the random distributions to spend more time near those best jobs, and run another 25.\""
   ]
  },
  {
   "cell_type": "markdown",
   "metadata": {},
   "source": [
    "## Model Based Hyperparameter Optimization\n",
    "\n",
    "No conclusive results yet for Bayesian hyperparameter optimization yet.\n",
    "\n",
    "One drawback common to most hyperparameter optimization algos is that they require for a training experiment to run to completion before they are able to extract any information from the experiment. Thus much less efficient."
   ]
  },
  {
   "cell_type": "markdown",
   "metadata": {},
   "source": [
    "## Debugging Strategy, p424\n",
    "\n",
    "Two ways:\n",
    "\n",
    "* Design a case that is so simple that the correct behaviour can be predicted.\n",
    "* design a test the exercises one part of the neural net implementation in isolation.\n",
    "\n",
    "Important tests:\n",
    "\n",
    "* visualize the model in action\n",
    "* visualize the worst mistakes\n",
    "* Reason about software using training and test error (overfitting symptoms can be caused by model not saved right, test data not processed in the same way as training data, etc)\n",
    "* Fit a tiny dataset\n",
    "* Compare backprop derivatives to numerical derivatives: compare automatic differentiation to **finite differences**\n",
    "* Monitor histograms of activations and gradient. would like the magnitude of parameter updates over a minibatch to be around **1% of the magnitude of the parameter**, not 50% or 0.0001%.\n",
    "    * sparse data results in some parameters to be updated very rarely."
   ]
  },
  {
   "cell_type": "code",
   "execution_count": null,
   "metadata": {
    "collapsed": true
   },
   "outputs": [],
   "source": []
  }
 ],
 "metadata": {
  "kernelspec": {
   "display_name": "Python 3",
   "language": "python",
   "name": "python3"
  },
  "language_info": {
   "codemirror_mode": {
    "name": "ipython",
    "version": 3
   },
   "file_extension": ".py",
   "mimetype": "text/x-python",
   "name": "python",
   "nbconvert_exporter": "python",
   "pygments_lexer": "ipython3",
   "version": "3.6.2"
  }
 },
 "nbformat": 4,
 "nbformat_minor": 2
}
