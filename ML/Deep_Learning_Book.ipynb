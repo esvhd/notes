{
 "cells": [
  {
   "cell_type": "markdown",
   "metadata": {
    "deletable": true,
    "editable": true
   },
   "source": [
    "# Deep Learning Notes\n",
    "\n",
    "by zwl"
   ]
  },
  {
   "cell_type": "code",
   "execution_count": 1,
   "metadata": {
    "collapsed": true,
    "deletable": true,
    "editable": true
   },
   "outputs": [],
   "source": [
    "import numpy as np"
   ]
  },
  {
   "cell_type": "markdown",
   "metadata": {
    "deletable": true,
    "editable": true
   },
   "source": [
    "## Essential Formulae\n",
    "\n",
    "Definitions first:\n",
    "\n",
    "$$ \n",
    "\\begin{aligned}\n",
    "\\sigma(x) =& \\frac{1}{1 + e^{-x}} \\\\\n",
    "\\zeta(x) =& \\log(1 + e^x) \\\\\n",
    "\\end{aligned}\n",
    "$$\n",
    "\n",
    "## Properties of Sigmoid & Softplus functions\n",
    "Derivations for Page 67 formulae. "
   ]
  },
  {
   "cell_type": "markdown",
   "metadata": {
    "deletable": true,
    "editable": true
   },
   "source": [
    "### 3.33. \n",
    "\n",
    "$$\n",
    "\\begin{aligned}\n",
    "\\sigma(x) =& \\frac{e^x}{e^x} \\times \\frac{1}{1 + e^{-x}} \\\\\n",
    "=& \\frac{e^x}{e^x(1 + e^{-x})} \\\\\n",
    "=& \\frac{e^x}{e^x + 1}\n",
    "\\end{aligned}\n",
    "$$"
   ]
  },
  {
   "cell_type": "markdown",
   "metadata": {
    "deletable": true,
    "editable": true
   },
   "source": [
    "### 3.34. \n",
    "\n",
    "Let $y = e^{-x}$, $z = 1 + y$, then we have $\\sigma(x) = z^{-1} $.\n",
    "\n",
    "$$\n",
    "\\begin{aligned}\n",
    "\\frac{d}{dx}\\sigma(x) =& \\frac{d\\sigma}{dz} \\times \\frac{dz}{dy} \\times \\frac{dy}{dx} \\\\\n",
    "=& -z^{-2} \\times 1 \\times -e^{-x} \\\\\n",
    "=& -(1 + e^{-1})^{-2} \\times -e^{-x} \\\\\n",
    "=& \\frac{e^{-x}}{(1 + e^{-1})^{2}} \\\\\n",
    "=& \\frac{1}{1 + e^{-1}} \\times \\frac{e^{-x}}{1 + e^{-1}} \\\\\n",
    "=& \\sigma(x) (1-\\sigma(x))\n",
    "\\end{aligned}\n",
    "$$"
   ]
  },
  {
   "cell_type": "markdown",
   "metadata": {
    "deletable": true,
    "editable": true
   },
   "source": [
    "### 3.35.\n",
    "\n",
    "$$\n",
    "\\begin{aligned}\n",
    "1 - \\sigma(x) =& 1 - \\frac{1}{1 + e^{-x}}\\\\\n",
    "=& \\frac{1 + e^{-x} - 1}{1 + e^{-x}} \\\\\n",
    "=& \\frac{e^{-x}}{1 + e^{-x}} \\\\\n",
    "=& \\frac{1}{e^x + 1} \\\\\n",
    "=& \\sigma(-x)\n",
    "\\end{aligned}\n",
    "$$"
   ]
  },
  {
   "cell_type": "markdown",
   "metadata": {
    "deletable": true,
    "editable": true
   },
   "source": [
    "### 3.36.\n",
    "\n",
    "$$\n",
    "\\begin{aligned}\n",
    "\\log(\\sigma(x)) &= \\log\\big(\\frac{1}{1 + e^{-x}}\\big) \\\\\n",
    "&= \\log(1) - \\log(1 + e^{-x}) \\\\\n",
    "&= -\\log(1 + e^{-x}) \\\\\n",
    "&= -\\zeta(-x)\n",
    "\\end{aligned}\n",
    "$$"
   ]
  },
  {
   "cell_type": "markdown",
   "metadata": {
    "deletable": true,
    "editable": true
   },
   "source": [
    "### 3.37.\n",
    "\n",
    "Let $u = 1 + e^x$, hence $\\zeta(x) = \\log(u)$, then\n",
    "\n",
    "$$\n",
    "\\begin{aligned}\n",
    "\\frac{d}{dx}\\zeta(x) =& \\frac{d\\zeta}{du} \\times \\frac{du}{dx} \\\\\n",
    "&= \\frac{1}{u} \\times e^x \\\\\n",
    "&= \\frac{e^x}{1 + e^x} \\\\\n",
    "&= \\frac{1}{e^{-x} + 1} \\\\\n",
    "&= \\sigma(x)\n",
    "\\end{aligned}\n",
    "$$"
   ]
  },
  {
   "cell_type": "markdown",
   "metadata": {
    "deletable": true,
    "editable": true
   },
   "source": [
    "### 3.38.\n",
    "\n",
    "**Logit function**, for $ \\forall x \\in (0, 1)$:\n",
    "\n",
    "$$ \\sigma^{-1}(x) = \\log\\bigg(\\frac{x}{1-x}\\bigg) $$\n",
    "\n",
    "Here the power of -1 does not mean reciprical, but the **inverse**. Eg. given $\\sigma(x)$, find $x$. \n",
    "\n",
    "$$\n",
    "\\begin{aligned}\n",
    "\\sigma(x) &= \\frac{1}{1 + e^{-x}} \\\\\n",
    "1 + e^{-x} &= \\frac{1}{\\sigma(x)} \\\\\n",
    "e^{-x} &= \\frac{1}{\\sigma(x)} - 1 \\\\\n",
    "-x &= \\log\\bigg(\\frac{1-\\sigma(x)}{\\sigma(x)}\\bigg) \\\\\n",
    "x &= -\\log\\bigg(\\frac{1-\\sigma(x)}{\\sigma(x)}\\bigg) \\\\\n",
    "x &= \\log\\bigg(\\frac{\\sigma(x)}{1-\\sigma(x)}\\bigg)\n",
    "\\end{aligned}\n",
    "$$"
   ]
  },
  {
   "cell_type": "code",
   "execution_count": 8,
   "metadata": {
    "collapsed": false,
    "deletable": true,
    "editable": true
   },
   "outputs": [
    {
     "data": {
      "text/plain": [
       "0.40546510810816422"
      ]
     },
     "execution_count": 8,
     "metadata": {},
     "output_type": "execute_result"
    }
   ],
   "source": [
    "def sigmoid(x):\n",
    "    return 1. / (1 + np.exp(-x))\n",
    "\n",
    "def logit(x):\n",
    "    return np.log(x / (1.-x))\n",
    "\n",
    "logit(.6)"
   ]
  },
  {
   "cell_type": "code",
   "execution_count": 12,
   "metadata": {
    "collapsed": false,
    "deletable": true,
    "editable": true
   },
   "outputs": [
    {
     "data": {
      "text/plain": [
       "0.59999999999999998"
      ]
     },
     "execution_count": 12,
     "metadata": {},
     "output_type": "execute_result"
    }
   ],
   "source": [
    "sigmoid(logit(.6))"
   ]
  },
  {
   "cell_type": "markdown",
   "metadata": {
    "deletable": true,
    "editable": true
   },
   "source": [
    "### 3.39.\n",
    "\n",
    "Inverse of $\\zeta(x)$, let $u=\\zeta(x)$:\n",
    "\n",
    "$$\n",
    "\\begin{aligned}\n",
    "u &= \\log(1 + e^x) \\\\\n",
    "e^u &= 1 + e^x \\\\\n",
    "e^x &= e^u - 1 \\\\\n",
    "\\forall x &> 0 \\text{, take log on both sides} \\\\\n",
    "x &= \\log\\big( e^u -1 \\big)\n",
    "\\end{aligned}\n",
    "$$"
   ]
  },
  {
   "cell_type": "markdown",
   "metadata": {
    "deletable": true,
    "editable": true
   },
   "source": [
    "### 3.40.\n",
    "\n",
    "$$\n",
    "\\begin{aligned}\n",
    "\\int^{x}_{-\\infty} \\sigma(y)dy &= \\int^{x}_{-\\infty} \\frac{1}{1 + e^{-y}} \\\\\n",
    "&= \\log \\big \\lvert 1 + e^{-y} \\big \\rvert + y \\\\\n",
    "&= \\log \\big ( \\frac{e^y + 1}{e^y} \\big ) + y \\\\\n",
    "&= \\log(e^y + 1) - \\log(e^y) + y \\\\\n",
    "&= \\log(e^y + 1)\n",
    "\\end{aligned}\n",
    "$$\n",
    "\n",
    "Key here is the integration part. Results can be checked with `SymPy`. Or, to reverse that back:\n",
    "\n",
    "$$\n",
    "\\begin{aligned}\n",
    "\\frac{d}{dx}\\big(\\log(1 + e^{-x}) + x\\big) &= \\frac{1}{1+e^{-x}} \\times -e^{-x} + 1 \\\\\n",
    "&= \\frac{1 + e^{-x} - e^{-x}}{1 + e^{-x}} \\\\\n",
    "&= \\sigma(x)\n",
    "\\end{aligned}\n",
    "$$"
   ]
  },
  {
   "cell_type": "code",
   "execution_count": 14,
   "metadata": {
    "collapsed": true,
    "deletable": true,
    "editable": true
   },
   "outputs": [],
   "source": [
    "import sympy as spy"
   ]
  },
  {
   "cell_type": "code",
   "execution_count": 16,
   "metadata": {
    "collapsed": false,
    "deletable": true,
    "editable": true
   },
   "outputs": [
    {
     "data": {
      "text/plain": [
       "y + log(1 + exp(-y))"
      ]
     },
     "execution_count": 16,
     "metadata": {},
     "output_type": "execute_result"
    }
   ],
   "source": [
    "y = spy.Symbol('y')\n",
    "\n",
    "spy.integrate(1 / (1 + spy.exp(-y)))"
   ]
  },
  {
   "cell_type": "code",
   "execution_count": 17,
   "metadata": {
    "collapsed": false,
    "deletable": true,
    "editable": true,
    "scrolled": true
   },
   "outputs": [
    {
     "data": {
      "text/plain": [
       "exp(-y)/(1 + exp(-y))**2"
      ]
     },
     "execution_count": 17,
     "metadata": {},
     "output_type": "execute_result"
    }
   ],
   "source": [
    "spy.diff(1 / (1 + spy.exp(-y)))"
   ]
  },
  {
   "cell_type": "code",
   "execution_count": 18,
   "metadata": {
    "collapsed": false,
    "deletable": true,
    "editable": true
   },
   "outputs": [
    {
     "data": {
      "text/plain": [
       "1 - exp(-y)/(1 + exp(-y))"
      ]
     },
     "execution_count": 18,
     "metadata": {},
     "output_type": "execute_result"
    }
   ],
   "source": [
    "spy.diff(y + spy.log(1 + spy.exp(-y)))"
   ]
  },
  {
   "cell_type": "markdown",
   "metadata": {
    "deletable": true,
    "editable": true
   },
   "source": [
    "### 3.41\n",
    "\n",
    "$$\n",
    "\\begin{aligned}\n",
    "\\zeta(x)-\\zeta(-x) &= \\log(1 + e^x) - \\log(1 + e^{-x}) \\\\\n",
    "&= \\log\\bigg(\\frac{1 + e^x}{1 + e^{-x}}\\bigg) \\\\\n",
    "&= \\log\\bigg(\\frac{e^{-x}(1 + e^x)}{e^{-x}(1 + e^{-x})}\\bigg) \\\\\n",
    "&= \\log\\bigg(\\frac{e^{-x} + 1}{e^{-x}(1 + e^{-x})}\\bigg) \\\\\n",
    "&= \\log\\bigg(\\frac{1}{e^{-x}}\\bigg) \\\\\n",
    "&= \\log(e^x) \\\\\n",
    "&= x\n",
    "\\end{aligned}\n",
    "$$"
   ]
  },
  {
   "cell_type": "markdown",
   "metadata": {
    "collapsed": true,
    "deletable": true,
    "editable": true
   },
   "source": [
    "## Derivatives"
   ]
  },
  {
   "cell_type": "markdown",
   "metadata": {},
   "source": [
    "### Softmax Function, p78\n",
    "\n",
    "$$ softmax(x)_i = \\frac{\\exp(x_i)}{\\sum_{j=1}^{n} \\exp(x_j)} $$\n",
    "\n",
    "Overflow when $x_i$ is very large, underflow when $x_i$ is very negative. Solution is to use $softmax(z)$, where:\n",
    "$z = x - max_i x_i$."
   ]
  },
  {
   "cell_type": "markdown",
   "metadata": {},
   "source": [
    "### Poor Conditioning\n",
    "\n",
    "Given function $f(x) = A^{-1}x. When $A \\in \\mathbb{R}^{n\\times n} has an **eigenvalue decomposition**, its **condition number** is:\n",
    "\n",
    "$$ \\max_{i,j} \\bigg \\lvert \\frac{\\lambda_i}{\\lambda_j} \\bigg \\rvert $$\n",
    "\n",
    "I.e. Ratio of largest and smallest eigenvalues.\n",
    "\n",
    "Poor conditioning makes choosing a good optimization step size difficult."
   ]
  },
  {
   "cell_type": "markdown",
   "metadata": {},
   "source": [
    "## Hessian Matrix & Min/Max/Saddle Points\n",
    "\n",
    "At a **critical point** where $\\triangledown_x f(x) = 0$:\n",
    "\n",
    "* **Local minimum** if the Hessian matrix is **positive definite** (i.e. all of its eigenvalues are positive).\n",
    "* **local maximum** if the Hessian matrix is **negative definite** (i.e. all of its eigenvalues are negative).\n",
    "* **Inconclusive** if all non-zero eigenvalues have the same sign but **at least one eigenvalue is zero**.\n",
    "\n"
   ]
  },
  {
   "cell_type": "code",
   "execution_count": null,
   "metadata": {
    "collapsed": true
   },
   "outputs": [],
   "source": []
  }
 ],
 "metadata": {
  "kernelspec": {
   "display_name": "Python 3",
   "language": "python",
   "name": "python3"
  },
  "language_info": {
   "codemirror_mode": {
    "name": "ipython",
    "version": 3
   },
   "file_extension": ".py",
   "mimetype": "text/x-python",
   "name": "python",
   "nbconvert_exporter": "python",
   "pygments_lexer": "ipython3",
   "version": "3.6.0"
  }
 },
 "nbformat": 4,
 "nbformat_minor": 2
}
