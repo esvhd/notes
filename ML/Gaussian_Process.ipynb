{
 "cells": [
  {
   "cell_type": "markdown",
   "metadata": {},
   "source": [
    "# Nando CSPC 540\n",
    "\n",
    "[website](http://www.cs.ubc.ca/~nando/540-2013/lectures.html)"
   ]
  },
  {
   "cell_type": "markdown",
   "metadata": {},
   "source": [
    "## Gaussian Process\n",
    "\n",
    "[Video](https://www.youtube.com/watch?v=4vGiHC35j9s)"
   ]
  },
  {
   "cell_type": "markdown",
   "metadata": {},
   "source": [
    "* Vector dot products measure similarity\n",
    "\n",
    "For covariance matrices:\n",
    "\n",
    "$$\n",
    "\\begin{aligned}\n",
    "std(x) = \\sigma(x_1) = \\sqrt{\\mathbb{E}\\big(x_1^2\\big)} \\\\\n",
    "covariance(x_1,x_2) = \\mathbb{E}\\big(x_1 x_2\\big) \\\\\n",
    "\\end{aligned}\n",
    "$$\n",
    "\n",
    "For a 2-d joint Gaussian distributions, $X_1$ and $X_2$, the 1-d slice given $X_1 = x_1$ is:\n",
    "\n",
    "$$ P(X_2 \\mid X_1 = x_1)$$\n",
    "\n",
    "If we have the data for the 2-d distribution, to arrive at the 1-d distrubtion, **read Chapter 4 Kevin Murphy's book on machine learning**. He provided the derivation. This allows you to go from the joint distribution to a single distribution."
   ]
  },
  {
   "cell_type": "markdown",
   "metadata": {},
   "source": [
    "### Sampling, how to sample from Gaussian\n",
    "\n",
    "To sample an univariate Gaussian distributions, draw from a uniform distribution / random number generator, project onto a cumulative Gaussian probability function, and then project to a probability density function. Video / slides at 29:00.\n",
    "\n",
    "This can generate a standard Gaussian of $\\mathcal{N}(0, 1)$.\n",
    "\n",
    "**Square root of matrices**: **Cholesky** decomposition of matrix $\\Sigma$:\n",
    "$$ \\Sigma = LL^T $$\n",
    "\n",
    "This allows us to sample multivariate Gaussian distributions. Using Multivariate Gaussian Theorem."
   ]
  },
  {
   "cell_type": "markdown",
   "metadata": {},
   "source": [
    "Covariances can be modelled as similarity, e.g. $K_{ij}$ is a value in the covariance matrix:\n",
    "\n",
    "$$K_{ij} = \\exp\\big({-\\left\\Vert x_i - x_j \\right\\Vert^2}\\big) $$\n",
    "\n",
    "This is a Euclidean kernel."
   ]
  },
  {
   "cell_type": "code",
   "execution_count": null,
   "metadata": {
    "collapsed": true
   },
   "outputs": [],
   "source": []
  }
 ],
 "metadata": {
  "kernelspec": {
   "display_name": "Python 3",
   "language": "python",
   "name": "python3"
  },
  "language_info": {
   "codemirror_mode": {
    "name": "ipython",
    "version": 3
   },
   "file_extension": ".py",
   "mimetype": "text/x-python",
   "name": "python",
   "nbconvert_exporter": "python",
   "pygments_lexer": "ipython3",
   "version": "3.6.0"
  }
 },
 "nbformat": 4,
 "nbformat_minor": 2
}
