{
 "cells": [
  {
   "cell_type": "markdown",
   "metadata": {},
   "source": [
    "# Mixture Density Networks\n",
    "\n",
    "Biship's 1994 [paper](http://eprints.aston.ac.uk/373/1/NCRG_94_004.pdf)\n",
    "\n",
    "Combines a conventinal neural network with a mixture density model. "
   ]
  },
  {
   "cell_type": "markdown",
   "metadata": {},
   "source": [
    "## Notation\n",
    "\n",
    "$X = {x_1, \\cdots, x_d}$ : input variables\n",
    "\n",
    "$t = {t_1, \\cdots, t_c}$ : output/target variables\n",
    "\n",
    "$c$ : output dimension\n",
    "\n",
    "$t_k$ : components of the target vector\n",
    "\n",
    "$q$ : training sample index, $\\{x^q, t^q\\}$.\n",
    "\n",
    "$m$ : number of components in the mixture. \n",
    "\n",
    "Output size: $(c + 2) \\times m$\n",
    "\n",
    "$\\alpha_i(X)$ : mixing coefficients, can be regarded as prior probabilities, conditioned on $X$, of the target vector $t$ having been generated from the $i^{th}$ component of the mixture. Note that $\\sum_{i=1}^{m} \\alpha_i (X) = 1$, achieved by using softmax.\n",
    "\n",
    "$\\phi_i (t \\mid X)$ : conditional density of the target vector $t$ for the $i^{th}$ kernel. The paper uses Gaussian kernel.\n",
    "\n",
    "\n",
    "## Description\n",
    "\n",
    "The probability density of the target data is represented as **a linear combination of kernel functions** in the form:\n",
    "\n",
    "$$ p(t \\mid X) = \\sum_{i=1}^{m} \\alpha_i (X) \\phi_i (t \\mid X) $$\n",
    "\n",
    "A Gaussian mixture model can approximate **any** given density function to arbitary accuracy, **provided that the mixing coefficient and the Gaussian parameters (means and variances) are correctly chosen** (McLachlan and Basformd, 1989). It does not assume that the component of $t$ are statistically independent, in contrast to the single Gaussian representation. \n",
    "\n",
    "By choosing a mixture model with a **sufficient** number of kernel functions, and a NN with a **sufficient** number of hidden units, the MDN can approximate as closely as desired **any** conditional density $p(t \\mid x)$."
   ]
  },
  {
   "cell_type": "markdown",
   "metadata": {},
   "source": [
    "## Loss Function\n",
    "\n",
    "Loss function is given by:\n",
    "\n",
    "$$\n",
    "\\begin{aligned}\n",
    "E &= \\sum_q E^q \\\\\n",
    "E^q &= -\\ln \\bigg \\{ \\sum_{i=1}^m \\alpha_i (X^q) \\phi_i (t^q \\mid X^q) \\bigg \\}\n",
    "\\end{aligned}\n",
    "$$\n",
    "\n",
    "For Gaussian kernels (Gaussian PDF):\n",
    "\n",
    "$$ \\phi_i (t \\mid X) = \\frac{1}{(2\\pi)^{c/2}\\sigma_i(X)^c} \\exp\\bigg\\{ -\\frac{\\| t - \\mu_i(X) \\|^2}{2\\sigma_i(X)^2} \\bigg\\} $$"
   ]
  },
  {
   "cell_type": "markdown",
   "metadata": {},
   "source": [
    "## Network Architecture\n",
    "\n",
    "Credits to this great [repo](https://github.com/hardmaru/pytorch_notebooks) from @hardmaru.\n",
    "\n",
    "MDN uses a NN to output 3 groups of parameters: $\\alpha_i(X)$, $\\mu, \\sigma$ for $\\phi_i(X)$. \n",
    "\n",
    "Loss is computed based on these parameters. "
   ]
  },
  {
   "cell_type": "markdown",
   "metadata": {},
   "source": [
    "## Sampling from a MDN\n",
    "\n",
    "we can sample from the distributions parameterised by outputs from a MDN. This is done in **two** steps as pointed out [here](https://stats.stackexchange.com/questions/243392/generate-sample-data-from-gaussian-mixture-model):\n",
    "\n",
    "1. Sample from the **discrete** distribution parameterized by $\\alpha_i(X)$, denoted by $\\it{I}$. This is done by the [alias method](http://keithschwarz.com/darts-dice-coins/). Thanks for two posts that pointed this out, [here](https://stats.stackexchange.com/questions/67911/how-to-sample-from-a-discrete-distribution) and [here](https://stats.stackexchange.com/questions/26858/how-to-generate-numbers-based-on-an-arbitrary-discrete-distribution).\n",
    "2. Sample from $\\phi_{\\it{I}}(X)$, e.g. the $\\it{I}^{th}$ normal distribution.\n",
    "\n",
    "The code for **alias method** can be found [here](https://stats.stackexchange.com/questions/67911/how-to-sample-from-a-discrete-distribution). It is also used by @hardmaru in his post in function `get_pi_idx()`.\n",
    "\n",
    "My implementation below `sample_discrete()` is sligtly faster for not super large number of categories."
   ]
  },
  {
   "cell_type": "markdown",
   "metadata": {},
   "source": [
    "## Implementation\n",
    "\n",
    "Here I try to implement a MDN that supports multivariate Gaussian distributions, i.e. it predicts the full covariance matrix, rather than a single variance or assuming equal variance across dimensions.\n",
    "\n"
   ]
  },
  {
   "cell_type": "markdown",
   "metadata": {},
   "source": [
    "As of March 2018, `pytorch` will only have matrix determinant support in `0.4`, which means Gaussian PDF cannot be easily done... \n",
    "\n",
    "However, `tensorflow` already has this support, check out [`tf.contrib.distributions.MultivariateNormalTriL()`](https://www.tensorflow.org/api_docs/python/tf/contrib/distributions/MultivariateNormalTriL) and see the example there on how to compute pdf. "
   ]
  },
  {
   "cell_type": "code",
   "execution_count": 1,
   "metadata": {},
   "outputs": [],
   "source": [
    "%matplotlib inline\n",
    "\n",
    "import pandas as pd\n",
    "import numpy as np\n",
    "import scipy.stats as stats\n",
    "import seaborn as sns\n",
    "\n",
    "import torch\n",
    "import torch.nn as nn\n",
    "\n",
    "from torch.autograd import Variable"
   ]
  },
  {
   "cell_type": "code",
   "execution_count": 2,
   "metadata": {},
   "outputs": [],
   "source": [
    "def sample_discrete(pdf, x=None):\n",
    "    '''\n",
    "    Alias method to draw samples from discrete distributions based on\n",
    "    uneven probabilities.\n",
    "    \n",
    "    This method is slightly faster than the original one. 200ms vs 360ms, \n",
    "    with 20 discrete categories.\n",
    "    \n",
    "    Parameters:\n",
    "    ------------------------------\n",
    "    pdf: numpy.ndarray\n",
    "        Probablity density, must be all positive and sum to 1. This defines\n",
    "        the probabilities of the discrete distribution. In repeated draws,\n",
    "        the returned index result will approximate this probability \n",
    "        distribution.\n",
    "    x: float\n",
    "        probability, must be non-negative. If not given a random number\n",
    "        is generated.\n",
    "        \n",
    "    Returns:\n",
    "        One sample of index position.\n",
    "    '''\n",
    "    assert(np.all(pdf >= 0)), 'Not all elements are >= 0.'\n",
    "    \n",
    "    cs = pdf.cumsum()\n",
    "    assert(np.isclose(cs[-1], 1)), 'PDF does not sum to 1.'\n",
    "    \n",
    "    if x is None:\n",
    "        # generate uniform random number [0, 1)\n",
    "        x = np.random.rand()\n",
    "    else:\n",
    "        assert x >= 0\n",
    "    \n",
    "    idx = np.where(cs >= x)[0]\n",
    "    if len(idx) < 1:\n",
    "        print('error with sampling ensemble')\n",
    "        return -1\n",
    "    else:\n",
    "        return idx[0]"
   ]
  },
  {
   "cell_type": "code",
   "execution_count": 4,
   "metadata": {},
   "outputs": [
    {
     "name": "stdout",
     "output_type": "stream",
     "text": [
      "Expected Probabilities:  [0.1 0.2 0.1 0.3 0.3]\n",
      "Sampled Probabilities:\n",
      "0    0.0990\n",
      "1    0.2008\n",
      "2    0.1030\n",
      "3    0.2957\n",
      "4    0.3015\n",
      "dtype: float64\n"
     ]
    }
   ],
   "source": [
    "# example to demostrate that this samples according to a given PDF\n",
    "\n",
    "pdf = np.array([.1, .2, .1, .3, .3])\n",
    "N = 10000\n",
    "xs = np.random.rand(N)\n",
    "samples = []\n",
    "\n",
    "for i in range(N):\n",
    "    idx = sample_discrete(pdf, x=xs[i])\n",
    "    samples.append(idx)\n",
    "\n",
    "samples = pd.Series(samples)\n",
    "est = samples.groupby(samples).count() / N\n",
    "\n",
    "print('Expected Probabilities: ', pdf)\n",
    "print('Sampled Probabilities:')\n",
    "print(est)"
   ]
  },
  {
   "cell_type": "code",
   "execution_count": 5,
   "metadata": {},
   "outputs": [],
   "source": [
    "# etf = pd.read_hdf('/home/zwl/data/etf.h5', key='close')\n",
    "# spy = etf['SPY US Equity']\n",
    "# spy = np.log(spy) - np.log(spy.shift(1))\n",
    "# spy = spy.dropna()\n",
    "# spy.to_hdf('./spy.h5', key='rtns')"
   ]
  },
  {
   "cell_type": "code",
   "execution_count": 3,
   "metadata": {},
   "outputs": [],
   "source": [
    "spy = pd.read_hdf('./data/spy.h5', key='rtns')"
   ]
  },
  {
   "cell_type": "code",
   "execution_count": 4,
   "metadata": {},
   "outputs": [
    {
     "data": {
      "text/plain": [
       "<matplotlib.legend.Legend at 0x7f94940be128>"
      ]
     },
     "execution_count": 4,
     "metadata": {},
     "output_type": "execute_result"
    },
    {
     "data": {
      "image/png": "[encoded data removed]",
      "text/plain": [
       "<matplotlib.figure.Figure at 0x7f949763ceb8>"
      ]
     },
     "metadata": {},
     "output_type": "display_data"
    }
   ],
   "source": [
    "ax = sns.distplot(spy, fit=stats.norm, fit_kws={'label': 'Normal Distrubitino'})\n",
    "ax.legend(loc='best')"
   ]
  },
  {
   "cell_type": "code",
   "execution_count": 5,
   "metadata": {},
   "outputs": [],
   "source": [
    "def choose_activation(activation):\n",
    "    # determine activation function\n",
    "    if activation == 'relu':\n",
    "        act_func = nn.ReLU()\n",
    "    elif activation == 'selu':\n",
    "        act_func = nn.SELU()\n",
    "    elif activation == 'tanh':\n",
    "        act_func = nn.Tanh()\n",
    "    elif activation == 'sigmoid':\n",
    "        act_func = nn.Sigmoid()\n",
    "    else:\n",
    "        act_func = None\n",
    "\n",
    "    return act_func\n",
    "\n",
    "\n",
    "class MDN(nn.Module):\n",
    "    def __init__(self, input_dims, output_dim, num_mixtures, bias=True, act='tanh'):\n",
    "        super(MDN, self).__init__()\n",
    "        \n",
    "        assert(act in {'tanh', 'linear', 'relu'})\n",
    "        \n",
    "        self.input_dims = input_dims\n",
    "        self.output_dim = output_dim\n",
    "        self.num_layers = len(input_dims)\n",
    "        self.num_mixtures = num_mixtures\n",
    "        \n",
    "        num_layers = len(input_dims)\n",
    "        # output would be alpha_i, mu_i and sigma_i, for i in range(output_dim)\n",
    "        # if sigma is full covariance matrix, then sigma_i size is output_dim^2\n",
    "        # then replicate this for N mixtures\n",
    "        num_params = num_mixtures + (output_dim + output_dim * output_dim) * num_mixtures\n",
    "\n",
    "        # use separate networks for the 3 groups of parameters.\n",
    "        \n",
    "        self.activation_fn = choose_activation(act)\n",
    "        \n",
    "        # alpha, mixture weights, size: num_mixtures\n",
    "        if num_layers > 1:\n",
    "            self.alpha_layers = [nn.Linear(input_dims[i], input_dims[i+1], bias=bias) \n",
    "                                 for i in range(num_layers - 1)]\n",
    "            self.alpha_layers.append(nn.Linear(input_dims[-1], num_mixtures, bias=bias))\n",
    "        else:\n",
    "            self.alpha_layers = [nn.Linear(input_dims[0], num_mixtures, bias=bias)]\n",
    "            \n",
    "        # mu, means, size: output_dim * num_mixtures\n",
    "        mu_size = output_dim * num_mixtures\n",
    "        if num_layers > 1:\n",
    "            self.mu_layers = [nn.Linear(input_dims[i], input_dims[i+1], bias=bias) \n",
    "                                 for i in range(num_layers - 1)]\n",
    "            self.mu_layers.append(nn.Linear(input_dims[-1], mu_size, bias=bias))\n",
    "        else:\n",
    "            self.mu_layers = [nn.Linear(input_dims[0], mu_size, bias=bias)]\n",
    "        \n",
    "        # sigma, covariance square matrix, size: output_dim^2 * num_mixtures\n",
    "        sigma_size = output_dim**2 * num_mixtures\n",
    "        if num_layers > 1:\n",
    "            self.sigma_layers = [nn.Linear(input_dims[i], input_dims[i+1], bias=bias) \n",
    "                                 for i in range(num_layers - 1)]\n",
    "            self.sigma_layers.append(nn.Linear(input_dims[-1], sigma_size, bias=bias))\n",
    "        else:\n",
    "            self.alpha_layers = [nn.Linear(input_dims[0], sigma_size, bias=bias)]\n",
    "        \n",
    "    def forward(self, X):\n",
    "        # initialize\n",
    "        alpha, mu, sigma = X, X, X\n",
    "        \n",
    "        for i in range(self.num_layers):\n",
    "            alpha = self.alpha_layers[i](alpha)\n",
    "            if i < self.num_layers - 1:\n",
    "                alpha = self.activation_fn(alpha)\n",
    "        \n",
    "        for i in range(self.num_layers):\n",
    "            mu = self.mu_layers[i](mu)\n",
    "            if i < self.num_layers - 1:\n",
    "                mu = self.activation_fn(mu)\n",
    "                \n",
    "        for i in range(self.num_layers):\n",
    "            sigma = self.sigma_layers[i](sigma)\n",
    "            if i < self.num_layers - 1:\n",
    "                sigma = self.activation_fn(sigma)\n",
    "            \n",
    "        return alpha, mu, sigma"
   ]
  },
  {
   "cell_type": "code",
   "execution_count": 6,
   "metadata": {},
   "outputs": [
    {
     "data": {
      "text/plain": [
       "MDN(\n",
       "  (activation_fn): Tanh()\n",
       ")"
      ]
     },
     "execution_count": 6,
     "metadata": {},
     "output_type": "execute_result"
    }
   ],
   "source": [
    "mdn = MDN([10, 10], 2, 3)\n",
    "mdn"
   ]
  },
  {
   "cell_type": "code",
   "execution_count": 19,
   "metadata": {},
   "outputs": [],
   "source": [
    "x = torch.FloatTensor(1, 10)"
   ]
  },
  {
   "cell_type": "code",
   "execution_count": 20,
   "metadata": {},
   "outputs": [
    {
     "data": {
      "text/plain": [
       "\n",
       "1.00000e-29 *\n",
       "  7.1360  0.0000  0.0032  0.0000  0.0000  0.0000  0.0000  0.0000  0.0000  0.0000\n",
       "[torch.FloatTensor of size 1x10]"
      ]
     },
     "execution_count": 20,
     "metadata": {},
     "output_type": "execute_result"
    }
   ],
   "source": [
    "x"
   ]
  },
  {
   "cell_type": "code",
   "execution_count": 30,
   "metadata": {},
   "outputs": [],
   "source": [
    "x = torch.FloatTensor([[2, 2],[5, 6]])"
   ]
  },
  {
   "cell_type": "code",
   "execution_count": 27,
   "metadata": {},
   "outputs": [],
   "source": [
    "x = Variable(x)"
   ]
  },
  {
   "cell_type": "code",
   "execution_count": 28,
   "metadata": {
    "scrolled": true
   },
   "outputs": [
    {
     "data": {
      "text/plain": [
       "Variable containing:\n",
       " 3.0000 -1.0000\n",
       "-2.5000  1.0000\n",
       "[torch.FloatTensor of size 2x2]"
      ]
     },
     "execution_count": 28,
     "metadata": {},
     "output_type": "execute_result"
    }
   ],
   "source": [
    "x.inverse()"
   ]
  },
  {
   "cell_type": "code",
   "execution_count": 33,
   "metadata": {},
   "outputs": [],
   "source": [
    "alpha, mu, sigma = mdn(x)"
   ]
  },
  {
   "cell_type": "code",
   "execution_count": 34,
   "metadata": {},
   "outputs": [
    {
     "data": {
      "text/plain": [
       "Variable containing:\n",
       " 0.2606 -0.4027  0.2997\n",
       "[torch.FloatTensor of size 1x3]"
      ]
     },
     "execution_count": 34,
     "metadata": {},
     "output_type": "execute_result"
    }
   ],
   "source": [
    "alpha"
   ]
  },
  {
   "cell_type": "code",
   "execution_count": 35,
   "metadata": {},
   "outputs": [
    {
     "data": {
      "text/plain": [
       "Variable containing:\n",
       " 0.3092  0.0555  0.2153  0.0879  0.4331  0.0821\n",
       "[torch.FloatTensor of size 1x6]"
      ]
     },
     "execution_count": 35,
     "metadata": {},
     "output_type": "execute_result"
    }
   ],
   "source": [
    "mu"
   ]
  },
  {
   "cell_type": "code",
   "execution_count": 36,
   "metadata": {},
   "outputs": [
    {
     "data": {
      "text/plain": [
       "Variable containing:\n",
       "\n",
       "Columns 0 to 9 \n",
       " 0.3290  0.2645 -0.4358 -0.0438  0.0625 -0.0194  0.4167  0.0351  0.0935 -0.3444\n",
       "\n",
       "Columns 10 to 11 \n",
       " 0.3638 -0.0299\n",
       "[torch.FloatTensor of size 1x12]"
      ]
     },
     "execution_count": 36,
     "metadata": {},
     "output_type": "execute_result"
    }
   ],
   "source": [
    "sigma"
   ]
  },
  {
   "cell_type": "code",
   "execution_count": null,
   "metadata": {},
   "outputs": [],
   "source": []
  },
  {
   "cell_type": "markdown",
   "metadata": {},
   "source": [
    "## Loss Function\n",
    "\n",
    "Loss function is given by:\n",
    "\n",
    "$$\n",
    "\\begin{aligned}\n",
    "E &= \\sum_q E^q \\\\\n",
    "E^q &= -\\ln \\bigg \\{ \\sum_{i=1}^m \\alpha_i (X^q) \\phi_i (t^q \\mid X^q) \\bigg \\}\n",
    "\\end{aligned}\n",
    "$$\n",
    "\n",
    "For Gaussian kernels (Gaussian PDF):\n",
    "\n",
    "$$ \\phi_i (t \\mid X) = \\frac{1}{(2\\pi)^{c/2}\\sigma_i(X)^c} \\exp\\bigg\\{ -\\frac{\\| t - \\mu_i(X) \\|^2}{2\\sigma_i(X)^2} \\bigg\\} $$"
   ]
  },
  {
   "cell_type": "markdown",
   "metadata": {},
   "source": [
    "Gaussian PDF for $ X = [X_1, \\cdots, X_n]^T$:\n",
    "\n",
    "$$ p(x; \\mu, \\Sigma) = \\frac{1}{(2\\pi)^{n/2}\\mid \\Sigma \\mid^{1/2}} \\exp\\bigg( -\\frac{1}{2} (x - \\mu)^T \\Sigma^{-1} (x - \\mu)) \\bigg)$$"
   ]
  },
  {
   "cell_type": "code",
   "execution_count": 24,
   "metadata": {},
   "outputs": [],
   "source": [
    "def gaussian_pdf(y, mu, sigma):\n",
    "    '''\n",
    "    Multi-variable Gaussian PDF.\n",
    "    '''\n",
    "    _, y_dim = y.shape\n",
    "    c = 1 / (2 * np.pi)**(y_dim / 2)\n",
    "    # compute determine, currently this is not in pytorch 0.3.1, coming in 0.4\n",
    "    c = c * torch.pow(torch.reciprocal(sigma.det()), 1/2)\n",
    "    \n",
    "    z = y.expand_as(mu) - mu\n",
    "    # pytorch reloads @ operator to torch.mm()\n",
    "    z = -.5 * torch.transpose(z) @ sigma.inverse() @ z\n",
    "    z = torch.exp(z)\n",
    "    z = c * z\n",
    "    \n",
    "    return z"
   ]
  },
  {
   "cell_type": "code",
   "execution_count": 32,
   "metadata": {},
   "outputs": [],
   "source": [
    "def mdn_loss(alpha, sigma, mu, y):\n",
    "    z = gaussian_pdf(y, mu, sigma) * alpha\n",
    "    z = torch.sum(z, dim=1)\n",
    "    z = - torch.log(z)\n",
    "    return torch.mean(z)"
   ]
  },
  {
   "cell_type": "code",
   "execution_count": null,
   "metadata": {},
   "outputs": [],
   "source": []
  }
 ],
 "metadata": {
  "kernelspec": {
   "display_name": "Python 3",
   "language": "python",
   "name": "python3"
  },
  "language_info": {
   "codemirror_mode": {
    "name": "ipython",
    "version": 3
   },
   "file_extension": ".py",
   "mimetype": "text/x-python",
   "name": "python",
   "nbconvert_exporter": "python",
   "pygments_lexer": "ipython3",
   "version": "3.6.4"
  }
 },
 "nbformat": 4,
 "nbformat_minor": 2
}
