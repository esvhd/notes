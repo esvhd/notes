{
 "cells": [
  {
   "cell_type": "markdown",
   "metadata": {},
   "source": [
    "From Andrew Ng\n",
    "\n",
    "## Classification with Localization\n",
    "\n",
    "Conv net with softmax output and bounding box $(b_x, b_y, b_h, b_w)$. Training set contains class labels and bounding boxes.\n",
    "\n",
    "Assuming 1 object in an image, label $y = (p_c, b_x, b_y, b_h, b_w, c_1, c_2, c_3)$ where:\n",
    "\n",
    "* $p_c$ is the probability that there is an object of interest\n",
    "* $c_1, c_2, c_3$ are class labels.\n",
    "* $(b_x, b_y, b_h, b_w)$ are coordinates in the image.\n",
    "\n",
    "### Loss Function\n",
    "\n",
    "Typically: \n",
    "\n",
    "**Logistic regression loss** for $p_c$,\n",
    "\n",
    "**mean square error** for bounding box parameters\n",
    "\n",
    "** softmax loss** for class labels $c_1, c_2, c_3$.\n",
    "\n",
    "Example:\n",
    "\n",
    "$$\n",
    "\\begin{aligned}\n",
    "\\mathcal{L}(\\hat{y}, y) &= \\begin{cases}\n",
    "\\sum_{i=1} \\big(\\hat{y}_i - y_i \\big)^2 & if y_1 == 1 \\\\\n",
    "\\big(\\hat{y}_1 - y_1 \\big)^2 & if y_1 == 0\n",
    "\\end{cases}\n",
    "\\end{aligned}\n",
    "$$\n",
    "\n",
    "The case where there is no object, the terms other than the first item in the label are not relevant.\n",
    "\n",
    "Coordinate landmarks can also be used to classify the pose of a person in an image, provided that the cordinates of the body are labelled."
   ]
  },
  {
   "cell_type": "markdown",
   "metadata": {},
   "source": [
    "## Object Detection\n",
    "\n",
    "### Sliding window detection\n",
    "\n",
    "Use a varity of window sizes to slide across an image and classify the windowed image for possible class.\n",
    "\n",
    "**Disadvantage**: computational cost due to large number of windows. May miss objects due to stride size.\n",
    "\n",
    "### CNN Implementation of Sliding Windows\n",
    "\n",
    "Typically you have input -> CONV -> Max Pool -> FC -> FC -> Softmax\n",
    "\n",
    "However, you can replace the FC layers with CONV layers with # of filters same as the size of the width of FC layers, ie. if FC has 400 neurons, we can replace it with filters matching the size of previous layer, but 400 of them. \n",
    "\n",
    "Then it can be followed by 1x1x400 CONV layers, then to a 1x1x4 CONV layer if there are 4 classes for the softmax layer. Max pool size is (2, 2).\n",
    "\n",
    "Creating the windows results in lots of duplicated computation. Therefore for instead of using 14x14x3 images and 1x1x4 softmax in the end, you can instead use 16x16x3 images, with the same filters, but get a 2x2x4 output for softmax in the end.\n",
    "\n",
    "Each order of the 2x2x4 output represent a subset of the 16x16x3 imanges, echo of wich is 14x14x3. Therefore 4 images can be done in one pass.\n",
    "\n"
   ]
  },
  {
   "cell_type": "code",
   "execution_count": null,
   "metadata": {
    "collapsed": true
   },
   "outputs": [],
   "source": []
  }
 ],
 "metadata": {
  "kernelspec": {
   "display_name": "Python 3",
   "language": "python",
   "name": "python3"
  },
  "language_info": {
   "codemirror_mode": {
    "name": "ipython",
    "version": 3
   },
   "file_extension": ".py",
   "mimetype": "text/x-python",
   "name": "python",
   "nbconvert_exporter": "python",
   "pygments_lexer": "ipython3",
   "version": "3.6.3"
  }
 },
 "nbformat": 4,
 "nbformat_minor": 2
}
