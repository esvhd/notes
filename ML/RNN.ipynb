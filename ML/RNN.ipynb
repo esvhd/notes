{
 "cells": [
  {
   "cell_type": "code",
   "execution_count": 1,
   "metadata": {
    "collapsed": true
   },
   "outputs": [],
   "source": [
    "import numpy as np\n",
    "import matplotlib.pyplot as plt\n",
    "%matplotlib inline"
   ]
  },
  {
   "cell_type": "markdown",
   "metadata": {},
   "source": [
    "# Deep Learning Book\n",
    "\n",
    "# Chapter 10 Sequence Modeling"
   ]
  },
  {
   "cell_type": "markdown",
   "metadata": {},
   "source": [
    "RNN operates on a **sequence** that contains **vectors** $x^{(t)}$ with the time step index $t$ ranging from 1 to $\\tau$. \n",
    "\n",
    "In practice, RNNs usually operate on minibatches of such sequences, with a different length $\\tau$ for each member of the minibatch."
   ]
  },
  {
   "cell_type": "markdown",
   "metadata": {},
   "source": [
    "## TODO \n",
    "\n",
    "check out this [video](https://www.youtube.com/watch?v=Ukgii7Yd_cU) from Intel Nervana.\n",
    "\n",
    "Hinton's course on [Coursera](https://www.coursera.org/learn/neural-networks#syllabus) on RNNs. \n",
    "\n",
    "FastAI's course on [RNN](http://course.fast.ai/lessons/lesson6.html)"
   ]
  },
  {
   "cell_type": "markdown",
   "metadata": {},
   "source": [
    "# Vanishing or Exploding Gradients\n",
    "\n",
    "Biggest eigenvalue "
   ]
  },
  {
   "cell_type": "markdown",
   "metadata": {
    "collapsed": true
   },
   "source": [
    "## RNN Computation\n",
    "\n",
    "Video from Stanford's [cs224d](https://www.youtube.com/watch?v=MeIrQCZvlkE&t=3990s) on RNN. And [here](https://www.youtube.com/watch?v=Keqep_PKrY8) for the 2017 version.\n",
    "\n",
    "My notes for Stanford's [cs231n](./cs231n.ipynb#rnn).\n",
    "\n",
    "Given list of word vectors: $x_1, x_2, \\cdots, x_t, \\cdots, x_T$\n",
    "\n",
    "At single time step: \n",
    "\n",
    "$$\n",
    "\\begin{aligned}\n",
    "h_t &= \\sigma\\bigg( W_{hh} h_{t-1} + W_{hx} x_t \\bigg) \\\\\n",
    "\\hat{y}_t &= softmax\\bigg(W_{S} h_t\\bigg) \\\\\n",
    "\\hat{P}(x_{t+1} = v_j \\mid x_t, \\cdots, x_1) &= \\hat{y}_{t,j} \\\\\n",
    "W_{hh} &\\in \\mathbb{R}^{D_h \\times D_h} \\\\\n",
    "W_{hx} &\\in \\mathbb{R}^{D_h \\times d} \\\\\n",
    "W_{S} &\\in \\mathbb{R}^{V \\times D_h}\n",
    "\\end{aligned}\n",
    "$$\n",
    "\n",
    "For computation of $f(z_1 + z_2) = f(W_1 x_1 + W_2 x_2)$, form the following matricies:\n",
    "\n",
    "$$\n",
    "\\begin{aligned}\n",
    "W' &= concat(W_1, W_2, axis=1) \\\\\n",
    "X' &= concat(x_1, x_2, axis=0) \\\\\n",
    "f(W_1 x_1 + W_2 x_2) &= f(W'X')\n",
    "\\end{aligned}\n",
    "$$\n",
    "\n",
    "If $W_1$ is $N \\times N$, $W'$ is $N \\times 2N$, i.e. concat **horizontally**.\n",
    "\n",
    "If $x_1$ is $N \\times 1$, $X'$ is $2N \\times 1$, i.e. concat **vertically**."
   ]
  },
  {
   "cell_type": "markdown",
   "metadata": {},
   "source": [
    "## Teacher Forcing, p372\n",
    "\n",
    "A RNN whose only recurrence is the feedback connection from the output of the hidden layer, not the hidde layer itself, is **less powerful** than those which have direct connection from hidden layer $h^{(t-1)}$ to $h^{(t)}$. p370.\n",
    "\n",
    "The advantage of eliminating hidden-to-hidden recurrence is that, for any loss function based on comparing the prediction at time $t$ to the training target at time $t$, all the time steps are decoupled. Tranining can thus be parallelized, with gradient for each step t computed in isolation.\n",
    "\n",
    "Teacher forcing is a procedure that emerges from the maximum likelihood criterion, in which during training the model receives the ground truth output $y^{(t)}$ as input at time $t+1$, instead of the output from the previous step, thus parallelizing training."
   ]
  },
  {
   "cell_type": "code",
   "execution_count": null,
   "metadata": {
    "collapsed": true
   },
   "outputs": [],
   "source": []
  },
  {
   "cell_type": "markdown",
   "metadata": {},
   "source": [
    "## BPTT\n",
    "\n",
    "The backprop algorithm applied to the unrolled graph with $\\mathbb{O}(\\tau)$ cost is called **back-propagation through time (BPTT)**. As soon as the hidden units become a function of earlier time steps, the BPTT algorithm is necessary.\n",
    "\n",
    "Example is based on the RNN architecture given in figure 10.3 on page 369. This network is described as:\n",
    "\n",
    "$$\n",
    "\\begin{aligned}\n",
    "a^{(t)} &= b + W h^{(t-1)} + U x^{(t)}, &(10.8)\\\\\n",
    "h^{(t)} &= \\tanh\\big(a^{(t)}\\big), &(10.9)\\\\\n",
    "o^{(t)} &= c + V h^{(t)}, &(10.10)\\\\\n",
    "\\hat{y}^{(t)} &= \\text{softmax}\\big( o^{(t)} \\big), &(10.11)\n",
    "\\end{aligned}\n",
    "$$"
   ]
  },
  {
   "cell_type": "markdown",
   "metadata": {},
   "source": [
    "Where:\n",
    "\n",
    "* $x$ are input sequences\n",
    "* $o$ outputs of corresponding $x$\n",
    "* $y$ training target for corresponding $x$\n",
    "* $U$ weight matrix for input-to-hidden connections\n",
    "* $W$ weight matrix for hidden-to-hidden connections\n",
    "* $V$ weight matrix for hidden-to-output connections"
   ]
  },
  {
   "cell_type": "markdown",
   "metadata": {},
   "source": [
    "First, **derivate of `softmax(x)`**, see this [post](http://peterroelants.github.io/posts/neural_network_implementation_intermezzo02/), using the quotient rule:\n",
    "\n",
    "$$ \\big(\\frac{f}{g}\\big)' = \\frac{f'g - fg'}{g^2} $$\n",
    "\n",
    "Let $f = e^x$, $g = \\sum_i e^{x_i}$, $y = \\text{softmax}(x)$ and $y_i$ be the result for $x_i$, $x \\in R^n$."
   ]
  },
  {
   "cell_type": "markdown",
   "metadata": {},
   "source": [
    "For $i = j$:\n",
    "\n",
    "$$\n",
    "\\begin{aligned}\n",
    "\\frac{\\partial y_i}{\\partial x_i} &= \\frac{e^{x_i} g - e^{x_i} (0 + \\cdots + e^{x_i} + 0 + \\cdots + 0)}{g^2} \\\\\n",
    "&= \\frac{e^{x_i} g - e^{x_i} e^{x_i}}{g^2} \\\\\n",
    "&= \\frac{e^{x_i} (g - e^{x_i})}{g^2} \\\\\n",
    "&= \\frac{e^{x_i}}{g} \\times \\frac{g - e^{x_i}}{g}\\\\\n",
    "&= y_i \\times (1 - \\frac{e^{x_i}}{g}) \\\\\n",
    "&= y_i \\times (1 - y_i)\n",
    "\\end{aligned}\n",
    "$$"
   ]
  },
  {
   "cell_type": "markdown",
   "metadata": {},
   "source": [
    "For $i \\neq j$:\n",
    "\n",
    "$$\n",
    "\\begin{aligned}\n",
    "\\frac{\\partial y_i}{\\partial x_j} &= \\frac{0 \\times g - e^{x_i} e^{x_j}}{g^2} \\\\\n",
    "&= -\\frac{e^{x_i}}{g} \\frac{e^{x_j}}{g} \\\\\n",
    "&= - y_i y_j\n",
    "\\end{aligned}\n",
    "$$"
   ]
  },
  {
   "cell_type": "markdown",
   "metadata": {},
   "source": [
    "Back to BPTT, we start from the node immediately preceding the final loss:\n",
    "\n",
    "$$ \\frac{\\partial L}{\\partial L^{t}} = 1 $$\n",
    "\n",
    "Then we have\n",
    "\n",
    "$$(\\triangledown_{o^{t}}L)_i = \\frac{\\partial L}{\\partial o^{t}_i} = \\frac{\\partial L}{\\partial L^{t}} \\frac{\\partial L^{t}}{\\partial o^{t}_i} = \\hat{y}^{(t)}_i - 1_{i,y^{(t)}} $$"
   ]
  },
  {
   "cell_type": "code",
   "execution_count": null,
   "metadata": {
    "collapsed": true
   },
   "outputs": [],
   "source": []
  },
  {
   "cell_type": "markdown",
   "metadata": {},
   "source": [
    "# LSTM - Long Short-Term Memory\n",
    "\n",
    "Chris Olah's [post](http://colah.github.io/posts/2015-08-Understanding-LSTMs/)\n",
    "\n",
    "**Nando De Freitas**'s [lecture](https://www.youtube.com/watch?v=56TYLaQN4N8&list=PLE6Wd9FR--EfW8dtjAuPoTuPcqmOV53Fu&index=14): parameter updates act like writing to memory. We need a way to decide when to read, write and erase the memory. Hence we arrive at LSTM, which learns from the data when to read, write and erase.\n",
    "\n",
    "Components of LSTM cell:\n",
    "\n",
    "## Forget gate \n",
    "\n",
    "Decides what info we are going to throw away from the cell state. \n",
    "\n",
    "* Inputs: $h_{t-1}$ from the same layer, input $x_t$ or $h_t$ from the previous layer.\n",
    "* Output: a number between 0 and 1 for each number in the cell state $C_{t-1}$. 1 is keep everything, 0 is forget everything.\n",
    "\n",
    "$$ f_t = \\sigma\\big( W_f \\times [ h_{t-1}, x_t] + b_f\\big) $$"
   ]
  },
  {
   "cell_type": "markdown",
   "metadata": {},
   "source": [
    "## Input Gate, tanh layer\n",
    "\n",
    "Next step is to decide what new info we are going to store in the cell state, done in two parts. \n",
    "* Input gate\n",
    "* tanh layer\n",
    "\n",
    "$$\n",
    "\\begin{aligned}\n",
    "i_t &= \\sigma\\big( W_i \\times [h_{t-1}, x_t] + b_i \\big) \\\\\n",
    "\\tilde{C}_t &= \\tanh \\big( W_C \\times [h_{t-1}, x_t] + b_C \\big)\n",
    "\\end{aligned}\n",
    "$$"
   ]
  },
  {
   "cell_type": "code",
   "execution_count": 6,
   "metadata": {},
   "outputs": [
    {
     "data": {
      "text/plain": [
       "[<matplotlib.lines.Line2D at 0x7f5535d797b8>]"
      ]
     },
     "execution_count": 6,
     "metadata": {},
     "output_type": "execute_result"
    },
    {
     "data": {
      "image/png": "[encoded data removed]",
      "text/plain": [
       "<matplotlib.figure.Figure at 0x7f5535e23860>"
      ]
     },
     "metadata": {},
     "output_type": "display_data"
    }
   ],
   "source": [
    "x = np.linspace(-3, 3, num=100)\n",
    "y = np.tanh(x)\n",
    "plt.plot(x, y)"
   ]
  },
  {
   "cell_type": "markdown",
   "metadata": {},
   "source": [
    "## Cell State\n",
    "\n",
    "Next step is to update the **old** cell state, $C_{t-1}$, into the **new** cell state $C_t$. Inputs are the outputs from **forget gate**, **input gate**, and **tanh layer**. $\\odot$ represents element-wise multiplication.\n",
    "\n",
    "$$ C_t = f_t \\odot C_{t-1} + i_t \\odot \\tilde{C}_t $$"
   ]
  },
  {
   "cell_type": "markdown",
   "metadata": {},
   "source": [
    "# Ouput \n",
    "\n",
    "Work out the output of the cell, using sigmoid to decide which parts of the cell state we are going to output. \n",
    "\n",
    "$$\n",
    "\\begin{aligned}\n",
    "o_t &= \\sigma \\big( W_o \\times [h_{t-1}, x_t] + b_o \\big) \\\\\n",
    "h_t &= o_t \\odot \\tanh(C_t)\n",
    "\\end{aligned}\n",
    "$$"
   ]
  },
  {
   "cell_type": "markdown",
   "metadata": {},
   "source": [
    "## Formula Summary\n",
    "\n",
    "$$\n",
    "\\begin{aligned}\n",
    "i_t &= \\sigma\\big( W_i \\times [h_{t-1}, x_t] + b_i \\big) \\\\\n",
    "f_t &= \\sigma\\big( W_f \\times [ h_{t-1}, x_t] + b_f\\big) \\\\\n",
    "o_t &= \\sigma \\big( W_o \\times [h_{t-1}, x_t] + b_o \\big) \\\\\n",
    "g = \\tilde{C}_t &= \\tanh \\big( W_C \\times [h_{t-1}, x_t] + b_C \\big) \\\\\n",
    "C_t &= f_t \\odot C_{t-1} + i_t \\odot \\tilde{C}_t \\\\\n",
    "h_t &= o_t \\odot \\tanh(C_t)\n",
    "\\end{aligned}\n",
    "$$"
   ]
  },
  {
   "cell_type": "markdown",
   "metadata": {},
   "source": [
    "## Layers\n",
    "\n",
    "Parameters in the same layer are shared in all recurrent steps. Different layers will have different parameters."
   ]
  },
  {
   "cell_type": "markdown",
   "metadata": {},
   "source": [
    "# LSTM Variants\n",
    "\n",
    "## Gers & Schmidhuber (2000)\n",
    "\n",
    " Add **peephole connections**, allowing the gates to look at the cell state. Modifications:\n",
    " \n",
    "$$\n",
    "\\begin{aligned}\n",
    "f_t &= \\sigma \\big( W_f \\times [C_{t-1}, h_{t-1}, x_t] + b_f \\big) \\\\\n",
    "i_t &= \\sigma \\big( W_i \\times [C_{t-1}, h_{t-1}, x_t] + b_i \\big) \\\\\n",
    "o_t &= \\sigma \\big( W_o \\times [C_{t}, h_{t-1}, x_t] + b_o \\big) \\\\\n",
    "\\end{aligned}\n",
    "$$\n",
    "\n",
    "## Coupled Forget and Input Gates\n",
    "\n",
    "Make **forget** and **input** (cell update) gates make decision together.\n",
    "\n",
    "$$ C_t = f_t \\odot C_{t-1} + (1-f_t) \\odot \\tilde{C}_t $$\n",
    "\n",
    "## GRU (Gated Recurrent Unit)\n",
    "\n",
    "Combines **forget** and **input** gates into a single **update** gate, merges **cell state** and **hidden state**, plus othe changes. \n",
    "\n",
    "* Input: $h_{t-1}$, $x_t$\n",
    "* Output: $h_t$\n",
    "\n",
    "It is simpler than the standard LSTM, increasingly popular. \n",
    "\n",
    "$$\n",
    "\\begin{aligned}\n",
    "z_t &= \\sigma \\big( W_z \\times [h_{t-1}, x_t] \\big) \\\\\n",
    "r_t &= \\sigma \\big( W_r \\times [h_{t-1}, x_t] \\big) \\\\\n",
    "\\tilde{h}_t &= \\tanh \\big( W \\times [r_t \\times h_{t-1}, x_t] \\big) \\\\\n",
    "h_t &= (1 - z_t) \\times h_{t-1} + z_t \\times \\tilde{h}_t\n",
    "\\end{aligned}\n",
    "$$\n",
    "\n",
    "\n",
    "Next big step is **attention**. This is as of 2015. See Olah's other [post](https://distill.pub/2016/augmented-rnns/)"
   ]
  },
  {
   "cell_type": "markdown",
   "metadata": {},
   "source": [
    "More on RNN, Andrea Karpathy's [post](http://karpathy.github.io/2015/05/21/rnn-effectiveness/)"
   ]
  },
  {
   "cell_type": "code",
   "execution_count": null,
   "metadata": {
    "collapsed": true
   },
   "outputs": [],
   "source": []
  }
 ],
 "metadata": {
  "kernelspec": {
   "display_name": "Python 3",
   "language": "python",
   "name": "python3"
  },
  "language_info": {
   "codemirror_mode": {
    "name": "ipython",
    "version": 3
   },
   "file_extension": ".py",
   "mimetype": "text/x-python",
   "name": "python",
   "nbconvert_exporter": "python",
   "pygments_lexer": "ipython3",
   "version": "3.6.2"
  }
 },
 "nbformat": 4,
 "nbformat_minor": 2
}
