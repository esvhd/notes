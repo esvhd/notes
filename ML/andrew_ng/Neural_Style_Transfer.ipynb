{
 "cells": [
  {
   "cell_type": "markdown",
   "metadata": {},
   "source": [
    "# Neural Style Transfer\n",
    "\n",
    "Based on Andrew Ng's Deeplearning.ai course."
   ]
  },
  {
   "cell_type": "markdown",
   "metadata": {},
   "source": [
    "## Visualization\n",
    "\n",
    "Zeiler and Fergus, 2013, Visualizing and understanding Convultional networks.\n",
    "\n",
    "Pick a unit in layer 1, find the 9 image patches that maximize the unit's activation. Repeat this for other units."
   ]
  },
  {
   "cell_type": "markdown",
   "metadata": {},
   "source": [
    "## Cost Function\n",
    "\n",
    "Gatys et al., 2015, A Neural Algorithm of Artisitc Style.\n",
    "\n",
    "$$ \\text{Minimize: } J(G) = \\alpha J_{content}(C, G) + \\beta J_{style}(S, G) $$\n",
    "\n",
    "Where target content is C, style is S, and generated image is G. $\\alpha, \\beta$ are hyperparameters.\n",
    "\n",
    "Process:\n",
    "\n",
    "### Find the generated image G.\n",
    "\n",
    "1. Initialize G randomly, e.g. 100x100x3\n",
    "2. Use graident descent to minimize J(G) above.\n",
    "\n",
    "### Content Cost Function\n",
    "\n",
    "* Use hidden layer $l$ to copute content cost, $l$ is usually somehwere in the middle of the network.\n",
    "* Use pre-trained ConvNet, e.g. VGG. \n",
    "* Let $a^{[l](C)}$ and $a^{[l](G)}$ be the activation of layer $l$ on the image.\n",
    "* If $a^{[l](C)}$ and $a^{[l](G)}$ are similar, both images have similar content.\n",
    "\n",
    "$$ J_{content}(C, G) = \\frac{1}{2} \\| a^{[l](C)} - a^{[l](G)} \\|^2 $$"
   ]
  },
  {
   "cell_type": "markdown",
   "metadata": {},
   "source": [
    "### Style Cost Function\n",
    "\n",
    "Define **style** as **correlation** between activations across channels.\n",
    "\n",
    "**Style Matrix**\n",
    "\n",
    "Let $a^{[l]}_{i,j,k}$ = activastions at $(i, j, k)$ which index into height, width and channel of an input volume. \n",
    "\n",
    "$G^{[l]}$ is $n^{[l]}_C \\times n^{[l]}_C$, the correlation matrix, $n_c$ is the number of channels. $G^{[l]}_{kk'}$ measures the correlation between channel $k$ and $k'$, $k \\in 1,\\cdots,n^{[l]}_c$.\n",
    "\n",
    "$$ G^{[l]}_{kk'} = \\sum_{i=1}^{n^{[l]}_H} \\sum_{j=1}^{n^{[l]}_W} a^{[l]}_{i,j,k} \\times a^{[l]}_{i,j,k'} $$"
   ]
  },
  {
   "cell_type": "markdown",
   "metadata": {},
   "source": [
    "Compute the sytle matrices for both the sytle image and the generated image."
   ]
  },
  {
   "cell_type": "markdown",
   "metadata": {},
   "source": [
    "Style cost is then:\n",
    "\n",
    "$$\n",
    "\\begin{aligned}\n",
    "J^{[l]}_{style} (S, G) =& \\frac{1}{(2n^{[l]}_H n^{[l]}_W n^{[l]}_C)^2} \\| G^{[l](S)} - G^{[l](G)} \\|^2_F \\\\\n",
    "=& \\frac{1}{(2n^{[l]}_H n^{[l]}_W n^{[l]}_C)^2} \\sum_{k} \\sum_{k'} \\bigg( G^{[l](S)}_{kk'} - G^{[l](G)}_{kk'} \\bigg)^2\n",
    "\\end{aligned}\n",
    "$$"
   ]
  },
  {
   "cell_type": "markdown",
   "metadata": {},
   "source": [
    "Turns out that the results is betten if you use all layers, so:\n",
    "\n",
    "$$ J_{style}(S, G) = \\sum_{l} \\lambda^{[l]} J_{style}^{[l]}(S, G) $$"
   ]
  },
  {
   "cell_type": "markdown",
   "metadata": {},
   "source": [
    "# 1D & 3D Generalizations\n",
    "\n",
    "1D input would be convolved sequentially with a filter. E.g. length 14 sequence, length 5 filters, gives length 10 outputs. \n",
    "\n",
    "3D examples such as videos or sequence of 2D data. E.g. 14x14x14 input volume, 5x5x5 filter, output is 10x10x10 volume. \n",
    "\n",
    "Or if iput is 14x14x14x3 vs filter 5x5x5x3, 16 filters, output 10x10x10x16."
   ]
  },
  {
   "cell_type": "code",
   "execution_count": null,
   "metadata": {
    "collapsed": true
   },
   "outputs": [],
   "source": []
  }
 ],
 "metadata": {
  "kernelspec": {
   "display_name": "Python 3",
   "language": "python",
   "name": "python3"
  },
  "language_info": {
   "codemirror_mode": {
    "name": "ipython",
    "version": 3
   },
   "file_extension": ".py",
   "mimetype": "text/x-python",
   "name": "python",
   "nbconvert_exporter": "python",
   "pygments_lexer": "ipython3",
   "version": "3.6.3"
  }
 },
 "nbformat": 4,
 "nbformat_minor": 2
}
