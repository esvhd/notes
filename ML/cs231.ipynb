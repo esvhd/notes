{
 "cells": [
  {
   "cell_type": "markdown",
   "metadata": {},
   "source": [
    "# Stanford cs231n Notes\n",
    "\n",
    "Winter 2016 series by Li Fei-Fei, Andrej Karpathy and Justin Johnson\n",
    "\n",
    "[videos](https://www.youtube.com/playlist?list=PLkt2uSq6rBVctENoVBg1TpCC7OQi31AlC)\n",
    "\n",
    "[material](http://cs231n.stanford.edu/2016/syllabus.html)"
   ]
  },
  {
   "cell_type": "markdown",
   "metadata": {},
   "source": [
    "## Lecture 5\n",
    "\n",
    "Good example in video that implemented a check after initalizing a network, feed data through the network without regularization and check the loss, on CIFAR-10 the expected loss is $-log(1/10) \\approx 2.3$.\n",
    "\n",
    "**Tip**: make sure that you can **overfit** very small portion of the training data. If you can't overfit a small portion of the data, then things are broken.\n",
    "\n",
    "### Hyperparameter Search\n",
    "\n",
    "Run coarse search for 5 epochs, then run finer searches. \n",
    "\n",
    "Example showed a good result near the boundaries of the learning rate search space. Thsis may be **problematic**, because it may indicate that the optimal parameter may be **outside** the search space.\n",
    "\n",
    "**Track the ratio of weight updates / weight magnitudes**. This should be `-1e-3`. If too high, maybe decrease learning rate, vice verse.\n",
    "\n"
   ]
  },
  {
   "cell_type": "markdown",
   "metadata": {
    "collapsed": true
   },
   "source": [
    "## Lecture 6\n",
    "\n",
    "### Second Order Optimization\n",
    "\n",
    "Uses **Hessian** matrix, this will have faster convergence, and **no hyperparameter**!\n",
    "\n",
    "However, when training large networks, the Hessian matrix ends up being quite huge, inversing it becomes impractically expensive to evaluate. \n",
    "\n",
    "**L-BFGS** is usually used for second order optimization, however, it works for **deterministic** functions. This means it **does not work in minibatch settings**. \n",
    "\n",
    "Adam is usually a good choice, if you can afford to do full batch updates, then try L-BFGS. \n",
    "\n",
    "### Ensemble Trick/Tips\n",
    "\n",
    "Can get a small boost from averaging multiple model checkpoints of a single model.\n",
    "\n",
    "Keep track of a **running average of parameter vector**, to use at test time. \n",
    "```\n",
    "loss = nn.forward()\n",
    "dx = nn.backward()\n",
    "x += - learning_rate * dx\n",
    "x_test = 0.995 * x_test + 0.005 * x\n",
    "```"
   ]
  },
  {
   "cell_type": "code",
   "execution_count": null,
   "metadata": {
    "collapsed": true
   },
   "outputs": [],
   "source": []
  }
 ],
 "metadata": {
  "kernelspec": {
   "display_name": "Python 3",
   "language": "python",
   "name": "python3"
  },
  "language_info": {
   "codemirror_mode": {
    "name": "ipython",
    "version": 3
   },
   "file_extension": ".py",
   "mimetype": "text/x-python",
   "name": "python",
   "nbconvert_exporter": "python",
   "pygments_lexer": "ipython3",
   "version": "3.6.2"
  }
 },
 "nbformat": 4,
 "nbformat_minor": 2
}
