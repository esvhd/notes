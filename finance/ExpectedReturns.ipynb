{
 "cells": [
  {
   "cell_type": "markdown",
   "metadata": {},
   "source": [
    "This is my notes on Ilmanen's book **Expected Returns**."
   ]
  },
  {
   "cell_type": "markdown",
   "metadata": {},
   "source": [
    "If a strategy's profit represent at least in part **risk premia** rather than market inefficiencies, it is less likely that future excess returns will be fully competed away.\n",
    "\n",
    "The most volatile assets **within** each asset class - high-vol stocks, 30yr bonds, and CCC rated corprates - tend to offer low long-run returns and even worse risk-adjusted returns.\n",
    "\n",
    "Use forward looking indicators for return forecasts, such as:\n",
    "* Earning yields\n",
    "* Bond yields\n",
    "\n",
    "Index investors in credit earned only about 1/4 of the credit spread as realized excess return. The worst leakage was due to index investors' tendency to sell assets that leave the index that tend to subsequently perform well, such as fallen angels.\n"
   ]
  },
  {
   "cell_type": "markdown",
   "metadata": {},
   "source": [
    "Less liquid assseets tend to exhibit smoothed or stale pricing, which reduces thheir measured vol and their correlation with out assets, and hence also observe higher Sharpe ratios.\n",
    "\n",
    "Smoothed earning yields (10yr average trailing earnings, adjusted for inflation) have been able to predict subsequent multi-year equity market returns (Next 7yrs) - Robert Shiller & John Campbell."
   ]
  },
  {
   "cell_type": "markdown",
   "metadata": {},
   "source": [
    "# Historical Perspectives\n",
    "\n",
    "Important to look at real-returns, plots are better in log scale.\n",
    "\n",
    "## Equity\n",
    "\n",
    "Small value showed best return in 1990-2009 period. as well as 1926-2009. Follwed by Small Caps. Long corp bonds eared 30bp more per year than long UST bonds.\n",
    "\n",
    "Looking at 1926-2009, there is no obvious relation between industry vol and average returns.\n",
    "\n",
    "**Value and size** are the best known stock characteristics that are related to cross-sectional differences in average returns.\n",
    "\n",
    "## Bonds\n",
    "\n",
    "Over a longer period, 1952-2009, the reward for owning higher duration bonds is more meager. Sweet spot is 5-7 or 7-10 UST.\n",
    "\n",
    "HY BB bonds has the best performance in corprate bonds by rating category, probably due to the fallen angel effect.\n",
    "\n",
    "## FX & MMKT\n",
    "\n",
    "High-yielding currencies earned the highest return between 1990 and 2009.\n"
   ]
  },
  {
   "cell_type": "markdown",
   "metadata": {},
   "source": [
    "# Behavioural Finance\n",
    "\n",
    "Best known **market level** mis-pricing are related to:\n",
    "\n",
    "* Extrapolative expectations\n",
    "* overconfidence\n",
    "* herding\n",
    "\n",
    "Best know **relative-value** mis-pricings are **value and momentum**.\n",
    "\n",
    "## Biases\n",
    "\n",
    "\n",
    "### Heuristic Simplification \n",
    "\n",
    "* Attention and memory bias - overweight information that is salient, vivid, or more recent. \n",
    "* Representativeness - rely too much on stereotypes instead of probability analysis, overweight salient info.\n",
    "* Conservatism - tendency to underweight new evidence when they update their priors.\n",
    "    * related to Anchoring and adjustment\n",
    "    \n",
    "### Self-Deception\n",
    "\n",
    "* Overconfidence\n",
    "* Overoptimism\n",
    "* Biased self-attribution\n",
    "* Confirmation bias\n",
    "* Hindsight bias\n",
    "\n",
    "### Preferences\n",
    "\n",
    "#### Prospect Theory (PT)\n",
    "\n",
    "Main findings:\n",
    "\n",
    "* people care more about gains and losses (changes in wealth) than about the overall size of wealth\n",
    "* people exhibit loss aversion and can be risk-seeking when facing the probability of loss (depends on framing);\n",
    "* people overweight low-probability events\n",
    "\n",
    "Need to add other assumptions such as **narrow framing** and **house money effect** to generate testable predictions.\n",
    "\n",
    "**narrow framing** involves analyzing problems in too isolated a fashion. **Reference point** is important in this context, and is related to **disposition effect**, which refers to investors' tendency to hang on to losers (reference is trade entry). Trading volume can be used together with disposition effect to forecast investors' behaviour, e.g. large volume follwed by large loss, investors may be biased on hold.\n",
    "\n",
    "**Ambiguity aversion** - people dislike vague uncertainty more than objective uncertainty.\n",
    "\n",
    "**Regret aversion** - motivated to minimize regret\n",
    "\n",
    "**Moods and feelings** - Observed strong performance around holidy periods (Thanksgiving, Christmas, Chinese New Year, Japanese Golden Week).\n",
    "\n",
    "## Applications\n",
    "\n",
    "Shiller argues that equity bubles have **four elements**:\n",
    "\n",
    "* Preceipitating factors\n",
    "* Amplification mechanisms\n",
    "* Cultural factors\n",
    "* Psychologic factors: overconfidence, representativeness (extrapolating from a recent uptrend), herding\n",
    "\n",
    "Soros' **reflexivity theory** - the feedback loop between market participants' understanding of the environment and the environment itself, through investor actions.\n",
    "\n",
    "**Memory biases** - risk factors' ex ante excess returns seem to be higher for a long while after a large negative factor shock. \n",
    "\n",
    "**Money illusion** - confusing nominal and real returns.\n",
    "\n",
    "### Cross-Sectional trading / Micro-ineffiency\n",
    "\n",
    "Cross-sectional opportunities are safer to exploit than market directional opportunities.\n",
    "\n",
    "**Long term reversal effect** - stocks that underperformed in the last 12 to 36 months tend to outperform afterwards\n",
    "\n",
    "**Short to Medium-term momentum effect** - stocks that outperformed in recent months tend to outperform for up to 12 months ahead.\n",
    "\n",
    "**Autocorrelation** - financial time series exhibit **positive** autocorrelation over short horizon and (less consistently) negative autocorrelation over multi-year horizons.\n",
    "\n"
   ]
  },
  {
   "cell_type": "code",
   "execution_count": null,
   "metadata": {
    "collapsed": true
   },
   "outputs": [],
   "source": []
  }
 ],
 "metadata": {
  "kernelspec": {
   "display_name": "Python 3",
   "language": "python",
   "name": "python3"
  },
  "language_info": {
   "codemirror_mode": {
    "name": "ipython",
    "version": 3
   },
   "file_extension": ".py",
   "mimetype": "text/x-python",
   "name": "python",
   "nbconvert_exporter": "python",
   "pygments_lexer": "ipython3",
   "version": "3.6.1"
  }
 },
 "nbformat": 4,
 "nbformat_minor": 2
}
