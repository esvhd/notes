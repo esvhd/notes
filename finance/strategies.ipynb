{
 "cells": [
  {
   "cell_type": "code",
   "execution_count": 70,
   "metadata": {
    "collapsed": true
   },
   "outputs": [],
   "source": [
    "%matplotlib inline"
   ]
  },
  {
   "cell_type": "markdown",
   "metadata": {},
   "source": [
    "Collection of notes on quantitative trading strategies\n",
    "\n",
    "The first section of notes are based on Ernest Chan's Algorithmic Trading book.\n",
    "\n",
    "\n",
    "# Hypothesis Testing for Backtesting\n",
    "\n",
    "* p-value based, Critical value = $\\sqrt{n} \\times \\text{DailySharpeRatio}$, given $n$ is the number of days in the backtest. critial values: 1.645, 2.326, 3.091 for p values: 0.05, 0.01, 0.001. See coding example below.\n",
    "* Simulation based, generate price data and feed to strategy\n",
    "* Andrew Lo: Generate trades based on original historical price series, constraints: same number of long and short entries as the backtest, with same average holding periods. \n",
    "\n"
   ]
  },
  {
   "cell_type": "markdown",
   "metadata": {},
   "source": [
    "Critical Values are based on normal distributio with 0 mean and unit variance. \n",
    "\n",
    "The test statistic is caluclated as, [link](http://artmathonline.com/files/hypothesisteststeps1.pdf), [code](https://stackoverflow.com/questions/20864847/probability-to-z-score-and-vice-versa-in-python)\n",
    "\n",
    "$$ z = \\frac{\\bar{x} - \\mu}{\\sigma / \\sqrt{n}} = \\sqrt{n} \\times \\frac{\\bar{x} - \\mu}{\\sigma}$$\n",
    "\n",
    "This can be done with `scipy.stats.ttest_1samp(daily_returns)`."
   ]
  },
  {
   "cell_type": "code",
   "execution_count": 1,
   "metadata": {
    "collapsed": true
   },
   "outputs": [],
   "source": [
    "import statsmodels.stats.weightstats as ssw\n",
    "import numpy as np\n",
    "import scipy.stats as ss"
   ]
  },
  {
   "cell_type": "code",
   "execution_count": 44,
   "metadata": {},
   "outputs": [
    {
     "data": {
      "text/plain": [
       "1.2815515655446004"
      ]
     },
     "execution_count": 44,
     "metadata": {},
     "output_type": "execute_result"
    }
   ],
   "source": [
    "ss.norm.ppf(.9)"
   ]
  },
  {
   "cell_type": "code",
   "execution_count": 43,
   "metadata": {},
   "outputs": [
    {
     "data": {
      "text/plain": [
       "1.6448536269514722"
      ]
     },
     "execution_count": 43,
     "metadata": {},
     "output_type": "execute_result"
    }
   ],
   "source": [
    "ss.norm.ppf(.95)"
   ]
  },
  {
   "cell_type": "code",
   "execution_count": 45,
   "metadata": {},
   "outputs": [
    {
     "data": {
      "text/plain": [
       "2.3263478740408408"
      ]
     },
     "execution_count": 45,
     "metadata": {},
     "output_type": "execute_result"
    }
   ],
   "source": [
    "ss.norm.ppf(.99)"
   ]
  },
  {
   "cell_type": "code",
   "execution_count": 46,
   "metadata": {},
   "outputs": [
    {
     "data": {
      "text/plain": [
       "3.0902323061678132"
      ]
     },
     "execution_count": 46,
     "metadata": {},
     "output_type": "execute_result"
    }
   ],
   "source": [
    "ss.norm.ppf(.999)"
   ]
  },
  {
   "cell_type": "markdown",
   "metadata": {},
   "source": [
    "From critical value to p-value:"
   ]
  },
  {
   "cell_type": "code",
   "execution_count": 49,
   "metadata": {},
   "outputs": [
    {
     "data": {
      "text/plain": [
       "0.99379033467422384"
      ]
     },
     "execution_count": 49,
     "metadata": {},
     "output_type": "execute_result"
    }
   ],
   "source": [
    "ss.norm.cdf(2.5)"
   ]
  },
  {
   "cell_type": "code",
   "execution_count": null,
   "metadata": {
    "collapsed": true
   },
   "outputs": [],
   "source": []
  },
  {
   "cell_type": "code",
   "execution_count": 8,
   "metadata": {
    "collapsed": true
   },
   "outputs": [],
   "source": [
    "rtns = np.random.rand(252) / 10."
   ]
  },
  {
   "cell_type": "code",
   "execution_count": 59,
   "metadata": {},
   "outputs": [
    {
     "data": {
      "text/plain": [
       "25.402687920083974"
      ]
     },
     "execution_count": 59,
     "metadata": {},
     "output_type": "execute_result"
    }
   ],
   "source": [
    "cval = np.mean(rtns) / sd * np.sqrt(252)\n",
    "cval"
   ]
  },
  {
   "cell_type": "code",
   "execution_count": 60,
   "metadata": {},
   "outputs": [
    {
     "data": {
      "text/plain": [
       "0.0"
      ]
     },
     "execution_count": 60,
     "metadata": {},
     "output_type": "execute_result"
    }
   ],
   "source": [
    "1 - ss.norm.cdf(cval)"
   ]
  },
  {
   "cell_type": "code",
   "execution_count": 62,
   "metadata": {},
   "outputs": [
    {
     "data": {
      "text/plain": [
       "Ttest_1sampResult(statistic=25.402687920083977, pvalue=2.5044480595647219e-71)"
      ]
     },
     "execution_count": 62,
     "metadata": {},
     "output_type": "execute_result"
    }
   ],
   "source": [
    "ss.ttest_1samp(rtns, popmean=0)"
   ]
  },
  {
   "cell_type": "markdown",
   "metadata": {},
   "source": [
    "# Mean Reversion\n",
    "\n",
    "## ADF test\n",
    "\n",
    "Essentially this is testing whether the **beta coefficient** for 1-day lagged returns in an autoregressive model is **zero**. If the null hypothesis that beta equals zero is rejected, then the time series is **not a random walk**.\n",
    "\n",
    "In a mean reversion setting, we expect beta to be **negative**\n",
    "\n",
    "## Hurst Exponent \n",
    "\n",
    "H = 0.5 indicates geometric random walk. H < 0.5 indicates mean reversion, H > 0.5 indicates trending series.\n",
    "\n",
    "## Variance Ratio Test\n",
    "\n",
    "Statistical test for Hurst exponent, null hypothesis is that the time series is a random walk. Small p-values rejects this hypothesis.\n",
    "\n",
    "## Half-Life of Mean Reversion\n",
    "\n",
    "see this [notebook](\\../notebooks/git/notebooks/python/time_series.ipynb)\n",
    "\n",
    "Based on O-U process formula in discrete time scale.\n",
    "\n",
    "** half-life** $= -\\log(2)/\\lambda$, implying that $\\lambda$ should be **negative** for mean reverting series. \n",
    "\n",
    "where $\\lambda$ is the beta based on regressing price change versus lagged price: `px_{t} - px_{t-1} ~ px_{t-1} + 1`.\n",
    "\n",
    "In a strategy, half-life is used as the rolling average window for z-scoring."
   ]
  },
  {
   "cell_type": "code",
   "execution_count": 63,
   "metadata": {
    "collapsed": true
   },
   "outputs": [],
   "source": [
    "import pandas as pd"
   ]
  },
  {
   "cell_type": "code",
   "execution_count": 72,
   "metadata": {
    "collapsed": true
   },
   "outputs": [],
   "source": [
    "import pyhistdata as phd"
   ]
  },
  {
   "cell_type": "code",
   "execution_count": 74,
   "metadata": {},
   "outputs": [],
   "source": [
    "cad = phd.load_fx('USDCAD', source_dir='/home/zwl/data/fx/csv')"
   ]
  },
  {
   "cell_type": "code",
   "execution_count": 75,
   "metadata": {
    "collapsed": true
   },
   "outputs": [],
   "source": [
    "cadx = cad.loc['2007-07-22':'2012-03-28']"
   ]
  },
  {
   "cell_type": "code",
   "execution_count": 76,
   "metadata": {
    "collapsed": true
   },
   "outputs": [],
   "source": [
    "cad_d = cadx.resample('B').last()"
   ]
  },
  {
   "cell_type": "code",
   "execution_count": 77,
   "metadata": {},
   "outputs": [
    {
     "data": {
      "text/plain": [
       "<matplotlib.axes._subplots.AxesSubplot at 0x7f65744c9b38>"
      ]
     },
     "execution_count": 77,
     "metadata": {},
     "output_type": "execute_result"
    },
    {
     "data": {
      "image/png": "[encoded data removed]",
      "text/plain": [
       "<matplotlib.figure.Figure at 0x7f65744c0dd8>"
      ]
     },
     "metadata": {},
     "output_type": "display_data"
    }
   ],
   "source": [
    "cad_d.plot()"
   ]
  },
  {
   "cell_type": "code",
   "execution_count": 78,
   "metadata": {},
   "outputs": [
    {
     "data": {
      "text/html": [
       "<div>\n",
       "<style>\n",
       "    .dataframe thead tr:only-child th {\n",
       "        text-align: right;\n",
       "    }\n",
       "\n",
       "    .dataframe thead th {\n",
       "        text-align: left;\n",
       "    }\n",
       "\n",
       "    .dataframe tbody tr th {\n",
       "        vertical-align: top;\n",
       "    }\n",
       "</style>\n",
       "<table border=\"1\" class=\"dataframe\">\n",
       "  <thead>\n",
       "    <tr style=\"text-align: right;\">\n",
       "      <th></th>\n",
       "      <th>chg</th>\n",
       "      <th>lag</th>\n",
       "    </tr>\n",
       "    <tr>\n",
       "      <th>Datetime</th>\n",
       "      <th></th>\n",
       "      <th></th>\n",
       "    </tr>\n",
       "  </thead>\n",
       "  <tbody>\n",
       "    <tr>\n",
       "      <th>2012-03-22</th>\n",
       "      <td>0.00659</td>\n",
       "      <td>0.99292</td>\n",
       "    </tr>\n",
       "    <tr>\n",
       "      <th>2012-03-23</th>\n",
       "      <td>-0.00214</td>\n",
       "      <td>0.99951</td>\n",
       "    </tr>\n",
       "    <tr>\n",
       "      <th>2012-03-26</th>\n",
       "      <td>-0.00577</td>\n",
       "      <td>0.99737</td>\n",
       "    </tr>\n",
       "    <tr>\n",
       "      <th>2012-03-27</th>\n",
       "      <td>0.00431</td>\n",
       "      <td>0.99160</td>\n",
       "    </tr>\n",
       "    <tr>\n",
       "      <th>2012-03-28</th>\n",
       "      <td>0.00232</td>\n",
       "      <td>0.99591</td>\n",
       "    </tr>\n",
       "  </tbody>\n",
       "</table>\n",
       "</div>"
      ],
      "text/plain": [
       "                chg      lag\n",
       "Datetime                    \n",
       "2012-03-22  0.00659  0.99292\n",
       "2012-03-23 -0.00214  0.99951\n",
       "2012-03-26 -0.00577  0.99737\n",
       "2012-03-27  0.00431  0.99160\n",
       "2012-03-28  0.00232  0.99591"
      ]
     },
     "execution_count": 78,
     "metadata": {},
     "output_type": "execute_result"
    }
   ],
   "source": [
    "close = cad_d.close\n",
    "df = pd.DataFrame(dict(chg=close.diff(), lag=close.shift(1)))\n",
    "df.tail()"
   ]
  },
  {
   "cell_type": "code",
   "execution_count": 79,
   "metadata": {
    "collapsed": true
   },
   "outputs": [],
   "source": [
    "import statsmodels.formula.api as sm"
   ]
  },
  {
   "cell_type": "code",
   "execution_count": 86,
   "metadata": {},
   "outputs": [
    {
     "data": {
      "text/html": [
       "<table class=\"simpletable\">\n",
       "<caption>OLS Regression Results</caption>\n",
       "<tr>\n",
       "  <th>Dep. Variable:</th>           <td>chg</td>       <th>  R-squared:         </th> <td>   0.003</td>\n",
       "</tr>\n",
       "<tr>\n",
       "  <th>Model:</th>                   <td>OLS</td>       <th>  Adj. R-squared:    </th> <td>   0.002</td>\n",
       "</tr>\n",
       "<tr>\n",
       "  <th>Method:</th>             <td>Least Squares</td>  <th>  F-statistic:       </th> <td>   3.167</td>\n",
       "</tr>\n",
       "<tr>\n",
       "  <th>Date:</th>             <td>Wed, 12 Jul 2017</td> <th>  Prob (F-statistic):</th>  <td>0.0754</td> \n",
       "</tr>\n",
       "<tr>\n",
       "  <th>Time:</th>                 <td>00:41:30</td>     <th>  Log-Likelihood:    </th> <td>  4091.3</td>\n",
       "</tr>\n",
       "<tr>\n",
       "  <th>No. Observations:</th>      <td>  1219</td>      <th>  AIC:               </th> <td>  -8179.</td>\n",
       "</tr>\n",
       "<tr>\n",
       "  <th>Df Residuals:</th>          <td>  1217</td>      <th>  BIC:               </th> <td>  -8168.</td>\n",
       "</tr>\n",
       "<tr>\n",
       "  <th>Df Model:</th>              <td>     1</td>      <th>                     </th>     <td> </td>   \n",
       "</tr>\n",
       "<tr>\n",
       "  <th>Covariance Type:</th>      <td>nonrobust</td>    <th>                     </th>     <td> </td>   \n",
       "</tr>\n",
       "</table>\n",
       "<table class=\"simpletable\">\n",
       "<tr>\n",
       "      <td></td>         <th>coef</th>     <th>std err</th>      <th>t</th>      <th>P>|t|</th>  <th>[0.025</th>    <th>0.975]</th>  \n",
       "</tr>\n",
       "<tr>\n",
       "  <th>Intercept</th> <td>    0.0056</td> <td>    0.003</td> <td>    1.764</td> <td> 0.078</td> <td>   -0.001</td> <td>    0.012</td>\n",
       "</tr>\n",
       "<tr>\n",
       "  <th>lag</th>       <td>   -0.0054</td> <td>    0.003</td> <td>   -1.780</td> <td> 0.075</td> <td>   -0.011</td> <td>    0.001</td>\n",
       "</tr>\n",
       "</table>\n",
       "<table class=\"simpletable\">\n",
       "<tr>\n",
       "  <th>Omnibus:</th>       <td>201.569</td> <th>  Durbin-Watson:     </th> <td>   1.976</td>\n",
       "</tr>\n",
       "<tr>\n",
       "  <th>Prob(Omnibus):</th> <td> 0.000</td>  <th>  Jarque-Bera (JB):  </th> <td>2862.820</td>\n",
       "</tr>\n",
       "<tr>\n",
       "  <th>Skew:</th>          <td>-0.258</td>  <th>  Prob(JB):          </th> <td>    0.00</td>\n",
       "</tr>\n",
       "<tr>\n",
       "  <th>Kurtosis:</th>      <td>10.490</td>  <th>  Cond. No.          </th> <td>    26.5</td>\n",
       "</tr>\n",
       "</table>"
      ],
      "text/plain": [
       "<class 'statsmodels.iolib.summary.Summary'>\n",
       "\"\"\"\n",
       "                            OLS Regression Results                            \n",
       "==============================================================================\n",
       "Dep. Variable:                    chg   R-squared:                       0.003\n",
       "Model:                            OLS   Adj. R-squared:                  0.002\n",
       "Method:                 Least Squares   F-statistic:                     3.167\n",
       "Date:                Wed, 12 Jul 2017   Prob (F-statistic):             0.0754\n",
       "Time:                        00:41:30   Log-Likelihood:                 4091.3\n",
       "No. Observations:                1219   AIC:                            -8179.\n",
       "Df Residuals:                    1217   BIC:                            -8168.\n",
       "Df Model:                           1                                         \n",
       "Covariance Type:            nonrobust                                         \n",
       "==============================================================================\n",
       "                 coef    std err          t      P>|t|      [0.025      0.975]\n",
       "------------------------------------------------------------------------------\n",
       "Intercept      0.0056      0.003      1.764      0.078      -0.001       0.012\n",
       "lag           -0.0054      0.003     -1.780      0.075      -0.011       0.001\n",
       "==============================================================================\n",
       "Omnibus:                      201.569   Durbin-Watson:                   1.976\n",
       "Prob(Omnibus):                  0.000   Jarque-Bera (JB):             2862.820\n",
       "Skew:                          -0.258   Prob(JB):                         0.00\n",
       "Kurtosis:                      10.490   Cond. No.                         26.5\n",
       "==============================================================================\n",
       "\n",
       "Warnings:\n",
       "[1] Standard Errors assume that the covariance matrix of the errors is correctly specified.\n",
       "\"\"\""
      ]
     },
     "execution_count": 86,
     "metadata": {},
     "output_type": "execute_result"
    }
   ],
   "source": [
    "m = sm.ols('chg ~ lag', data=df.dropna()).fit()\n",
    "m.summary()"
   ]
  },
  {
   "cell_type": "code",
   "execution_count": 88,
   "metadata": {},
   "outputs": [
    {
     "data": {
      "text/plain": [
       "127.99596750671017"
      ]
     },
     "execution_count": 88,
     "metadata": {},
     "output_type": "execute_result"
    }
   ],
   "source": [
    "# half life\n",
    "-np.log(2) / m.params[1]"
   ]
  },
  {
   "cell_type": "markdown",
   "metadata": {},
   "source": [
    "## Cointegration\n",
    "\n",
    "### CADF test\n",
    "\n",
    "Testing for mean reversion for spread of a pair of securities. When using CADF, the order of variables matters, so need to try different order (dependent vs independent) to find the best p-value order, to obtain the hedge ratio.\n",
    "\n",
    "### Johansen Test\n",
    "\n",
    "See `R`'s `urca` package. \n",
    "\n",
    "Johansen test is independent of the order of the price series, it tests all the independent cointegrating relations that exist.\n",
    "\n",
    "The eigenvalues are the hedge ratios.\n",
    "\n",
    "see this [notebook](\\../notebooks/git/notebooks/python/time_series.ipynb) for more on this topic, including Philipp-Ouliaris (PO) test.\n",
    "\n"
   ]
  },
  {
   "cell_type": "code",
   "execution_count": null,
   "metadata": {
    "collapsed": true
   },
   "outputs": [],
   "source": []
  }
 ],
 "metadata": {
  "kernelspec": {
   "display_name": "Python 3",
   "language": "python",
   "name": "python3"
  },
  "language_info": {
   "codemirror_mode": {
    "name": "ipython",
    "version": 3
   },
   "file_extension": ".py",
   "mimetype": "text/x-python",
   "name": "python",
   "nbconvert_exporter": "python",
   "pygments_lexer": "ipython3",
   "version": "3.6.1"
  }
 },
 "nbformat": 4,
 "nbformat_minor": 2
}
