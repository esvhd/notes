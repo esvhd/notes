{
 "cells": [
  {
   "cell_type": "code",
   "execution_count": 57,
   "metadata": {
    "collapsed": true
   },
   "outputs": [],
   "source": [
    "%matplotlib inline\n",
    "\n",
    "import pandas as pd\n",
    "import numpy as np\n",
    "\n",
    "import quandl as qd\n",
    "import configparser as cp\n",
    "\n",
    "config = cp.ConfigParser()\n",
    "config.read('/home/zwl/.prop.config')\n",
    "qd.ApiConfig.api_key = config['quandl'].get('API_KEY')"
   ]
  },
  {
   "cell_type": "markdown",
   "metadata": {},
   "source": [
    "Collection of notes on quantitative trading strategies\n",
    "\n",
    "The first section of notes are based on Ernest Chan's Algorithmic Trading book.\n",
    "\n",
    "\n",
    "# Hypothesis Testing for Backtesting\n",
    "\n",
    "* p-value based, Critical value = $\\sqrt{n} \\times \\text{DailySharpeRatio}$, given $n$ is the number of days in the backtest. critial values: 1.645, 2.326, 3.091 for p values: 0.05, 0.01, 0.001. See coding example below.\n",
    "* Simulation based, generate price data and feed to strategy\n",
    "* Andrew Lo: Generate trades based on original historical price series, constraints: same number of long and short entries as the backtest, with same average holding periods. \n",
    "\n"
   ]
  },
  {
   "cell_type": "markdown",
   "metadata": {},
   "source": [
    "Critical Values are based on normal distributio with 0 mean and unit variance. \n",
    "\n",
    "The test statistic is caluclated as, [link](http://artmathonline.com/files/hypothesisteststeps1.pdf), [code](https://stackoverflow.com/questions/20864847/probability-to-z-score-and-vice-versa-in-python)\n",
    "\n",
    "$$ z = \\frac{\\bar{x} - \\mu}{\\sigma / \\sqrt{n}} = \\sqrt{n} \\times \\frac{\\bar{x} - \\mu}{\\sigma}$$\n",
    "\n",
    "This can be done with `scipy.stats.ttest_1samp(daily_returns)`."
   ]
  },
  {
   "cell_type": "code",
   "execution_count": 55,
   "metadata": {
    "collapsed": true
   },
   "outputs": [],
   "source": [
    "import statsmodels.stats.weightstats as ssw\n",
    "import numpy as np\n",
    "import scipy.stats as ss"
   ]
  },
  {
   "cell_type": "code",
   "execution_count": 44,
   "metadata": {},
   "outputs": [
    {
     "data": {
      "text/plain": [
       "1.2815515655446004"
      ]
     },
     "execution_count": 44,
     "metadata": {},
     "output_type": "execute_result"
    }
   ],
   "source": [
    "ss.norm.ppf(.9)"
   ]
  },
  {
   "cell_type": "code",
   "execution_count": 43,
   "metadata": {},
   "outputs": [
    {
     "data": {
      "text/plain": [
       "1.6448536269514722"
      ]
     },
     "execution_count": 43,
     "metadata": {},
     "output_type": "execute_result"
    }
   ],
   "source": [
    "ss.norm.ppf(.95)"
   ]
  },
  {
   "cell_type": "code",
   "execution_count": 45,
   "metadata": {},
   "outputs": [
    {
     "data": {
      "text/plain": [
       "2.3263478740408408"
      ]
     },
     "execution_count": 45,
     "metadata": {},
     "output_type": "execute_result"
    }
   ],
   "source": [
    "ss.norm.ppf(.99)"
   ]
  },
  {
   "cell_type": "code",
   "execution_count": 46,
   "metadata": {},
   "outputs": [
    {
     "data": {
      "text/plain": [
       "3.0902323061678132"
      ]
     },
     "execution_count": 46,
     "metadata": {},
     "output_type": "execute_result"
    }
   ],
   "source": [
    "ss.norm.ppf(.999)"
   ]
  },
  {
   "cell_type": "markdown",
   "metadata": {},
   "source": [
    "From critical value to p-value:"
   ]
  },
  {
   "cell_type": "code",
   "execution_count": 49,
   "metadata": {},
   "outputs": [
    {
     "data": {
      "text/plain": [
       "0.99379033467422384"
      ]
     },
     "execution_count": 49,
     "metadata": {},
     "output_type": "execute_result"
    }
   ],
   "source": [
    "ss.norm.cdf(2.5)"
   ]
  },
  {
   "cell_type": "code",
   "execution_count": null,
   "metadata": {
    "collapsed": true
   },
   "outputs": [],
   "source": []
  },
  {
   "cell_type": "code",
   "execution_count": 8,
   "metadata": {
    "collapsed": true
   },
   "outputs": [],
   "source": [
    "rtns = np.random.rand(252) / 10."
   ]
  },
  {
   "cell_type": "code",
   "execution_count": 59,
   "metadata": {},
   "outputs": [
    {
     "data": {
      "text/plain": [
       "25.402687920083974"
      ]
     },
     "execution_count": 59,
     "metadata": {},
     "output_type": "execute_result"
    }
   ],
   "source": [
    "cval = np.mean(rtns) / sd * np.sqrt(252)\n",
    "cval"
   ]
  },
  {
   "cell_type": "code",
   "execution_count": 60,
   "metadata": {},
   "outputs": [
    {
     "data": {
      "text/plain": [
       "0.0"
      ]
     },
     "execution_count": 60,
     "metadata": {},
     "output_type": "execute_result"
    }
   ],
   "source": [
    "1 - ss.norm.cdf(cval)"
   ]
  },
  {
   "cell_type": "code",
   "execution_count": 62,
   "metadata": {},
   "outputs": [
    {
     "data": {
      "text/plain": [
       "Ttest_1sampResult(statistic=25.402687920083977, pvalue=2.5044480595647219e-71)"
      ]
     },
     "execution_count": 62,
     "metadata": {},
     "output_type": "execute_result"
    }
   ],
   "source": [
    "ss.ttest_1samp(rtns, popmean=0)"
   ]
  },
  {
   "cell_type": "markdown",
   "metadata": {},
   "source": [
    "# Mean Reversion\n",
    "\n",
    "## ADF test\n",
    "\n",
    "Essentially this is testing whether the **beta coefficient** for 1-day lagged returns in an autoregressive model is **zero**. If the null hypothesis that beta equals zero is rejected, then the time series is **not a random walk**.\n",
    "\n",
    "In a mean reversion setting, we expect beta to be **negative**\n",
    "\n",
    "## Hurst Exponent \n",
    "\n",
    "H = 0.5 indicates geometric random walk. H < 0.5 indicates mean reversion, H > 0.5 indicates trending series.\n",
    "\n",
    "## Variance Ratio Test\n",
    "\n",
    "Statistical test for Hurst exponent, null hypothesis is that the time series is a random walk. Small p-values rejects this hypothesis.\n",
    "\n",
    "## Half-Life of Mean Reversion\n",
    "\n",
    "see this [notebook](\\../notebooks/git/notebooks/python/time_series.ipynb)\n",
    "\n",
    "Based on O-U process formula in discrete time scale.\n",
    "\n",
    "** half-life** $= -\\log(2)/\\lambda$, implying that $\\lambda$ should be **negative** for mean reverting series. \n",
    "\n",
    "where $\\lambda$ is the beta based on regressing price change versus lagged price: `px_{t} - px_{t-1} ~ px_{t-1} + 1`.\n",
    "\n",
    "In a strategy, half-life is used as the rolling average window for z-scoring."
   ]
  },
  {
   "cell_type": "code",
   "execution_count": 44,
   "metadata": {
    "collapsed": true
   },
   "outputs": [],
   "source": [
    "import pyhistdata as phd"
   ]
  },
  {
   "cell_type": "code",
   "execution_count": 59,
   "metadata": {
    "collapsed": true
   },
   "outputs": [],
   "source": [
    "def daily_fx(ccy):\n",
    "    fx = phd.load_fx(ccy, source_dir='/home/zwl/data/fx/csv')\n",
    "    df = fx.between_time('16:00', '16:30')\n",
    "    return df.resample('B').last()"
   ]
  },
  {
   "cell_type": "code",
   "execution_count": 74,
   "metadata": {
    "collapsed": true
   },
   "outputs": [],
   "source": [
    "cad = phd.load_fx('USDCAD', source_dir='/home/zwl/data/fx/csv')"
   ]
  },
  {
   "cell_type": "code",
   "execution_count": 46,
   "metadata": {
    "collapsed": true
   },
   "outputs": [],
   "source": [
    "cadx = cad.loc['2007-07-22':'2012-03-28']"
   ]
  },
  {
   "cell_type": "code",
   "execution_count": 47,
   "metadata": {
    "collapsed": true
   },
   "outputs": [],
   "source": [
    "cadx = cadx.between_time('07:00', '17:00')"
   ]
  },
  {
   "cell_type": "code",
   "execution_count": 70,
   "metadata": {
    "collapsed": true
   },
   "outputs": [],
   "source": [
    "cad_d = cadx.resample('B').last()"
   ]
  },
  {
   "cell_type": "code",
   "execution_count": 71,
   "metadata": {},
   "outputs": [
    {
     "data": {
      "text/plain": [
       "<matplotlib.axes._subplots.AxesSubplot at 0x7f8582d7d6a0>"
      ]
     },
     "execution_count": 71,
     "metadata": {},
     "output_type": "execute_result"
    },
    {
     "data": {
      "image/png": "[encoded data removed]",
      "text/plain": [
       "<matplotlib.figure.Figure at 0x7f8582d90da0>"
      ]
     },
     "metadata": {},
     "output_type": "display_data"
    }
   ],
   "source": [
    "cad_d.plot()"
   ]
  },
  {
   "cell_type": "code",
   "execution_count": 51,
   "metadata": {},
   "outputs": [
    {
     "data": {
      "text/html": [
       "<div>\n",
       "<style>\n",
       "    .dataframe thead tr:only-child th {\n",
       "        text-align: right;\n",
       "    }\n",
       "\n",
       "    .dataframe thead th {\n",
       "        text-align: left;\n",
       "    }\n",
       "\n",
       "    .dataframe tbody tr th {\n",
       "        vertical-align: top;\n",
       "    }\n",
       "</style>\n",
       "<table border=\"1\" class=\"dataframe\">\n",
       "  <thead>\n",
       "    <tr style=\"text-align: right;\">\n",
       "      <th></th>\n",
       "      <th>chg</th>\n",
       "      <th>lag</th>\n",
       "    </tr>\n",
       "    <tr>\n",
       "      <th>Datetime</th>\n",
       "      <th></th>\n",
       "      <th></th>\n",
       "    </tr>\n",
       "  </thead>\n",
       "  <tbody>\n",
       "    <tr>\n",
       "      <th>2012-03-22</th>\n",
       "      <td>0.00741</td>\n",
       "      <td>0.99201</td>\n",
       "    </tr>\n",
       "    <tr>\n",
       "      <th>2012-03-23</th>\n",
       "      <td>-0.00144</td>\n",
       "      <td>0.99942</td>\n",
       "    </tr>\n",
       "    <tr>\n",
       "      <th>2012-03-26</th>\n",
       "      <td>-0.00740</td>\n",
       "      <td>0.99798</td>\n",
       "    </tr>\n",
       "    <tr>\n",
       "      <th>2012-03-27</th>\n",
       "      <td>0.00452</td>\n",
       "      <td>0.99058</td>\n",
       "    </tr>\n",
       "    <tr>\n",
       "      <th>2012-03-28</th>\n",
       "      <td>0.00330</td>\n",
       "      <td>0.99510</td>\n",
       "    </tr>\n",
       "  </tbody>\n",
       "</table>\n",
       "</div>"
      ],
      "text/plain": [
       "                chg      lag\n",
       "Datetime                    \n",
       "2012-03-22  0.00741  0.99201\n",
       "2012-03-23 -0.00144  0.99942\n",
       "2012-03-26 -0.00740  0.99798\n",
       "2012-03-27  0.00452  0.99058\n",
       "2012-03-28  0.00330  0.99510"
      ]
     },
     "execution_count": 51,
     "metadata": {},
     "output_type": "execute_result"
    }
   ],
   "source": [
    "close = cad_d.close\n",
    "df = pd.DataFrame(dict(chg=close.diff(), lag=close.shift(1)))\n",
    "df.tail()"
   ]
  },
  {
   "cell_type": "code",
   "execution_count": 52,
   "metadata": {
    "collapsed": true
   },
   "outputs": [],
   "source": [
    "import statsmodels.formula.api as sm"
   ]
  },
  {
   "cell_type": "code",
   "execution_count": 53,
   "metadata": {},
   "outputs": [
    {
     "data": {
      "text/html": [
       "<table class=\"simpletable\">\n",
       "<caption>OLS Regression Results</caption>\n",
       "<tr>\n",
       "  <th>Dep. Variable:</th>           <td>chg</td>       <th>  R-squared:         </th> <td>   0.003</td>\n",
       "</tr>\n",
       "<tr>\n",
       "  <th>Model:</th>                   <td>OLS</td>       <th>  Adj. R-squared:    </th> <td>   0.002</td>\n",
       "</tr>\n",
       "<tr>\n",
       "  <th>Method:</th>             <td>Least Squares</td>  <th>  F-statistic:       </th> <td>   3.399</td>\n",
       "</tr>\n",
       "<tr>\n",
       "  <th>Date:</th>             <td>Wed, 12 Jul 2017</td> <th>  Prob (F-statistic):</th>  <td>0.0655</td> \n",
       "</tr>\n",
       "<tr>\n",
       "  <th>Time:</th>                 <td>22:45:18</td>     <th>  Log-Likelihood:    </th> <td>  4025.7</td>\n",
       "</tr>\n",
       "<tr>\n",
       "  <th>No. Observations:</th>      <td>  1213</td>      <th>  AIC:               </th> <td>  -8047.</td>\n",
       "</tr>\n",
       "<tr>\n",
       "  <th>Df Residuals:</th>          <td>  1211</td>      <th>  BIC:               </th> <td>  -8037.</td>\n",
       "</tr>\n",
       "<tr>\n",
       "  <th>Df Model:</th>              <td>     1</td>      <th>                     </th>     <td> </td>   \n",
       "</tr>\n",
       "<tr>\n",
       "  <th>Covariance Type:</th>      <td>nonrobust</td>    <th>                     </th>     <td> </td>   \n",
       "</tr>\n",
       "</table>\n",
       "<table class=\"simpletable\">\n",
       "<tr>\n",
       "      <td></td>         <th>coef</th>     <th>std err</th>      <th>t</th>      <th>P>|t|</th>  <th>[0.025</th>    <th>0.975]</th>  \n",
       "</tr>\n",
       "<tr>\n",
       "  <th>Intercept</th> <td>    0.0061</td> <td>    0.003</td> <td>    1.831</td> <td> 0.067</td> <td>   -0.000</td> <td>    0.013</td>\n",
       "</tr>\n",
       "<tr>\n",
       "  <th>lag</th>       <td>   -0.0059</td> <td>    0.003</td> <td>   -1.844</td> <td> 0.065</td> <td>   -0.012</td> <td>    0.000</td>\n",
       "</tr>\n",
       "</table>\n",
       "<table class=\"simpletable\">\n",
       "<tr>\n",
       "  <th>Omnibus:</th>       <td>98.207</td> <th>  Durbin-Watson:     </th> <td>   2.042</td>\n",
       "</tr>\n",
       "<tr>\n",
       "  <th>Prob(Omnibus):</th> <td> 0.000</td> <th>  Jarque-Bera (JB):  </th> <td> 377.387</td>\n",
       "</tr>\n",
       "<tr>\n",
       "  <th>Skew:</th>          <td> 0.298</td> <th>  Prob(JB):          </th> <td>1.13e-82</td>\n",
       "</tr>\n",
       "<tr>\n",
       "  <th>Kurtosis:</th>      <td> 5.667</td> <th>  Cond. No.          </th> <td>    26.5</td>\n",
       "</tr>\n",
       "</table>"
      ],
      "text/plain": [
       "<class 'statsmodels.iolib.summary.Summary'>\n",
       "\"\"\"\n",
       "                            OLS Regression Results                            \n",
       "==============================================================================\n",
       "Dep. Variable:                    chg   R-squared:                       0.003\n",
       "Model:                            OLS   Adj. R-squared:                  0.002\n",
       "Method:                 Least Squares   F-statistic:                     3.399\n",
       "Date:                Wed, 12 Jul 2017   Prob (F-statistic):             0.0655\n",
       "Time:                        22:45:18   Log-Likelihood:                 4025.7\n",
       "No. Observations:                1213   AIC:                            -8047.\n",
       "Df Residuals:                    1211   BIC:                            -8037.\n",
       "Df Model:                           1                                         \n",
       "Covariance Type:            nonrobust                                         \n",
       "==============================================================================\n",
       "                 coef    std err          t      P>|t|      [0.025      0.975]\n",
       "------------------------------------------------------------------------------\n",
       "Intercept      0.0061      0.003      1.831      0.067      -0.000       0.013\n",
       "lag           -0.0059      0.003     -1.844      0.065      -0.012       0.000\n",
       "==============================================================================\n",
       "Omnibus:                       98.207   Durbin-Watson:                   2.042\n",
       "Prob(Omnibus):                  0.000   Jarque-Bera (JB):              377.387\n",
       "Skew:                           0.298   Prob(JB):                     1.13e-82\n",
       "Kurtosis:                       5.667   Cond. No.                         26.5\n",
       "==============================================================================\n",
       "\n",
       "Warnings:\n",
       "[1] Standard Errors assume that the covariance matrix of the errors is correctly specified.\n",
       "\"\"\""
      ]
     },
     "execution_count": 53,
     "metadata": {},
     "output_type": "execute_result"
    }
   ],
   "source": [
    "m = sm.ols('chg ~ lag', data=df.dropna()).fit()\n",
    "m.summary()"
   ]
  },
  {
   "cell_type": "code",
   "execution_count": 56,
   "metadata": {},
   "outputs": [
    {
     "data": {
      "text/plain": [
       "118.45822902103323"
      ]
     },
     "execution_count": 56,
     "metadata": {},
     "output_type": "execute_result"
    }
   ],
   "source": [
    "# half life\n",
    "-np.log(2) / m.params[1]"
   ]
  },
  {
   "cell_type": "code",
   "execution_count": null,
   "metadata": {
    "collapsed": true
   },
   "outputs": [],
   "source": []
  },
  {
   "cell_type": "markdown",
   "metadata": {},
   "source": [
    "## Cointegration\n",
    "\n",
    "### CADF test\n",
    "\n",
    "Testing for mean reversion for spread of a pair of securities. When using CADF, the order of variables matters, so need to try different order (dependent vs independent) to find the best p-value order, to obtain the hedge ratio.\n",
    "\n",
    "### Johansen Test\n",
    "\n",
    "See `R`'s `urca` and `tseries` package. This test has recently been added to `statsmodels` via its `VECM` model addtion, see [here](https://github.com/statsmodels/statsmodels/blob/09bd0c5cdd0e0da9281cde983653969c0557ce5f/statsmodels/tsa/vector_ar/vecm.py#530)\n",
    "\n",
    "Johansen test is independent of the order of the price series, it tests all the independent cointegrating relations that exist.\n",
    "\n",
    "The eigenvalues are the hedge ratios.\n",
    "\n",
    "see this [notebook](\\../notebooks/git/notebooks/python/time_series.ipynb) for more on this topic, including Philipp-Ouliaris (PO) test.\n",
    "\n",
    "Can use **price, log(price), or ratio** to construct cointegrating pairs for trading. FX is an example of ratio"
   ]
  },
  {
   "cell_type": "code",
   "execution_count": null,
   "metadata": {
    "collapsed": true
   },
   "outputs": [],
   "source": []
  },
  {
   "cell_type": "markdown",
   "metadata": {},
   "source": [
    "# FX Cointegration Example"
   ]
  },
  {
   "cell_type": "code",
   "execution_count": 75,
   "metadata": {
    "collapsed": true
   },
   "outputs": [],
   "source": [
    "nok = daily_fx('USDNOK')\n",
    "cad = daily_fx('USDCAD')"
   ]
  },
  {
   "cell_type": "code",
   "execution_count": 76,
   "metadata": {
    "collapsed": true
   },
   "outputs": [],
   "source": [
    "df = pd.DataFrame(dict(nok=nok.close, cad=cad.close))"
   ]
  },
  {
   "cell_type": "code",
   "execution_count": 82,
   "metadata": {
    "collapsed": true
   },
   "outputs": [],
   "source": [
    "df.dropna(inplace=True)"
   ]
  },
  {
   "cell_type": "code",
   "execution_count": 132,
   "metadata": {},
   "outputs": [
    {
     "data": {
      "text/html": [
       "<table class=\"simpletable\">\n",
       "<caption>OLS Regression Results</caption>\n",
       "<tr>\n",
       "  <th>Dep. Variable:</th>           <td>cad</td>       <th>  R-squared:         </th> <td>   0.914</td> \n",
       "</tr>\n",
       "<tr>\n",
       "  <th>Model:</th>                   <td>OLS</td>       <th>  Adj. R-squared:    </th> <td>   0.914</td> \n",
       "</tr>\n",
       "<tr>\n",
       "  <th>Method:</th>             <td>Least Squares</td>  <th>  F-statistic:       </th> <td>2.289e+04</td>\n",
       "</tr>\n",
       "<tr>\n",
       "  <th>Date:</th>             <td>Wed, 12 Jul 2017</td> <th>  Prob (F-statistic):</th>  <td>  0.00</td>  \n",
       "</tr>\n",
       "<tr>\n",
       "  <th>Time:</th>                 <td>23:22:03</td>     <th>  Log-Likelihood:    </th> <td>  4053.2</td> \n",
       "</tr>\n",
       "<tr>\n",
       "  <th>No. Observations:</th>      <td>  2150</td>      <th>  AIC:               </th> <td>  -8102.</td> \n",
       "</tr>\n",
       "<tr>\n",
       "  <th>Df Residuals:</th>          <td>  2148</td>      <th>  BIC:               </th> <td>  -8091.</td> \n",
       "</tr>\n",
       "<tr>\n",
       "  <th>Df Model:</th>              <td>     1</td>      <th>                     </th>     <td> </td>    \n",
       "</tr>\n",
       "<tr>\n",
       "  <th>Covariance Type:</th>      <td>nonrobust</td>    <th>                     </th>     <td> </td>    \n",
       "</tr>\n",
       "</table>\n",
       "<table class=\"simpletable\">\n",
       "<tr>\n",
       "      <td></td>         <th>coef</th>     <th>std err</th>      <th>t</th>      <th>P>|t|</th>  <th>[0.025</th>    <th>0.975]</th>  \n",
       "</tr>\n",
       "<tr>\n",
       "  <th>Intercept</th> <td>    0.3501</td> <td>    0.005</td> <td>   68.471</td> <td> 0.000</td> <td>    0.340</td> <td>    0.360</td>\n",
       "</tr>\n",
       "<tr>\n",
       "  <th>nok</th>       <td>    0.1167</td> <td>    0.001</td> <td>  151.299</td> <td> 0.000</td> <td>    0.115</td> <td>    0.118</td>\n",
       "</tr>\n",
       "</table>\n",
       "<table class=\"simpletable\">\n",
       "<tr>\n",
       "  <th>Omnibus:</th>       <td>309.136</td> <th>  Durbin-Watson:     </th> <td>   0.028</td> \n",
       "</tr>\n",
       "<tr>\n",
       "  <th>Prob(Omnibus):</th> <td> 0.000</td>  <th>  Jarque-Bera (JB):  </th> <td> 468.889</td> \n",
       "</tr>\n",
       "<tr>\n",
       "  <th>Skew:</th>          <td> 1.016</td>  <th>  Prob(JB):          </th> <td>1.52e-102</td>\n",
       "</tr>\n",
       "<tr>\n",
       "  <th>Kurtosis:</th>      <td> 4.053</td>  <th>  Cond. No.          </th> <td>    43.7</td> \n",
       "</tr>\n",
       "</table>"
      ],
      "text/plain": [
       "<class 'statsmodels.iolib.summary.Summary'>\n",
       "\"\"\"\n",
       "                            OLS Regression Results                            \n",
       "==============================================================================\n",
       "Dep. Variable:                    cad   R-squared:                       0.914\n",
       "Model:                            OLS   Adj. R-squared:                  0.914\n",
       "Method:                 Least Squares   F-statistic:                 2.289e+04\n",
       "Date:                Wed, 12 Jul 2017   Prob (F-statistic):               0.00\n",
       "Time:                        23:22:03   Log-Likelihood:                 4053.2\n",
       "No. Observations:                2150   AIC:                            -8102.\n",
       "Df Residuals:                    2148   BIC:                            -8091.\n",
       "Df Model:                           1                                         \n",
       "Covariance Type:            nonrobust                                         \n",
       "==============================================================================\n",
       "                 coef    std err          t      P>|t|      [0.025      0.975]\n",
       "------------------------------------------------------------------------------\n",
       "Intercept      0.3501      0.005     68.471      0.000       0.340       0.360\n",
       "nok            0.1167      0.001    151.299      0.000       0.115       0.118\n",
       "==============================================================================\n",
       "Omnibus:                      309.136   Durbin-Watson:                   0.028\n",
       "Prob(Omnibus):                  0.000   Jarque-Bera (JB):              468.889\n",
       "Skew:                           1.016   Prob(JB):                    1.52e-102\n",
       "Kurtosis:                       4.053   Cond. No.                         43.7\n",
       "==============================================================================\n",
       "\n",
       "Warnings:\n",
       "[1] Standard Errors assume that the covariance matrix of the errors is correctly specified.\n",
       "\"\"\""
      ]
     },
     "execution_count": 132,
     "metadata": {},
     "output_type": "execute_result"
    }
   ],
   "source": [
    "m = sm.ols('cad ~ nok', data=df).fit()\n",
    "m.summary()"
   ]
  },
  {
   "cell_type": "code",
   "execution_count": 133,
   "metadata": {},
   "outputs": [
    {
     "data": {
      "text/plain": [
       "<matplotlib.axes._subplots.AxesSubplot at 0x7f857dc8cfd0>"
      ]
     },
     "execution_count": 133,
     "metadata": {},
     "output_type": "execute_result"
    },
    {
     "data": {
      "image/png": "[encoded data removed]",
      "text/plain": [
       "<matplotlib.figure.Figure at 0x7f857dca1d68>"
      ]
     },
     "metadata": {},
     "output_type": "display_data"
    }
   ],
   "source": [
    "m.resid.plot()"
   ]
  },
  {
   "cell_type": "code",
   "execution_count": 136,
   "metadata": {},
   "outputs": [
    {
     "data": {
      "text/plain": [
       "-5.938165499574084"
      ]
     },
     "execution_count": 136,
     "metadata": {},
     "output_type": "execute_result"
    }
   ],
   "source": [
    "hl = -np.log(2) / m.params[1]\n",
    "hl"
   ]
  },
  {
   "cell_type": "code",
   "execution_count": 88,
   "metadata": {},
   "outputs": [
    {
     "name": "stderr",
     "output_type": "stream",
     "text": [
      "/usr/anaconda3/lib/python3.6/site-packages/statsmodels/compat/pandas.py:56: FutureWarning: The pandas.core.datetools module is deprecated and will be removed in a future version. Please use the pandas.tseries module instead.\n",
      "  from pandas.core import datetools\n"
     ]
    }
   ],
   "source": [
    "import arch.unitroot as au"
   ]
  },
  {
   "cell_type": "code",
   "execution_count": 92,
   "metadata": {},
   "outputs": [
    {
     "data": {
      "text/html": [
       "<table class=\"simpletable\">\n",
       "<caption>Augmented Dickey-Fuller Results</caption>\n",
       "<tr>\n",
       "  <td>Test Statistic</td>    <td>-3.621</td>\n",
       "</tr>\n",
       "<tr>\n",
       "  <td>P-value</td>            <td>0.005</td>\n",
       "</tr>\n",
       "<tr>\n",
       "  <td>Lags</td>                   <td>5</td>\n",
       "</tr>\n",
       "</table>"
      ],
      "text/plain": [
       "<class 'arch.unitroot.unitroot.ADF'>\n",
       "\"\"\"\n",
       "   Augmented Dickey-Fuller Results   \n",
       "=====================================\n",
       "Test Statistic                 -3.621\n",
       "P-value                         0.005\n",
       "Lags                                5\n",
       "-------------------------------------\n",
       "\n",
       "Trend: Constant\n",
       "Critical Values: -3.43 (1%), -2.86 (5%), -2.57 (10%)\n",
       "Null Hypothesis: The process contains a unit root.\n",
       "Alternative Hypothesis: The process is weakly stationary.\n",
       "\"\"\""
      ]
     },
     "execution_count": 92,
     "metadata": {},
     "output_type": "execute_result"
    }
   ],
   "source": [
    "au.ADF(m.resid, )"
   ]
  },
  {
   "cell_type": "code",
   "execution_count": 96,
   "metadata": {},
   "outputs": [
    {
     "name": "stdout",
     "output_type": "stream",
     "text": [
      "     Variance-Ratio Test Results     \n",
      "=====================================\n",
      "Test Statistic                 -3.014\n",
      "P-value                         0.003\n",
      "Lags                                2\n",
      "-------------------------------------\n",
      "\n",
      "Computed with overlapping blocks (de-biased)\n"
     ]
    }
   ],
   "source": [
    "print(au.VarianceRatio(m.resid).summary().as_text())"
   ]
  },
  {
   "cell_type": "code",
   "execution_count": 137,
   "metadata": {},
   "outputs": [],
   "source": [
    "n = len(df)\n",
    "window = 22*6\n",
    "beta = []\n",
    "for i in range(n-window):\n",
    "    d = df.iloc[i:i+window, :]\n",
    "    m = sm.ols('cad ~ nok - 1', data=d).fit()\n",
    "    b = m.params[0]\n",
    "    ind = d.index[-1]\n",
    "    beta.append((ind, b))"
   ]
  },
  {
   "cell_type": "code",
   "execution_count": 138,
   "metadata": {},
   "outputs": [],
   "source": [
    "betas = pd.DataFrame.from_records(beta, columns=['date', 'beta'])"
   ]
  },
  {
   "cell_type": "code",
   "execution_count": 139,
   "metadata": {},
   "outputs": [],
   "source": [
    "betas.set_index('date', inplace=True)"
   ]
  },
  {
   "cell_type": "code",
   "execution_count": 140,
   "metadata": {},
   "outputs": [
    {
     "data": {
      "text/plain": [
       "<matplotlib.axes._subplots.AxesSubplot at 0x7f857c462b38>"
      ]
     },
     "execution_count": 140,
     "metadata": {},
     "output_type": "execute_result"
    },
    {
     "data": {
      "image/png": "[encoded data removed]",
      "text/plain": [
       "<matplotlib.figure.Figure at 0x7f857c7c1c50>"
      ]
     },
     "metadata": {},
     "output_type": "display_data"
    }
   ],
   "source": [
    "betas.plot()"
   ]
  },
  {
   "cell_type": "code",
   "execution_count": 141,
   "metadata": {
    "collapsed": true
   },
   "outputs": [],
   "source": [
    "pred = betas.mul(df.nok, axis='index')"
   ]
  },
  {
   "cell_type": "code",
   "execution_count": 142,
   "metadata": {},
   "outputs": [],
   "source": [
    "dx = df.assign(pred=pred)"
   ]
  },
  {
   "cell_type": "code",
   "execution_count": 143,
   "metadata": {},
   "outputs": [
    {
     "data": {
      "text/plain": [
       "<matplotlib.axes._subplots.AxesSubplot at 0x7f857b8d8cc0>"
      ]
     },
     "execution_count": 143,
     "metadata": {},
     "output_type": "execute_result"
    },
    {
     "data": {
      "image/png": "[encoded data removed]",
      "text/plain": [
       "<matplotlib.figure.Figure at 0x7f857b1bfa90>"
      ]
     },
     "metadata": {},
     "output_type": "display_data"
    }
   ],
   "source": [
    "dx[['pred', 'cad']].plot(alpha=.6)"
   ]
  },
  {
   "cell_type": "code",
   "execution_count": 146,
   "metadata": {
    "collapsed": true
   },
   "outputs": [],
   "source": [
    "resid = dx.pred - dx.cad"
   ]
  },
  {
   "cell_type": "code",
   "execution_count": 148,
   "metadata": {},
   "outputs": [
    {
     "data": {
      "text/plain": [
       "<matplotlib.axes._subplots.AxesSubplot at 0x7f857cb411d0>"
      ]
     },
     "execution_count": 148,
     "metadata": {},
     "output_type": "execute_result"
    },
    {
     "data": {
      "image/png": "[encoded data removed]",
      "text/plain": [
       "<matplotlib.figure.Figure at 0x7f857b2c13c8>"
      ]
     },
     "metadata": {},
     "output_type": "display_data"
    }
   ],
   "source": [
    "resid.dropna().plot()"
   ]
  },
  {
   "cell_type": "code",
   "execution_count": null,
   "metadata": {
    "collapsed": true
   },
   "outputs": [],
   "source": []
  }
 ],
 "metadata": {
  "kernelspec": {
   "display_name": "Python 3",
   "language": "python",
   "name": "python3"
  },
  "language_info": {
   "codemirror_mode": {
    "name": "ipython",
    "version": 3
   },
   "file_extension": ".py",
   "mimetype": "text/x-python",
   "name": "python",
   "nbconvert_exporter": "python",
   "pygments_lexer": "ipython3",
   "version": "3.6.1"
  }
 },
 "nbformat": 4,
 "nbformat_minor": 2
}
