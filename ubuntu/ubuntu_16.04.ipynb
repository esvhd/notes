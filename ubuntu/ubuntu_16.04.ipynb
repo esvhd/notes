{
 "cells": [
  {
   "cell_type": "markdown",
   "metadata": {},
   "source": [
    "# System\n",
    "\n",
    "* Intel Xeon E5-2630v4\n",
    "* Asus X99-E WS motherboard\n",
    "* 2x Nvidia GeForce 1080 Ti Founders"
   ]
  },
  {
   "cell_type": "markdown",
   "metadata": {},
   "source": [
    "# Ubuntu Setup Notes"
   ]
  },
  {
   "cell_type": "markdown",
   "metadata": {},
   "source": [
    "I largely followed this [post](https://blog.slavv.com/the-1700-great-deep-learning-box-assembly-setup-and-benchmarks-148c5ebe6415) for the installation and software configuration instructions. \n",
    "\n",
    "A few additions are needed, perhaps specifically for the hardware I'm using."
   ]
  },
  {
   "cell_type": "markdown",
   "metadata": {},
   "source": [
    "# Partitions\n",
    "\n",
    "* `/` root drive\n",
    "* `/home` **NEVER REFORMAT!!**\n",
    "* `/var` Logs or DB\n",
    "* `/tmp` \n",
    "* `swap space`, 64GB, same as memory"
   ]
  },
  {
   "cell_type": "markdown",
   "metadata": {},
   "source": [
    "## Update Ubuntu Packages\n",
    "\n",
    "Also, I needed to **upgrade to the latest distribution linux kernel for the drivers to work**. For this, I followed the instructions [here](https://askubuntu.com/questions/196768/how-to-install-updates-via-command-line) to update the packages for the distrubtions. The commends needed:\n",
    "\n",
    "    sudo apt-get update        # Fetches the list of available updates\n",
    "    sudo apt-get upgrade       # Strictly upgrades the current packages\n",
    "    sudo apt-get dist-upgrade  # Installs updates (new ones)\n",
    "    "
   ]
  },
  {
   "cell_type": "markdown",
   "metadata": {},
   "source": [
    "## Mount Apple Time Capsule\n",
    "\n",
    "[Here](https://askubuntu.com/questions/524328/ubuntu-14-04-how-to-connect-to-apples-time-capsule), and [here](https://ineed.coffee/418/how-to-automatically-mount-and-umount-apple-time-capsule-on-linux/)\n",
    "\n",
    "Install packages:\n",
    "\n",
    "    sudo apt-get install cifs-utils\n",
    "    sudo apt-get install smbclient\n",
    "    \n",
    "Update to scripts:\n",
    "\n",
    "    TIMECAPSULE_IP=\"192.168.1.64\"\n",
    "    TIMECAPSULE_VOLUME=\"/Data\"\n",
    "    TIMECAPSULE_PASSWORD=password here"
   ]
  },
  {
   "cell_type": "markdown",
   "metadata": {},
   "source": [
    "## Ubuntu Package Installation\n",
    "\n",
    "Refer to [here](https://askubuntu.com/questions/40779/how-do-i-install-a-deb-file-via-the-command-line) for installing packages. \n",
    "\n",
    "To install a `.deb` package:\n",
    "\n",
    "    sudo dpkg -i DEB_PACKAGE\n",
    "    \n",
    "To reinstall a package:\n",
    "\n",
    "    sudo dpkg -i --reinstall DEB_PACKAGE\n",
    "\n",
    "To resolve package dependency issues:\n",
    "\n",
    "    sudo apt-get install -f\n",
    "    \n",
    "To remove a package:\n",
    "\n",
    "    sudo dpkg -r PACKAGE_NAME"
   ]
  },
  {
   "cell_type": "markdown",
   "metadata": {},
   "source": [
    "## Useful Ubuntu Packages\n",
    "\n",
    "### Disk IO\n",
    "\n",
    "    sudo apt-get install sysstat\n",
    "    \n",
    "Then use `iostat -d 30 /dev/sda5` to monitor `/dev/sda5` with refresh every 30 seconds.\n",
    "\n",
    "### Etc\n",
    "\n",
    "    sudo apt-get install curl\n",
    "    sudo apt-get install git\n",
    "    \n",
    "    \n",
    "## Unity 8\n",
    "\n",
    "However, it is not supported by Nvidia so not working...\n",
    "\n",
    "    sudo apt-get update && sudo apt-get dist-upgrade\n",
    "    sudo apt-get install unity8-desktop-session-mir"
   ]
  },
  {
   "cell_type": "markdown",
   "metadata": {},
   "source": [
    "# Nvidia Driver / GeForce 1080 Ti Founders\n",
    "\n",
    "    \n",
    "## Best Way to Install Cuda + Nvidia Drivers\n",
    "\n",
    "Follow the instructions [here](http://blog.nelsonliu.me/2017/04/29/installing-and-updating-gtx-1080-ti-cuda-drivers-on-ubuntu/)\n",
    "\n",
    "### Nvidia Driver\n",
    "\n",
    "Use [Ubuntu Graphics Drivers PPA](https://launchpad.net/~graphics-drivers/+archive/ubuntu/ppa). Latest v381.22 is available as of 2017-06-15. \n",
    "\n",
    "    sudo add-apt-repository ppa:graphics-drivers/ppa  \n",
    "    sudo apt-get update\n",
    "    sudo apt-get install nvidia-381\n",
    "    sudo reboot\n",
    "    \n",
    "If this changes the desktop environment, it is because ownership/permission issues in `HOME/.config/`. Runing `chown` and `chgrp -R` would fix it.\n",
    "    \n",
    "**Note**: As of Nvidia driver version 384.69 that came out on 2017-08-22, `pytorch` correctly sees cuda with `torch.cuda.is_availalbe()` after installing using Nvidia's scripts. This is done on a fresh Ubuntu install. However, after updating Ubuntu packages and a reboot, system failed to boot into X. This [post](http://tipsonubuntu.com/2017/08/23/nvidia-384-69-released-new-gpu-support-fixes/) is very useful in showing how to roll back and uninstall Nvidia official drivers. \n",
    "\n",
    "**Currently the best way is still to use `ppa:graphics-drivers/ppa` to install version 381.**\n",
    "    \n",
    "Run `nvidia-smi` to confirm driver version is the latest.\n",
    "\n",
    "Compile `/usr/local/cuda/samples/1_Utilities/deviceQuery` to test. \n",
    "\n",
    "### Cuda \n",
    "\n",
    "**Install with runfile, opt out of Nvidia driver installation as it is an older version.**\n",
    "\n",
    "Choose Y for creating symbolic link for `/usr/local/cuda`.\n",
    "\n",
    "**Don't forget to set:** `umask 022`\n",
    "\n",
    "* Add `/usr/local/cuda/bin` to `PATH`\n",
    "* Add `/usr/local/cuda/lib64` to `LD_LIBRARY_PATH`\n",
    "\n",
    "## Previous Failed Attempts\n",
    "\n",
    "A few issues I encountered here:\n",
    "\n",
    "### Driver Installation Issues, version 381.22\n",
    "\n",
    "Had problem with this installation, potentially due to the fact that it was a reinstall. In a reinstall, some GL libs are **skipped** and not installed. Solution was to add manual switches to force them to be reinstalled. \n",
    "\n",
    "However, I still cannot get the `drm` tools to work. \n",
    "\n",
    "The parameters I used:\n",
    "\n",
    "    sudo ./NVIDIA-Linux-x86_64-381.22.run -install-libglvnd -glvnd-glx-client -glvnd-egl-client -no-drm\n"
   ]
  },
  {
   "cell_type": "markdown",
   "metadata": {},
   "source": [
    "### PCIe Bus ERROR\n",
    "\n",
    "This was written for Nvidia drvier version 381.22.\n",
    "\n",
    "This seems to be a problem for Asus, X99 chipset & PLX switches issue, according to this [post](https://forums.geforce.com/default/topic/957456/geforce-drivers/gtx-1080-throwing-bad-tlp-pcie-bus-errors/2/). \n",
    "\n",
    "I used one of the suggestions by adding this kernel parameters: `pcie_aspm=off`. This seems to have worked for me so far, no more error messages. **Note: this is causing problem at start up for Nvidia driver v 384.69.**\n",
    "\n",
    "Follow this [page](https://askubuntu.com/questions/19486/how-do-i-add-a-kernel-boot-parameter) on how to add kernel boot options."
   ]
  },
  {
   "cell_type": "markdown",
   "metadata": {},
   "source": [
    "## Others    \n",
    "\n",
    "### Disable Secure Boot\n",
    "\n",
    "Some posts suggested disabling secure book in BIOS helped with the `drm` issue, but this did not work for me."
   ]
  },
  {
   "cell_type": "code",
   "execution_count": null,
   "metadata": {
    "collapsed": true
   },
   "outputs": [],
   "source": []
  },
  {
   "cell_type": "markdown",
   "metadata": {},
   "source": [
    "## Software Updates"
   ]
  },
  {
   "cell_type": "markdown",
   "metadata": {},
   "source": [
    "### Pytorch, HDBSCAN, Joblib, xarray, etc\n",
    "\n",
    "    conda install pytorch torchvision cuda80 -c soumith\n",
    "    conda install -c conda-forge hdbscan tabulate\n",
    "    conda install -c defaults joblib xarray dask netCDF4 bottleneck holoviews colorcet tqdm\n",
    "    conda install -c conda-forge xarray cartopy pynio # for difficult to build cartopy and pynio.\n",
    "    conda install -c districtdatalabs yellowbrick\n",
    "    conda install -c bokeh datashader\n",
    "    \n",
    "    pip install hypertools\n",
    "    pip install git+https://github.com/bashtage/arch.git\n",
    "    pip install --upgrade google-api-python-client\n",
    "    \n",
    "    # filterpy\n",
    "    git clone https://github.com/rlabbe/filterpy.git\n",
    "    cd filterpy\n",
    "    python setup.py install\n",
    "\n",
    "### Jupyter Notebook \n",
    "\n",
    "#### Password\n",
    "\n",
    "To setup a password for jupyter server, see [here](https://jupyter-notebook.readthedocs.io/en/stable/public_server.html)\n",
    "\n",
    "#### Crontab\n",
    "\n",
    "Useful tip from this [link](https://stackoverflow.com/questions/2229825/where-can-i-set-environment-variables-that-crontab-will-use)\n",
    "\n",
    "Instead of calling `jupyter notebook` directly in the crontab scripts, call a script that sets up the needed environment variables, such as `PYTHONPATH`, to start `jupyter notebook` server. See [this script](./cron_jupyter.sh).\n",
    "\n",
    "`Crontab` startup logs can be found in `/var/log/syslog`\n",
    "\n",
    "Step:\n",
    "    1. sudo crontab -e\n",
    "    2. insert line: `@reboot \\home\\zwl\\.cron_jupyter.sh`\n",
    "    3. Save and exit"
   ]
  },
  {
   "cell_type": "markdown",
   "metadata": {},
   "source": [
    "### Rethinking / R\n",
    "\n",
    "Create `.Rprofile` file and write the line below for MRO.\n",
    "\n",
    "    options(repos = c(CRAN = \"https://cran.revolutionanalytics.com\"))\n",
    "    \n",
    "`rstan` Installation [here](https://github.com/stan-dev/rstan/wiki/Installing-RStan-on-Mac-or-Linux)\n",
    "\n",
    "First run this, some packages needs openssl headers.\n",
    "\n",
    "    sudo apt-get install libssl-dev\n",
    "    \n",
    "Then run in `R`:\n",
    "\n",
    "    install.packages(\"rstan\", repos = \"https://cloud.r-project.org/\", dependencies=TRUE)\n",
    "    \n",
    "Installing `Rethinking`:\n",
    "\n",
    "    install.packages(c(\"coda\",\"mvtnorm\",\"devtools\",\"loo\"))\n",
    "    library(devtools)\n",
    "    devtools::install_github(\"rmcelreath/rethinking\")\n",
    "    \n",
    "Might need to do a local install:\n",
    "\n",
    "    git clone https://github.com/rmcelreath/rethinking.git\n",
    "    library(devtools)\n",
    "    devtools::install('/home/zwl/git/rethinking/')"
   ]
  },
  {
   "cell_type": "markdown",
   "metadata": {},
   "source": [
    "### TA-Lib\n",
    "\n",
    "Need to install `TA-Lib` c libraries first. Follow instructions on [github](https://github.com/mrjbq7/ta-lib).\n",
    "\n",
    "Download library [here](http://www.ta-lib.org/hdr_dw.html)\n",
    "\n",
    "    untar and cd\n",
    "    ./configure --prefix=/usr\n",
    "    make\n",
    "    umask 022\n",
    "    sudo make install\n",
    "    \n",
    "    pip install TA-Lib"
   ]
  },
  {
   "cell_type": "markdown",
   "metadata": {},
   "source": [
    "## Sublime Text 3\n",
    "\n",
    "User settings / key bindings can be found in Gmail. Labelled as `Code`.\n",
    "\n",
    "Instructions [here](https://realpython.com/blog/python/setting-up-sublime-text-3-for-full-stack-python-development/)\n",
    "\n",
    "Packages installed:\n",
    "\n",
    "    Anaconda\n",
    "    AutoDocstring\n",
    "    GitGutter\n",
    "    Side bar\n",
    "    Markdown Preview\n",
    "    Package Control\n",
    "    Python PEP8 Autoformat\n",
    "    SublimeLinter"
   ]
  },
  {
   "cell_type": "code",
   "execution_count": null,
   "metadata": {
    "collapsed": true
   },
   "outputs": [],
   "source": []
  },
  {
   "cell_type": "markdown",
   "metadata": {},
   "source": [
    "# Chrome Menu Bar Size\n",
    "\n",
    "Follow instructions on this [page](https://superuser.com/questions/1116767/chrome-ui-size-zoom-levels-in-ubuntu-16-04)\n",
    "\n",
    "    sudo gedit /usr/share/applications/google-chrome.desktop\n",
    "    \n",
    "Change the following line:\n",
    "\n",
    "    Exec=/usr/bin/google-chrome-stable --force-device-scale-factor=1.5 %U"
   ]
  },
  {
   "cell_type": "code",
   "execution_count": null,
   "metadata": {
    "collapsed": true
   },
   "outputs": [],
   "source": []
  }
 ],
 "metadata": {
  "kernelspec": {
   "display_name": "Python 3",
   "language": "python",
   "name": "python3"
  },
  "language_info": {
   "codemirror_mode": {
    "name": "ipython",
    "version": 3
   },
   "file_extension": ".py",
   "mimetype": "text/x-python",
   "name": "python",
   "nbconvert_exporter": "python",
   "pygments_lexer": "ipython3",
   "version": "3.6.1"
  }
 },
 "nbformat": 4,
 "nbformat_minor": 2
}
