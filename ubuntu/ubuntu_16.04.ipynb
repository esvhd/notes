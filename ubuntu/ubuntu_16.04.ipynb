{
 "cells": [
  {
   "cell_type": "markdown",
   "metadata": {},
   "source": [
    "# System\n",
    "\n",
    "* Intel Xeon E5-2630v4\n",
    "* Asus X99-E WS motherboard\n",
    "* 2x Nvidia GeForce 1080 Ti Founders"
   ]
  },
  {
   "cell_type": "markdown",
   "metadata": {},
   "source": [
    "# Ubuntu Setup Notes"
   ]
  },
  {
   "cell_type": "markdown",
   "metadata": {},
   "source": [
    "I largely followed this [post](https://blog.slavv.com/the-1700-great-deep-learning-box-assembly-setup-and-benchmarks-148c5ebe6415) for the installation and software configuration instructions. \n",
    "\n",
    "A few additions are needed, perhaps specifically for the hardware I'm using."
   ]
  },
  {
   "cell_type": "markdown",
   "metadata": {},
   "source": [
    "# Partitions\n",
    "\n",
    "* `/` root drive on SSD drive\n",
    "* `/home` **NEVER REFORMAT!!** on spin disk.\n",
    "* `/var` Logs or DB, on spin disk\n",
    "* `/tmp`, ~10GB, on spin disk\n",
    "* `swap space`, 64GB, same as memory, on spin disk"
   ]
  },
  {
   "cell_type": "markdown",
   "metadata": {},
   "source": [
    "## Recovery\n",
    "\n",
    "If system cannot boot up, start with recovery mode. Some kernel versions have problem enabling the keyboard so choose one that works.\n",
    "\n",
    "Once in recovery mode, chose **Enable Network**, this would remove the drives with write mode, which allows `root` to make changes.\n",
    "\n",
    "Once getting out of enable network, go to `root` console. Here you can edit grub or linux kernel boot options. Or, even get rid of packages that caused problems.\n",
    "\n",
    "For updating GRUB:\n",
    "\n",
    "    sudo nano /etc/default/grub\n",
    "    GRUB_CMDLINE_LINUX_DEFAULT=\"quiet splash foo=bar\"\n",
    "    sudo update-grub\n"
   ]
  },
  {
   "cell_type": "markdown",
   "metadata": {},
   "source": [
    "## Random Crashes Aug 2017\n",
    "\n",
    "Recently I've had lots of random feeze-and-crash events with Ubuntu 16.04 LTS, kernel version 4.10.0.33-generic. Nvidia driver version 381.22.\n",
    "\n",
    "2017-09-01: added kernel option in this [post](https://askubuntu.com/questions/761706/ubuntu-15-10-and-16-04-keep-freezing-randomly) in GRUB.\n",
    "\n",
    "    GRUB_CMDLINE_LINUX_DEFAULT=\"quiet splash pcie_aspm=off intel_idle.max_cstate=1\""
   ]
  },
  {
   "cell_type": "markdown",
   "metadata": {},
   "source": [
    "## Ethernet\n",
    "\n",
    "Check network interface with `ifconfig`. In terminal, enable interface with, provided that `eno1` is one of the interfaces:\n",
    "\n",
    "    sudo ip link set down eno1\n",
    "    sudo ip link set up eno1\n",
    "\n",
    "Follow [this](https://askubuntu.com/questions/4901/network-not-starting-up-on-boot) to enable ethernet at boot.\n",
    "\n",
    "    sudo vi /etc/network/interfaces\n",
    "    \n",
    "Add the following if no present:\n",
    "\n",
    "    auto eno1\n",
    "    iface eth0 inet dhcp"
   ]
  },
  {
   "cell_type": "markdown",
   "metadata": {},
   "source": [
    "## Turn off Power Management for WiFi\n",
    "\n",
    "[here](https://itechscotland.wordpress.com/2011/09/25/how-to-permanently-turn-off-wi-fi-power-management-in-ubuntu/) and [here](http://seperohacker.blogspot.co.uk/2015/09/turning-off-wifi-power-management.html) for maximizing WiFi power. Also [here](https://unix.stackexchange.com/questions/269661/how-to-turn-off-wireless-power-management-permanently) for a more recent solution.\n",
    "\n",
    "Run `iwconfig` in terminal to see if power management is turned on for WiFi.\n",
    "\n",
    "To turn off:\n",
    "\n",
    "    sudo iwconfig wlan0 power off\n",
    "\n",
    "Permanent change:\n",
    "    \n",
    "    sudo nano /etc/pm/power.d/wireless\n",
    "\n",
    "Place in file:\n",
    "\n",
    "    #!/bin/bash\n",
    "    /sbin/iwconfig wlan0 power off\n",
    "\n",
    "Edit: `sudo nano /etc/NetworkManager/conf.d/default-wifi-powersave-on.conf`, set `wifi.powersave = 2`."
   ]
  },
  {
   "cell_type": "markdown",
   "metadata": {},
   "source": [
    "## Update Ubuntu Packages\n",
    "\n",
    "Also, I needed to **upgrade to the latest distribution linux kernel for the drivers to work**. For this, I followed the instructions [here](https://askubuntu.com/questions/196768/how-to-install-updates-via-command-line) to update the packages for the distrubtions. The commends needed:\n",
    "\n",
    "    sudo apt-get update        # Fetches the list of available updates\n",
    "    sudo apt-get upgrade       # Strictly upgrades the current packages\n",
    "    sudo apt-get dist-upgrade  # Installs updates (new ones)\n",
    "    "
   ]
  },
  {
   "cell_type": "markdown",
   "metadata": {},
   "source": [
    "## Ubuntu Disable Suspend\n",
    "\n",
    "Follow [this](https://askubuntu.com/questions/452908/how-to-disable-suspend-in-14-04) for version 14.04+. \n",
    "\n",
    "Create a new file with the command below and with the following contents:\n",
    "    \n",
    "    vi /etc/polkit-1/localauthority/50-local.d/com.ubuntu.disable-suspend.pkla\n",
    "\n",
    "    [Disable suspend (upower)]\n",
    "    Identity=unix-user:*\n",
    "    Action=org.freedesktop.upower.suspend\n",
    "    ResultActive=no\n",
    "    ResultInactive=no\n",
    "    ResultAny=no\n",
    "\n",
    "    [Disable suspend (logind)]\n",
    "    Identity=unix-user:*\n",
    "    Action=org.freedesktop.login1.suspend\n",
    "    ResultActive=no\n",
    "    ResultInactive=no\n",
    "    ResultAny=no\n",
    "\n",
    "    [Disable suspend when others are logged in (logind)]\n",
    "    Identity=unix-user:*\n",
    "    Action=org.freedesktop.login1.suspend-multiple-sessions\n",
    "    ResultActive=no\n",
    "    ResultInactive=no\n",
    "    ResultAny=no\n",
    "\n",
    "and then reboot.\n",
    "\n",
    "This tells PolicyKit to automatically say \"no\" whenever anything asks if it's OK/possible to suspend. Logout menus will react to this by automatically removing the 'Suspend' menu choice.\n",
    "\n",
    "I don't quite understand why, but the upower setting is needed for KDE but does not affect Unity. The login1 settings are needed for Unity but do not affect KDE.\n",
    "\n",
    "\n",
    "Some older instructions for earlier version [here](https://askubuntu.com/questions/473037/how-to-permanently-disable-sleep-suspend), can be useful for turning off hibernation. "
   ]
  },
  {
   "cell_type": "markdown",
   "metadata": {},
   "source": [
    "## Disable X screensavers\n",
    "\n",
    "With Nvidia drvier 381.22 + 16.04 LTS my screen would not be turned back on after leaving the machine alone for a while. Turned off suspend but this still happens sometimes. Some argue that Xorg has its own screensaver setting, so have to turn this off also.\n",
    "\n",
    "Based on this [post](https://askubuntu.com/questions/878398/ubuntu-16-04-keeps-turning-off-the-screen-after-10-minutes)\n",
    "\n",
    "Edit `~/.xsessionrc` or `~/.xsession`, add line below:\n",
    "\n",
    "    xset s 0 s blank\n",
    "    xset s off # no screen saver\n",
    "    xset s noblank # no blank screen\n",
    "\n",
    "This [site](https://wiki.archlinux.org/index.php/Display_Power_Management_Signaling) and some other posts pointed to `xset s off` for turning off screen saver.\n",
    "\n",
    "\n",
    "\n",
    "Useful [post](https://unix.stackexchange.com/questions/281858/difference-between-xinitrc-xsession-and-xsessionrc) on the difference between `.xsession` and `.xsessionrc`\n",
    "\n",
    "Note: it turns out this might be a bug in the kernel. See this [link](https://askubuntu.com/questions/929479/black-screen-after-screensaver-blanking)"
   ]
  },
  {
   "cell_type": "markdown",
   "metadata": {},
   "source": [
    "## Mount Apple Time Capsule\n",
    "\n",
    "[Here](https://askubuntu.com/questions/524328/ubuntu-14-04-how-to-connect-to-apples-time-capsule), and [here](https://ineed.coffee/418/how-to-automatically-mount-and-umount-apple-time-capsule-on-linux/)\n",
    "\n",
    "Install packages:\n",
    "\n",
    "    sudo apt-get install cifs-utils\n",
    "    sudo apt-get install smbclient\n",
    "    \n",
    "Update to scripts:\n",
    "\n",
    "    TIMECAPSULE_IP=\"192.168.1.64\"\n",
    "    TIMECAPSULE_VOLUME=\"/Data\"\n",
    "    TIMECAPSULE_PASSWORD=password here"
   ]
  },
  {
   "cell_type": "markdown",
   "metadata": {},
   "source": [
    "## Ubuntu Package Installation\n",
    "\n",
    "Refer to [here](https://askubuntu.com/questions/40779/how-do-i-install-a-deb-file-via-the-command-line) for installing packages. \n",
    "\n",
    "To install a `.deb` package:\n",
    "\n",
    "    sudo dpkg -i DEB_PACKAGE\n",
    "    \n",
    "To reinstall a package:\n",
    "\n",
    "    sudo dpkg -i --reinstall DEB_PACKAGE\n",
    "\n",
    "To resolve package dependency issues:\n",
    "\n",
    "    sudo apt-get install -f\n",
    "    \n",
    "To remove a package:\n",
    "\n",
    "    sudo dpkg -r PACKAGE_NAME"
   ]
  },
  {
   "cell_type": "markdown",
   "metadata": {},
   "source": [
    "## Useful Ubuntu Packages\n",
    "\n",
    "### Disk IO\n",
    "\n",
    "    sudo apt-get install sysstat\n",
    "    \n",
    "Then use `iostat -d 30 /dev/sda5` to monitor `/dev/sda5` with refresh every 30 seconds.\n",
    "\n",
    "### Etc\n",
    "\n",
    "    sudo apt-get install curl\n",
    "    sudo apt-get install git\n",
    "    \n",
    "    # some packages needed for R packages\n",
    "    sudo apt-get install gfortran\n",
    "    sudo apt-get install zlib1g-dev\n",
    "    sudo apt-get install libssl-dev\n",
    "    sudo apt-get install libcurl4-openssl-dev\n",
    "    \n",
    "    \n",
    "    \n",
    "## Unity 8\n",
    "\n",
    "However, it is not supported by Nvidia so not working at thie time of writing... [2017-08-31]\n",
    "\n",
    "    sudo apt-get update && sudo apt-get dist-upgrade\n",
    "    sudo apt-get install unity8-desktop-session-mir"
   ]
  },
  {
   "cell_type": "markdown",
   "metadata": {},
   "source": [
    "## Change Hostname\n",
    "\n",
    "Edit the two files below, replance hostname with new name, reboot. [Source](http://ubuntuhandbook.org/index.php/2016/06/change-hostname-ubuntu-16-04-without-restart/)\n",
    "\n",
    "    sudo nano /etc/hostname\n",
    "    sudo nano /etc/hosts"
   ]
  },
  {
   "cell_type": "markdown",
   "metadata": {},
   "source": [
    "## SSH on Ubuntu\n",
    "\n",
    "Install and start the service on Server (Ubuntu):\n",
    "\n",
    "    sudo apt-get install openssh-server\n",
    "    sudo service ssh status\n",
    "    \n",
    "Set up SSH keys following this [post](https://www.digitalocean.com/community/tutorials/how-to-set-up-ssh-keys--2) on client (e.g. Macbook) (passphrase is optional):\n",
    "\n",
    "    ssh-keygen -t rsa\n",
    "    # replace user@123.45.56.78 with your server user and ip, use ifconfig to find out\n",
    "    ssh-copy-id user@123.45.56.78\n",
    "    \n",
    "Login to server:\n",
    "    \n",
    "    ssh user@host\n",
    "   \n",
    "Run notebooks via SSH tunneling on Client (e.g. Macbook):\n",
    "\n",
    "    # Replace user@host with your server user and ip.\n",
    "    ssh -N -f -L localhost:8888:localhost:8888 user@host\n",
    "    \n",
    "Ubuntu 16.04 LTS by default turns off root login with password. The instructions in the page used `PermitRootLogin without-password`. Ubuntu uses `prohibit-password` as a less ambiguous synonym to `without-password`. "
   ]
  },
  {
   "cell_type": "markdown",
   "metadata": {},
   "source": [
    "# Nvidia Driver / GeForce 1080 Ti Founders\n",
    "\n",
    "    \n",
    "## Best Way to Install Cuda + Nvidia Drivers\n",
    "\n",
    "Follow the instructions [here](http://blog.nelsonliu.me/2017/04/29/installing-and-updating-gtx-1080-ti-cuda-drivers-on-ubuntu/)\n",
    "\n",
    "### Nvidia Driver\n",
    "\n",
    "Use [Ubuntu Graphics Drivers PPA](https://launchpad.net/~graphics-drivers/+archive/ubuntu/ppa). Latest v381.22 is available as of 2017-06-15. \n",
    "\n",
    "    sudo add-apt-repository ppa:graphics-drivers/ppa  \n",
    "    sudo apt-get update\n",
    "    sudo apt-get install nvidia-381\n",
    "    sudo reboot\n",
    "    \n",
    "If this changes the desktop environment, it is because ownership/permission issues in `HOME/.config/`. Runing `chown` and `chgrp -R` would fix it.\n",
    "\n",
    "To remove Nvidia derivers:\n",
    "\n",
    "```\n",
    "sudo apt-get purge nvidia*\n",
    "```\n",
    "    \n",
    "**Note**: As of Nvidia driver version 384.69 that came out on 2017-08-22, `pytorch` correctly sees cuda with `torch.cuda.is_availalbe()` after installing using Nvidia's scripts. This is done on a fresh Ubuntu install. However, after updating Ubuntu packages and a reboot, system failed to boot into X. This [post](http://tipsonubuntu.com/2017/08/23/nvidia-384-69-released-new-gpu-support-fixes/) is very useful in showing how to roll back and uninstall Nvidia official drivers. \n",
    "\n",
    "If you get a black screen after installing the derivers, either remove nvidia drivers in recovery mode, or set `nomodeset` in GRUB:\n",
    "\n",
    "```\n",
    "GRUB_CMDLINE_LINUX_DEFAULT=\"quiet splash nomodeset pcie_aspm=off intel_idle.max_cstate=1\"\n",
    "```\n",
    "\n",
    "**Currently the best way is still to use `ppa:graphics-drivers/ppa` to install version 381.**\n",
    "    \n",
    "Run `nvidia-smi` to confirm driver version is the latest.\n",
    "\n",
    "Compile `/usr/local/cuda/samples/1_Utilities/deviceQuery` to test. \n",
    "\n",
    "### Cuda \n",
    "\n",
    "**Install with runfile, opt out of Nvidia driver installation as it is an older version.**\n",
    "\n",
    "Choose Y for creating symbolic link for `/usr/local/cuda`.\n",
    "\n",
    "**Don't forget to set:** `umask 022`\n",
    "\n",
    "* Add `/usr/local/cuda/bin` to `PATH`\n",
    "* Add `/usr/local/cuda/lib64` to `LD_LIBRARY_PATH`\n",
    "\n",
    "### cuDNN 6.0 for Cuda 8.0\n",
    "\n",
    "Download page [here](https://developer.nvidia.com/rdp/cudnn-download), download both runtime and dev libraries. Perhaps docs if you want to run the tests.\n",
    "\n",
    "Installation guide [here](http://docs.nvidia.com/deeplearning/sdk/cudnn-install/index.html)"
   ]
  },
  {
   "cell_type": "markdown",
   "metadata": {},
   "source": [
    "### PCIe Bus ERROR\n",
    "\n",
    "This was written for Nvidia drvier version 381.22.\n",
    "\n",
    "This seems to be a problem for Asus, X99 chipset & PLX switches issue, according to this [post](https://forums.geforce.com/default/topic/957456/geforce-drivers/gtx-1080-throwing-bad-tlp-pcie-bus-errors/2/). \n",
    "\n",
    "I used one of the suggestions by adding this kernel parameters: `pcie_aspm=off`. This seems to have worked for me so far, no more error messages. **Note: this is causing problem at start up for Nvidia driver v 384.69.**\n",
    "\n",
    "Follow this [page](https://askubuntu.com/questions/19486/how-do-i-add-a-kernel-boot-parameter) on how to add kernel boot options."
   ]
  },
  {
   "cell_type": "markdown",
   "metadata": {},
   "source": [
    "## Previous Failed Attempts\n",
    "\n",
    "A few issues I encountered here:\n",
    "\n",
    "### Driver Installation Issues, version 381.22\n",
    "\n",
    "Had problem with this installation, potentially due to the fact that it was a reinstall. In a reinstall, some GL libs are **skipped** and not installed. Solution was to add manual switches to force them to be reinstalled. \n",
    "\n",
    "However, I still cannot get the `drm` tools to work. \n",
    "\n",
    "The parameters I used:\n",
    "\n",
    "    sudo ./NVIDIA-Linux-x86_64-381.22.run -install-libglvnd -glvnd-glx-client -glvnd-egl-client -no-drm"
   ]
  },
  {
   "cell_type": "markdown",
   "metadata": {},
   "source": [
    "## Others    \n",
    "\n",
    "### Disable Secure Boot\n",
    "\n",
    "Some posts suggested disabling secure book in BIOS helped with the `drm` issue, but this did not work for me."
   ]
  },
  {
   "cell_type": "code",
   "execution_count": null,
   "metadata": {
    "collapsed": true
   },
   "outputs": [],
   "source": []
  },
  {
   "cell_type": "markdown",
   "metadata": {},
   "source": [
    "## Software Updates"
   ]
  },
  {
   "cell_type": "markdown",
   "metadata": {},
   "source": [
    "### Conda\n",
    "\n",
    "Edit `.condarc` to reorder channel priorities."
   ]
  },
  {
   "cell_type": "markdown",
   "metadata": {},
   "source": [
    "### Pytorch, HDBSCAN, Joblib, xarray, etc\n",
    "\n",
    "    conda install pytorch torchvision cuda80 -c soumith\n",
    "    conda install -c conda-forge hdbscan tabulate\n",
    "    conda install -c defaults joblib xarray dask netCDF4 bottleneck holoviews colorcet tqdm\n",
    "    conda install -c conda-forge xarray cartopy pynio # for difficult to build cartopy and pynio.\n",
    "    conda install -c districtdatalabs yellowbrick\n",
    "    conda install -c bokeh datashader\n",
    "    \n",
    "    pip install hypertools\n",
    "    pip install git+https://github.com/bashtage/arch.git\n",
    "    pip install --upgrade google-api-python-client\n",
    "    \n",
    "    # filterpy\n",
    "    git clone https://github.com/rlabbe/filterpy.git\n",
    "    cd filterpy\n",
    "    python setup.py install"
   ]
  },
  {
   "cell_type": "markdown",
   "metadata": {},
   "source": [
    "### Jupyter Notebook \n",
    "\n",
    "#### Password\n",
    "\n",
    "To setup a password for jupyter server, see [here](https://jupyter-notebook.readthedocs.io/en/stable/public_server.html)\n",
    "\n",
    "#### Crontab\n",
    "\n",
    "Useful tip from this [link](https://stackoverflow.com/questions/2229825/where-can-i-set-environment-variables-that-crontab-will-use)\n",
    "\n",
    "Instead of calling `jupyter notebook` directly in the crontab scripts, call a script that sets up the needed environment variables, such as `PYTHONPATH`, to start `jupyter notebook` server. See [this script](./cron_jupyter.sh).\n",
    "\n",
    "`Crontab` startup logs can be found in `/var/log/syslog`\n",
    "\n",
    "Step:\n",
    "    1. sudo crontab -e\n",
    "    2. insert line: `@reboot \\home\\zwl\\.cron_jupyter.sh`\n",
    "    3. Save and exit\n",
    "\n",
    "#### Extension Widgets\n",
    "\n",
    "[`jupyter-contrib-nbextensions`](http://jupyter-contrib-nbextensions.readthedocs.io/en/latest/install.html#enabling-disabling-extensions) has a `2to3 converter` to convert Python 2.x notebooks to 3.x. \n",
    "\n",
    "```\n",
    "pip install jupyter_contrib_nbextensions\n",
    "```"
   ]
  },
  {
   "cell_type": "markdown",
   "metadata": {},
   "source": [
    "## RStudio\n",
    "\n",
    "[Download page](https://www.rstudio.com/products/rstudio/download/)\n",
    "\n",
    "Install package with the following, found [here](https://support.rstudio.com/hc/en-us/community/posts/209074748-Installing-RStudio-Desktop-on-Ubuntu-16-04-LTS). \n",
    "\n",
    "    sudo dpkg -i downloaded_file.deb\n",
    "    sudo apt-get -f install\n",
    "    "
   ]
  },
  {
   "cell_type": "markdown",
   "metadata": {},
   "source": [
    "### Rethinking / R\n",
    "\n",
    "Create `.Rprofile` file and write the line below for MRO.\n",
    "\n",
    "    options(repos = c(CRAN = \"https://cran.revolutionanalytics.com\"))\n",
    "    \n",
    "`rstan` Installation [here](https://github.com/stan-dev/rstan/wiki/Installing-RStan-on-Mac-or-Linux)\n",
    "\n",
    "First run this, some packages needs openssl headers.\n",
    "\n",
    "    sudo apt-get install libssl-dev\n",
    "    \n",
    "Then run in `R`:\n",
    "\n",
    "    install.packages(\"rstan\", repos = \"https://cloud.r-project.org/\", dependencies=TRUE)\n",
    "    \n",
    "Installing `Rethinking`:\n",
    "\n",
    "    install.packages(c(\"coda\",\"mvtnorm\",\"devtools\",\"loo\"))\n",
    "    library(devtools)\n",
    "    devtools::install_github(\"rmcelreath/rethinking\")\n",
    "    \n",
    "Might need to do a local install:\n",
    "\n",
    "    git clone https://github.com/rmcelreath/rethinking.git\n",
    "    library(devtools)\n",
    "    devtools::install('/home/zwl/git/rethinking/')\n",
    "    \n",
    "If SSL authentication issues pop up, need to installed some other packages with `apt-get` first. See section above on useful packages. See this [issue](https://github.com/hadley/devtools/issues/1079), then run:\n",
    "\n",
    "    install.packages(c(\"curl\", \"httr\"))"
   ]
  },
  {
   "cell_type": "markdown",
   "metadata": {},
   "source": [
    "### TA-Lib\n",
    "\n",
    "Need to install `TA-Lib` c libraries first. Follow instructions on [github](https://github.com/mrjbq7/ta-lib).\n",
    "\n",
    "Download library [here](http://www.ta-lib.org/hdr_dw.html)\n",
    "\n",
    "    untar and cd\n",
    "    ./configure --prefix=/usr\n",
    "    make\n",
    "    umask 022\n",
    "    sudo make install\n",
    "    \n",
    "    pip install TA-Lib"
   ]
  },
  {
   "cell_type": "markdown",
   "metadata": {},
   "source": [
    "## Sublime Text 3\n",
    "\n",
    "User settings / key bindings can be found in Gmail. Labelled as `Code`.\n",
    "\n",
    "Instructions [here](https://realpython.com/blog/python/setting-up-sublime-text-3-for-full-stack-python-development/)\n",
    "\n",
    "Packages installed:\n",
    "\n",
    "    Anaconda\n",
    "    AutoDocstring\n",
    "    GitGutter\n",
    "    Side bar\n",
    "    Markdown Preview\n",
    "    Package Control\n",
    "    Python PEP8 Autoformat\n",
    "    SublimeLinter"
   ]
  },
  {
   "cell_type": "code",
   "execution_count": null,
   "metadata": {
    "collapsed": true
   },
   "outputs": [],
   "source": []
  },
  {
   "cell_type": "markdown",
   "metadata": {},
   "source": [
    "# Chrome Menu Bar Size\n",
    "\n",
    "Follow instructions on this [page](https://superuser.com/questions/1116767/chrome-ui-size-zoom-levels-in-ubuntu-16-04)\n",
    "\n",
    "    sudo gedit /usr/share/applications/google-chrome.desktop\n",
    "    \n",
    "Change the following line:\n",
    "\n",
    "    Exec=/usr/bin/google-chrome-stable --force-device-scale-factor=1.5 %U"
   ]
  },
  {
   "cell_type": "code",
   "execution_count": null,
   "metadata": {
    "collapsed": true
   },
   "outputs": [],
   "source": []
  }
 ],
 "metadata": {
  "kernelspec": {
   "display_name": "Python 3",
   "language": "python",
   "name": "python3"
  },
  "language_info": {
   "codemirror_mode": {
    "name": "ipython",
    "version": 3
   },
   "file_extension": ".py",
   "mimetype": "text/x-python",
   "name": "python",
   "nbconvert_exporter": "python",
   "pygments_lexer": "ipython3",
   "version": "3.6.2"
  }
 },
 "nbformat": 4,
 "nbformat_minor": 2
}
