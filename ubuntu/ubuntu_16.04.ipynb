{
 "cells": [
  {
   "cell_type": "markdown",
   "metadata": {},
   "source": [
    "# Ubuntu Setup Notes"
   ]
  },
  {
   "cell_type": "markdown",
   "metadata": {},
   "source": [
    "I largely followed this [post](https://blog.slavv.com/the-1700-great-deep-learning-box-assembly-setup-and-benchmarks-148c5ebe6415) for the installation and software configuration instructions. \n",
    "\n",
    "A few additions are needed, perhaps specifically for the hardware I'm using."
   ]
  },
  {
   "cell_type": "markdown",
   "metadata": {},
   "source": [
    "## Ubuntu Package Installation\n",
    "\n",
    "Refer to [here](https://askubuntu.com/questions/40779/how-do-i-install-a-deb-file-via-the-command-line) for installing packages. \n",
    "\n",
    "To install a `.deb` package:\n",
    "\n",
    "    sudo dpkg -i DEB_PACKAGE\n",
    "\n",
    "To resolve package dependency issues:\n",
    "\n",
    "    sudo apt-get install -f\n",
    "    \n",
    "To remove a package:\n",
    "\n",
    "    sudo dpkg -r PACKAGE_NAME"
   ]
  },
  {
   "cell_type": "markdown",
   "metadata": {},
   "source": [
    "## Nvidia Driver / GeForce 1080 Ti Founders\n",
    "\n",
    "System:\n",
    "\n",
    "Intel Xeon E5-2630v4\n",
    "Asus X99-E WS motherboard\n",
    "2x Nvidia GeForce 1080 Ti\n",
    "\n",
    "A few issues I encountered here:\n",
    "\n",
    "\n",
    "### Driver Installation Issues, version 381.22\n",
    "\n",
    "Had problem with this installation, potentially due to the fact that it was a reinstall. In a reinstall, some GL libs are **skipped** and not installed. Solution was to add manual switches to force them to be reinstalled. \n",
    "\n",
    "However, I still cannot get the `drm` tools to work. \n",
    "\n",
    "The parameters I used:\n",
    "\n",
    "    sudo ./NVIDIA-Linux-x86_64-381.22.run -install-libglvnd -glvnd-glx-client -glvnd-egl-client -no-drm\n",
    "\n",
    "Also, I needed to **upgrade to the latest distribution linux kernel for the drivers to work**. For this, I followed the instructions [here](https://askubuntu.com/questions/196768/how-to-install-updates-via-command-line) to update the packages for the distrubtions. The commends needed:\n",
    "\n",
    "    sudo apt-get update        # Fetches the list of available updates\n",
    "    sudo apt-get upgrade       # Strictly upgrades the current packages\n",
    "    sudo apt-get dist-upgrade  # Installs updates (new ones)\n",
    "    \n",
    "\n",
    "### Disable Secure Boot\n",
    "\n",
    "Some posts suggested disabling secure book in BIOS helped with the `drm` issue, but this did not work for me.\n",
    "\n"
   ]
  },
  {
   "cell_type": "markdown",
   "metadata": {},
   "source": [
    "### PCIe Bus ERROR\n",
    "\n",
    "This seems to be a problem for Asus, X99 chipset & PLX switches issue, according to this [post](https://forums.geforce.com/default/topic/957456/geforce-drivers/gtx-1080-throwing-bad-tlp-pcie-bus-errors/2/). \n",
    "\n",
    "I used one of the suggestions by adding this kernel parameters: `pcie_aspm=off`. This seems to have worked for me so far, no more error messages."
   ]
  },
  {
   "cell_type": "code",
   "execution_count": null,
   "metadata": {
    "collapsed": true
   },
   "outputs": [],
   "source": []
  },
  {
   "cell_type": "markdown",
   "metadata": {},
   "source": [
    "## Software Updates\n",
    "\n",
    "### `xarray` for Anaconda\n",
    "\n",
    "    conda install -c conda-forge xarray cartopy pynio"
   ]
  },
  {
   "cell_type": "markdown",
   "metadata": {},
   "source": [
    "### Rethinking / R\n",
    "\n",
    "Create `.Rprofile` file and write the line below for MRO.\n",
    "\n",
    "    options(repos = c(CRAN = \"https://cran.revolutionanalytics.com\"))\n",
    "    \n",
    "`rstan` Installation [here](https://github.com/stan-dev/rstan/wiki/Installing-RStan-on-Mac-or-Linux)\n",
    "\n",
    "    install.packages(\"rstan\", repos = \"https://cloud.r-project.org/\", dependencies=TRUE)\n",
    "    \n",
    "Installing `Rethinking`:\n",
    "\n",
    "    install.packages(c(\"coda\",\"mvtnorm\",\"devtools\",\"loo\"))\n",
    "    library(devtools)\n",
    "    devtools::install_github(\"rmcelreath/rethinking\")"
   ]
  },
  {
   "cell_type": "code",
   "execution_count": null,
   "metadata": {
    "collapsed": true
   },
   "outputs": [],
   "source": []
  }
 ],
 "metadata": {
  "kernelspec": {
   "display_name": "Python 3",
   "language": "python",
   "name": "python3"
  },
  "language_info": {
   "codemirror_mode": {
    "name": "ipython",
    "version": 3
   },
   "file_extension": ".py",
   "mimetype": "text/x-python",
   "name": "python",
   "nbconvert_exporter": "python",
   "pygments_lexer": "ipython3",
   "version": "3.6.1"
  }
 },
 "nbformat": 4,
 "nbformat_minor": 2
}
